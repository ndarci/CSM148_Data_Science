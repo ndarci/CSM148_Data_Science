{
 "cells": [
  {
   "cell_type": "markdown",
   "metadata": {},
   "source": [
    "# CS M148 Project 2 - Binary Classification Methods"
   ]
  },
  {
   "cell_type": "markdown",
   "metadata": {},
   "source": [
    "For this project we're going to attempt a binary classification of a dataset using multiple methods and compare results. \n",
    "\n",
    "Our goals for this project will be to introduce you to several of the most common classification techniques, how to perform them and tweek parameters to optimize outcomes, how to produce and interpret results, and compare performance. You will be asked to analyze your findings and provide explanations for observed performance. \n",
    "\n",
    "Specifically you will be asked to classify whether a **patient is suffering from heart disease** based on a host of potential medical factors.\n",
    "\n",
    "**DEFINITIONS**\n",
    "\n",
    "**Binary Classification:** In this case a complex dataset has an added 'target' label with one of two options. Your learning algorithm will try to assign one of these labels to the data.\n",
    "\n",
    "**Supervised Learning:** This data is fully supervised, which means it's been fully labeled and we can trust the veracity of the labeling."
   ]
  },
  {
   "cell_type": "markdown",
   "metadata": {},
   "source": [
    "## Background: The Dataset "
   ]
  },
  {
   "cell_type": "markdown",
   "metadata": {},
   "source": [
    "For this exercise we will be using a subset of the UCI Heart Disease dataset, leveraging the fourteen most commonly used attributes. All identifying information about the patient has been scrubbed. \n",
    "\n",
    "The dataset includes 14 columns. The information provided by each column is as follows:\n",
    "- **age:** Age in years\n",
    "- **sex:** (1 = male; 0 = female)\n",
    "- **cp:** Chest pain type (0 = asymptomatic; 1 = atypical angina; 2 = non-anginal pain; 3 = typical angina)\n",
    "- **trestbps:** Resting blood pressure (in mm Hg on admission to the hospital)\n",
    "- **cholserum:** Cholestoral in mg/dl\n",
    "- **fbs** Fasting blood sugar > 120 mg/dl (1 = true; 0 = false)\n",
    "- **restecg:** Resting electrocardiographic results (0= showing probable or definite left ventricular hypertrophy by Estes' criteria; 1 = normal; 2 = having ST-T wave abnormality (T wave inversions and/or ST elevation or depression of > 0.05 mV))\n",
    "- **thalach:** Maximum heart rate achieved\n",
    "- **exang:** Exercise induced angina (1 = yes; 0 = no)\n",
    "- **oldpeakST:** Depression induced by exercise relative to rest\n",
    "- **slope:** The slope of the peak exercise ST segment (0 = downsloping; 1 = flat; 2 = upsloping)\n",
    "- **ca:** Number of major vessels (0-4) colored by flourosopy\n",
    "- **thal:** 1 = normal; 2 = fixed defect; 3 = reversable defect\n",
    "- **sick:** Indicates the presence of Heart disease (True = Disease; False = No disease)\n",
    "\n",
    "`sick` is the label that you will be predicting."
   ]
  },
  {
   "cell_type": "markdown",
   "metadata": {},
   "source": [
    "## Loading Essentials and Helper Functions "
   ]
  },
  {
   "cell_type": "code",
   "execution_count": 99,
   "metadata": {},
   "outputs": [],
   "source": [
    "# Here are a set of libraries we imported to complete this assignment. \n",
    "# Feel free to use these or equivalent libraries for your implementation\n",
    "# If you can run this cell without any errors, you're ready to go.\n",
    "import numpy as np # linear algebra\n",
    "import pandas as pd # data processing, CSV file I/O (e.g. pd.read_csv)\n",
    "import matplotlib.pyplot as plt # this is used for the plot the graph \n",
    "\n",
    "import seaborn as sns # used for plot interactive graph.\n",
    "from sklearn.model_selection import train_test_split, cross_val_score, GridSearchCV\n",
    "from sklearn import metrics\n",
    "from sklearn.svm import SVC  \n",
    "from sklearn.linear_model import LogisticRegression\n",
    "from sklearn.neighbors import KNeighborsClassifier\n",
    "from sklearn.tree import DecisionTreeClassifier\n",
    "from sklearn.cluster import KMeans\n",
    "from sklearn.metrics import confusion_matrix\n",
    "import sklearn.metrics.cluster as smc\n",
    "from matplotlib import pyplot\n",
    "\n",
    "from sklearn.pipeline import Pipeline\n",
    "from sklearn.preprocessing import StandardScaler\n",
    "from sklearn.preprocessing import OneHotEncoder\n",
    "from sklearn.compose import ColumnTransformer\n",
    "\n",
    "import os\n",
    "import itertools\n",
    "import random \n",
    "\n",
    "%matplotlib inline\n",
    "\n",
    "random.seed(148) "
   ]
  },
  {
   "cell_type": "code",
   "execution_count": 100,
   "metadata": {},
   "outputs": [],
   "source": [
    "# Helper function allowing you to export a graph\n",
    "def save_fig(fig_id, tight_layout=True, fig_extension=\"png\", resolution=300):\n",
    "    path = os.path.join(fig_id + \".\" + fig_extension)\n",
    "    print(\"Saving figure\", fig_id)\n",
    "    if tight_layout:\n",
    "        plt.tight_layout()\n",
    "    plt.savefig(path, format=fig_extension, dpi=resolution)"
   ]
  },
  {
   "cell_type": "code",
   "execution_count": 101,
   "metadata": {},
   "outputs": [],
   "source": [
    "# Helper function that allows you to draw nicely formatted confusion matrices\n",
    "def draw_confusion_matrix(y, yhat, classes):\n",
    "    '''\n",
    "        Draws a confusion matrix for the given target and predictions\n",
    "        Adapted from scikit-learn example.\n",
    "    '''\n",
    "    plt.cla()\n",
    "    plt.clf()\n",
    "    matrix = confusion_matrix(y, yhat)\n",
    "    plt.imshow(matrix, interpolation='nearest', cmap=plt.cm.Blues)\n",
    "    plt.title(\"Confusion Matrix\")\n",
    "    plt.colorbar()\n",
    "    num_classes = len(classes)\n",
    "    plt.xticks(np.arange(num_classes), classes, rotation=90)\n",
    "    plt.yticks(np.arange(num_classes), classes)\n",
    "    \n",
    "    fmt = 'd'\n",
    "    thresh = matrix.max() / 2.\n",
    "    for i, j in itertools.product(range(matrix.shape[0]), range(matrix.shape[1])):\n",
    "        plt.text(j, i, format(matrix[i, j], fmt),\n",
    "                 horizontalalignment=\"center\",\n",
    "                 color=\"white\" if matrix[i, j] > thresh else \"black\")\n",
    "\n",
    "    plt.ylabel('True label')\n",
    "    plt.xlabel('Predicted label')\n",
    "    plt.tight_layout()\n",
    "    plt.show()"
   ]
  },
  {
   "cell_type": "markdown",
   "metadata": {},
   "source": [
    "## Part 1. Load the Data and Analyze"
   ]
  },
  {
   "cell_type": "markdown",
   "metadata": {},
   "source": [
    "Let's load our dataset so we can work with it (correct the path if your notebook is in a different directory than the .csv file)."
   ]
  },
  {
   "cell_type": "code",
   "execution_count": 102,
   "metadata": {},
   "outputs": [],
   "source": [
    "heart0 = pd.read_csv('heartdisease.csv')"
   ]
  },
  {
   "cell_type": "markdown",
   "metadata": {},
   "source": [
    "### Question 1.1 \n",
    "\n",
    "Now that our data is loaded, let's take a closer look at the dataset we're working with. Use the head method, the describe method, and the info method to display some of the rows so we can visualize the types of data fields we'll be working with."
   ]
  },
  {
   "cell_type": "code",
   "execution_count": 103,
   "metadata": {},
   "outputs": [
    {
     "data": {
      "text/html": [
       "<div>\n",
       "<style scoped>\n",
       "    .dataframe tbody tr th:only-of-type {\n",
       "        vertical-align: middle;\n",
       "    }\n",
       "\n",
       "    .dataframe tbody tr th {\n",
       "        vertical-align: top;\n",
       "    }\n",
       "\n",
       "    .dataframe thead th {\n",
       "        text-align: right;\n",
       "    }\n",
       "</style>\n",
       "<table border=\"1\" class=\"dataframe\">\n",
       "  <thead>\n",
       "    <tr style=\"text-align: right;\">\n",
       "      <th></th>\n",
       "      <th>age</th>\n",
       "      <th>sex</th>\n",
       "      <th>cp</th>\n",
       "      <th>trestbps</th>\n",
       "      <th>chol</th>\n",
       "      <th>fbs</th>\n",
       "      <th>restecg</th>\n",
       "      <th>thalach</th>\n",
       "      <th>exang</th>\n",
       "      <th>oldpeak</th>\n",
       "      <th>slope</th>\n",
       "      <th>ca</th>\n",
       "      <th>thal</th>\n",
       "      <th>sick</th>\n",
       "    </tr>\n",
       "  </thead>\n",
       "  <tbody>\n",
       "    <tr>\n",
       "      <td>0</td>\n",
       "      <td>63</td>\n",
       "      <td>1</td>\n",
       "      <td>3</td>\n",
       "      <td>145</td>\n",
       "      <td>233</td>\n",
       "      <td>1</td>\n",
       "      <td>0</td>\n",
       "      <td>150</td>\n",
       "      <td>0</td>\n",
       "      <td>2.3</td>\n",
       "      <td>0</td>\n",
       "      <td>0</td>\n",
       "      <td>1</td>\n",
       "      <td>False</td>\n",
       "    </tr>\n",
       "    <tr>\n",
       "      <td>1</td>\n",
       "      <td>37</td>\n",
       "      <td>1</td>\n",
       "      <td>2</td>\n",
       "      <td>130</td>\n",
       "      <td>250</td>\n",
       "      <td>0</td>\n",
       "      <td>1</td>\n",
       "      <td>187</td>\n",
       "      <td>0</td>\n",
       "      <td>3.5</td>\n",
       "      <td>0</td>\n",
       "      <td>0</td>\n",
       "      <td>2</td>\n",
       "      <td>False</td>\n",
       "    </tr>\n",
       "    <tr>\n",
       "      <td>2</td>\n",
       "      <td>41</td>\n",
       "      <td>0</td>\n",
       "      <td>1</td>\n",
       "      <td>130</td>\n",
       "      <td>204</td>\n",
       "      <td>0</td>\n",
       "      <td>0</td>\n",
       "      <td>172</td>\n",
       "      <td>0</td>\n",
       "      <td>1.4</td>\n",
       "      <td>2</td>\n",
       "      <td>0</td>\n",
       "      <td>2</td>\n",
       "      <td>False</td>\n",
       "    </tr>\n",
       "    <tr>\n",
       "      <td>3</td>\n",
       "      <td>56</td>\n",
       "      <td>1</td>\n",
       "      <td>1</td>\n",
       "      <td>120</td>\n",
       "      <td>236</td>\n",
       "      <td>0</td>\n",
       "      <td>1</td>\n",
       "      <td>178</td>\n",
       "      <td>0</td>\n",
       "      <td>0.8</td>\n",
       "      <td>2</td>\n",
       "      <td>0</td>\n",
       "      <td>2</td>\n",
       "      <td>False</td>\n",
       "    </tr>\n",
       "    <tr>\n",
       "      <td>4</td>\n",
       "      <td>57</td>\n",
       "      <td>0</td>\n",
       "      <td>0</td>\n",
       "      <td>120</td>\n",
       "      <td>354</td>\n",
       "      <td>0</td>\n",
       "      <td>1</td>\n",
       "      <td>163</td>\n",
       "      <td>1</td>\n",
       "      <td>0.6</td>\n",
       "      <td>2</td>\n",
       "      <td>0</td>\n",
       "      <td>2</td>\n",
       "      <td>False</td>\n",
       "    </tr>\n",
       "  </tbody>\n",
       "</table>\n",
       "</div>"
      ],
      "text/plain": [
       "   age  sex  cp  trestbps  chol  fbs  restecg  thalach  exang  oldpeak  slope  \\\n",
       "0   63    1   3       145   233    1        0      150      0      2.3      0   \n",
       "1   37    1   2       130   250    0        1      187      0      3.5      0   \n",
       "2   41    0   1       130   204    0        0      172      0      1.4      2   \n",
       "3   56    1   1       120   236    0        1      178      0      0.8      2   \n",
       "4   57    0   0       120   354    0        1      163      1      0.6      2   \n",
       "\n",
       "   ca  thal   sick  \n",
       "0   0     1  False  \n",
       "1   0     2  False  \n",
       "2   0     2  False  \n",
       "3   0     2  False  \n",
       "4   0     2  False  "
      ]
     },
     "execution_count": 103,
     "metadata": {},
     "output_type": "execute_result"
    }
   ],
   "source": [
    "# Your code here\n",
    "# You may use separate cells if you'd like (one for `head`, one for `describe`, etc.)\n",
    "\n",
    "# show first few rows of the data\n",
    "heart0.head()"
   ]
  },
  {
   "cell_type": "code",
   "execution_count": 104,
   "metadata": {},
   "outputs": [
    {
     "name": "stdout",
     "output_type": "stream",
     "text": [
      "<class 'pandas.core.frame.DataFrame'>\n",
      "RangeIndex: 303 entries, 0 to 302\n",
      "Data columns (total 14 columns):\n",
      "age         303 non-null int64\n",
      "sex         303 non-null int64\n",
      "cp          303 non-null int64\n",
      "trestbps    303 non-null int64\n",
      "chol        303 non-null int64\n",
      "fbs         303 non-null int64\n",
      "restecg     303 non-null int64\n",
      "thalach     303 non-null int64\n",
      "exang       303 non-null int64\n",
      "oldpeak     303 non-null float64\n",
      "slope       303 non-null int64\n",
      "ca          303 non-null int64\n",
      "thal        303 non-null int64\n",
      "sick        303 non-null bool\n",
      "dtypes: bool(1), float64(1), int64(12)\n",
      "memory usage: 31.2 KB\n"
     ]
    }
   ],
   "source": [
    "# show data types of each column\n",
    "heart0.info()"
   ]
  },
  {
   "cell_type": "code",
   "execution_count": 105,
   "metadata": {},
   "outputs": [
    {
     "data": {
      "text/html": [
       "<div>\n",
       "<style scoped>\n",
       "    .dataframe tbody tr th:only-of-type {\n",
       "        vertical-align: middle;\n",
       "    }\n",
       "\n",
       "    .dataframe tbody tr th {\n",
       "        vertical-align: top;\n",
       "    }\n",
       "\n",
       "    .dataframe thead th {\n",
       "        text-align: right;\n",
       "    }\n",
       "</style>\n",
       "<table border=\"1\" class=\"dataframe\">\n",
       "  <thead>\n",
       "    <tr style=\"text-align: right;\">\n",
       "      <th></th>\n",
       "      <th>age</th>\n",
       "      <th>sex</th>\n",
       "      <th>cp</th>\n",
       "      <th>trestbps</th>\n",
       "      <th>chol</th>\n",
       "      <th>fbs</th>\n",
       "      <th>restecg</th>\n",
       "      <th>thalach</th>\n",
       "      <th>exang</th>\n",
       "      <th>oldpeak</th>\n",
       "      <th>slope</th>\n",
       "      <th>ca</th>\n",
       "      <th>thal</th>\n",
       "    </tr>\n",
       "  </thead>\n",
       "  <tbody>\n",
       "    <tr>\n",
       "      <td>count</td>\n",
       "      <td>303.000000</td>\n",
       "      <td>303.000000</td>\n",
       "      <td>303.000000</td>\n",
       "      <td>303.000000</td>\n",
       "      <td>303.000000</td>\n",
       "      <td>303.000000</td>\n",
       "      <td>303.000000</td>\n",
       "      <td>303.000000</td>\n",
       "      <td>303.000000</td>\n",
       "      <td>303.000000</td>\n",
       "      <td>303.000000</td>\n",
       "      <td>303.000000</td>\n",
       "      <td>303.000000</td>\n",
       "    </tr>\n",
       "    <tr>\n",
       "      <td>mean</td>\n",
       "      <td>54.366337</td>\n",
       "      <td>0.683168</td>\n",
       "      <td>0.966997</td>\n",
       "      <td>131.623762</td>\n",
       "      <td>246.264026</td>\n",
       "      <td>0.148515</td>\n",
       "      <td>0.528053</td>\n",
       "      <td>149.646865</td>\n",
       "      <td>0.326733</td>\n",
       "      <td>1.039604</td>\n",
       "      <td>1.399340</td>\n",
       "      <td>0.729373</td>\n",
       "      <td>2.313531</td>\n",
       "    </tr>\n",
       "    <tr>\n",
       "      <td>std</td>\n",
       "      <td>9.082101</td>\n",
       "      <td>0.466011</td>\n",
       "      <td>1.032052</td>\n",
       "      <td>17.538143</td>\n",
       "      <td>51.830751</td>\n",
       "      <td>0.356198</td>\n",
       "      <td>0.525860</td>\n",
       "      <td>22.905161</td>\n",
       "      <td>0.469794</td>\n",
       "      <td>1.161075</td>\n",
       "      <td>0.616226</td>\n",
       "      <td>1.022606</td>\n",
       "      <td>0.612277</td>\n",
       "    </tr>\n",
       "    <tr>\n",
       "      <td>min</td>\n",
       "      <td>29.000000</td>\n",
       "      <td>0.000000</td>\n",
       "      <td>0.000000</td>\n",
       "      <td>94.000000</td>\n",
       "      <td>126.000000</td>\n",
       "      <td>0.000000</td>\n",
       "      <td>0.000000</td>\n",
       "      <td>71.000000</td>\n",
       "      <td>0.000000</td>\n",
       "      <td>0.000000</td>\n",
       "      <td>0.000000</td>\n",
       "      <td>0.000000</td>\n",
       "      <td>0.000000</td>\n",
       "    </tr>\n",
       "    <tr>\n",
       "      <td>25%</td>\n",
       "      <td>47.500000</td>\n",
       "      <td>0.000000</td>\n",
       "      <td>0.000000</td>\n",
       "      <td>120.000000</td>\n",
       "      <td>211.000000</td>\n",
       "      <td>0.000000</td>\n",
       "      <td>0.000000</td>\n",
       "      <td>133.500000</td>\n",
       "      <td>0.000000</td>\n",
       "      <td>0.000000</td>\n",
       "      <td>1.000000</td>\n",
       "      <td>0.000000</td>\n",
       "      <td>2.000000</td>\n",
       "    </tr>\n",
       "    <tr>\n",
       "      <td>50%</td>\n",
       "      <td>55.000000</td>\n",
       "      <td>1.000000</td>\n",
       "      <td>1.000000</td>\n",
       "      <td>130.000000</td>\n",
       "      <td>240.000000</td>\n",
       "      <td>0.000000</td>\n",
       "      <td>1.000000</td>\n",
       "      <td>153.000000</td>\n",
       "      <td>0.000000</td>\n",
       "      <td>0.800000</td>\n",
       "      <td>1.000000</td>\n",
       "      <td>0.000000</td>\n",
       "      <td>2.000000</td>\n",
       "    </tr>\n",
       "    <tr>\n",
       "      <td>75%</td>\n",
       "      <td>61.000000</td>\n",
       "      <td>1.000000</td>\n",
       "      <td>2.000000</td>\n",
       "      <td>140.000000</td>\n",
       "      <td>274.500000</td>\n",
       "      <td>0.000000</td>\n",
       "      <td>1.000000</td>\n",
       "      <td>166.000000</td>\n",
       "      <td>1.000000</td>\n",
       "      <td>1.600000</td>\n",
       "      <td>2.000000</td>\n",
       "      <td>1.000000</td>\n",
       "      <td>3.000000</td>\n",
       "    </tr>\n",
       "    <tr>\n",
       "      <td>max</td>\n",
       "      <td>77.000000</td>\n",
       "      <td>1.000000</td>\n",
       "      <td>3.000000</td>\n",
       "      <td>200.000000</td>\n",
       "      <td>564.000000</td>\n",
       "      <td>1.000000</td>\n",
       "      <td>2.000000</td>\n",
       "      <td>202.000000</td>\n",
       "      <td>1.000000</td>\n",
       "      <td>6.200000</td>\n",
       "      <td>2.000000</td>\n",
       "      <td>4.000000</td>\n",
       "      <td>3.000000</td>\n",
       "    </tr>\n",
       "  </tbody>\n",
       "</table>\n",
       "</div>"
      ],
      "text/plain": [
       "              age         sex          cp    trestbps        chol         fbs  \\\n",
       "count  303.000000  303.000000  303.000000  303.000000  303.000000  303.000000   \n",
       "mean    54.366337    0.683168    0.966997  131.623762  246.264026    0.148515   \n",
       "std      9.082101    0.466011    1.032052   17.538143   51.830751    0.356198   \n",
       "min     29.000000    0.000000    0.000000   94.000000  126.000000    0.000000   \n",
       "25%     47.500000    0.000000    0.000000  120.000000  211.000000    0.000000   \n",
       "50%     55.000000    1.000000    1.000000  130.000000  240.000000    0.000000   \n",
       "75%     61.000000    1.000000    2.000000  140.000000  274.500000    0.000000   \n",
       "max     77.000000    1.000000    3.000000  200.000000  564.000000    1.000000   \n",
       "\n",
       "          restecg     thalach       exang     oldpeak       slope          ca  \\\n",
       "count  303.000000  303.000000  303.000000  303.000000  303.000000  303.000000   \n",
       "mean     0.528053  149.646865    0.326733    1.039604    1.399340    0.729373   \n",
       "std      0.525860   22.905161    0.469794    1.161075    0.616226    1.022606   \n",
       "min      0.000000   71.000000    0.000000    0.000000    0.000000    0.000000   \n",
       "25%      0.000000  133.500000    0.000000    0.000000    1.000000    0.000000   \n",
       "50%      1.000000  153.000000    0.000000    0.800000    1.000000    0.000000   \n",
       "75%      1.000000  166.000000    1.000000    1.600000    2.000000    1.000000   \n",
       "max      2.000000  202.000000    1.000000    6.200000    2.000000    4.000000   \n",
       "\n",
       "             thal  \n",
       "count  303.000000  \n",
       "mean     2.313531  \n",
       "std      0.612277  \n",
       "min      0.000000  \n",
       "25%      2.000000  \n",
       "50%      2.000000  \n",
       "75%      3.000000  \n",
       "max      3.000000  "
      ]
     },
     "execution_count": 105,
     "metadata": {},
     "output_type": "execute_result"
    }
   ],
   "source": [
    "# show stats of numerical features\n",
    "heart0.describe()"
   ]
  },
  {
   "cell_type": "markdown",
   "metadata": {},
   "source": [
    "### Question 1.2\n",
    "Sometimes data will be stored in different formats (e.g., string, date, boolean), but many learning methods work strictly on numeric inputs. Call the info method to determine the datafield type for each column. Are there any that are problemmatic and why?"
   ]
  },
  {
   "cell_type": "markdown",
   "metadata": {},
   "source": [
    "[Use this area to describe any fields you believe will be problemmatic and why] E.g., All the columns in our dataframe are numeric (either int or float), however our target variable 'sick' is a boolean and may need to be modified."
   ]
  },
  {
   "cell_type": "markdown",
   "metadata": {},
   "source": [
    "I think the `cp`, `restecg`, `slope`, and `thal` features will be problematic, and all for the same reason: they are encoded categorically, but the things that each number respresents don't follow a reasonable linear pattern. For example, the `thal` column encodes 1 = normal; 2 = fixed defect; 3 = reversable defect. It doesn't seem right to say that a reversable defect is \"more\" than a fixed defect.\n",
    "\n",
    "To fix each of these, I would most likely one-hot encode them, or in the case of the `thal` column, I might swap the \"fixed defect\" and \"reversable defect\" encodings, since that might cause it to be a reasonable progression through three states.\n",
    "\n",
    "Also, it may be needed to change the `sick` column from TRUE/FALSE to 1/0."
   ]
  },
  {
   "cell_type": "markdown",
   "metadata": {},
   "source": [
    "### Question 1.3\n",
    "Determine if we're dealing with any null values. If so, report which columns."
   ]
  },
  {
   "cell_type": "code",
   "execution_count": 106,
   "metadata": {},
   "outputs": [
    {
     "data": {
      "text/plain": [
       "age         0\n",
       "sex         0\n",
       "cp          0\n",
       "trestbps    0\n",
       "chol        0\n",
       "fbs         0\n",
       "restecg     0\n",
       "thalach     0\n",
       "exang       0\n",
       "oldpeak     0\n",
       "slope       0\n",
       "ca          0\n",
       "thal        0\n",
       "sick        0\n",
       "dtype: int64"
      ]
     },
     "execution_count": 106,
     "metadata": {},
     "output_type": "execute_result"
    }
   ],
   "source": [
    "# sum of isnull results will tell us total amount of nulls in each column\n",
    "heart0.isnull().sum()"
   ]
  },
  {
   "cell_type": "markdown",
   "metadata": {},
   "source": [
    "...looks like there are no nulls in the entire dataframe."
   ]
  },
  {
   "cell_type": "code",
   "execution_count": 107,
   "metadata": {},
   "outputs": [
    {
     "data": {
      "text/html": [
       "<div>\n",
       "<style scoped>\n",
       "    .dataframe tbody tr th:only-of-type {\n",
       "        vertical-align: middle;\n",
       "    }\n",
       "\n",
       "    .dataframe tbody tr th {\n",
       "        vertical-align: top;\n",
       "    }\n",
       "\n",
       "    .dataframe thead th {\n",
       "        text-align: right;\n",
       "    }\n",
       "</style>\n",
       "<table border=\"1\" class=\"dataframe\">\n",
       "  <thead>\n",
       "    <tr style=\"text-align: right;\">\n",
       "      <th></th>\n",
       "      <th>sex</th>\n",
       "      <th>cp</th>\n",
       "      <th>fbs</th>\n",
       "      <th>restecg</th>\n",
       "      <th>exang</th>\n",
       "      <th>slope</th>\n",
       "      <th>ca</th>\n",
       "      <th>thal</th>\n",
       "      <th>sick</th>\n",
       "    </tr>\n",
       "  </thead>\n",
       "  <tbody>\n",
       "    <tr>\n",
       "      <td>0</td>\n",
       "      <td>96.0</td>\n",
       "      <td>143.0</td>\n",
       "      <td>258.0</td>\n",
       "      <td>147.0</td>\n",
       "      <td>204.0</td>\n",
       "      <td>21.0</td>\n",
       "      <td>175</td>\n",
       "      <td>2.0</td>\n",
       "      <td>165.0</td>\n",
       "    </tr>\n",
       "    <tr>\n",
       "      <td>1</td>\n",
       "      <td>207.0</td>\n",
       "      <td>50.0</td>\n",
       "      <td>45.0</td>\n",
       "      <td>152.0</td>\n",
       "      <td>99.0</td>\n",
       "      <td>140.0</td>\n",
       "      <td>65</td>\n",
       "      <td>18.0</td>\n",
       "      <td>138.0</td>\n",
       "    </tr>\n",
       "    <tr>\n",
       "      <td>2</td>\n",
       "      <td>NaN</td>\n",
       "      <td>87.0</td>\n",
       "      <td>NaN</td>\n",
       "      <td>4.0</td>\n",
       "      <td>NaN</td>\n",
       "      <td>142.0</td>\n",
       "      <td>38</td>\n",
       "      <td>166.0</td>\n",
       "      <td>NaN</td>\n",
       "    </tr>\n",
       "    <tr>\n",
       "      <td>3</td>\n",
       "      <td>NaN</td>\n",
       "      <td>23.0</td>\n",
       "      <td>NaN</td>\n",
       "      <td>NaN</td>\n",
       "      <td>NaN</td>\n",
       "      <td>NaN</td>\n",
       "      <td>20</td>\n",
       "      <td>117.0</td>\n",
       "      <td>NaN</td>\n",
       "    </tr>\n",
       "    <tr>\n",
       "      <td>4</td>\n",
       "      <td>NaN</td>\n",
       "      <td>NaN</td>\n",
       "      <td>NaN</td>\n",
       "      <td>NaN</td>\n",
       "      <td>NaN</td>\n",
       "      <td>NaN</td>\n",
       "      <td>5</td>\n",
       "      <td>NaN</td>\n",
       "      <td>NaN</td>\n",
       "    </tr>\n",
       "  </tbody>\n",
       "</table>\n",
       "</div>"
      ],
      "text/plain": [
       "     sex     cp    fbs  restecg  exang  slope   ca   thal   sick\n",
       "0   96.0  143.0  258.0    147.0  204.0   21.0  175    2.0  165.0\n",
       "1  207.0   50.0   45.0    152.0   99.0  140.0   65   18.0  138.0\n",
       "2    NaN   87.0    NaN      4.0    NaN  142.0   38  166.0    NaN\n",
       "3    NaN   23.0    NaN      NaN    NaN    NaN   20  117.0    NaN\n",
       "4    NaN    NaN    NaN      NaN    NaN    NaN    5    NaN    NaN"
      ]
     },
     "execution_count": 107,
     "metadata": {},
     "output_type": "execute_result"
    }
   ],
   "source": [
    "# also: check that all categorical variables only include the levels they have a category specified for\n",
    "heart0[['sex', 'cp', 'fbs', 'restecg', 'exang', 'slope', 'ca', 'thal', 'sick']].apply(pd.Series.value_counts)"
   ]
  },
  {
   "cell_type": "markdown",
   "metadata": {},
   "source": [
    "Here, we notice that two samples have a value of 0 for `thal`, which is invalid... we'll need to handle those rows somehow"
   ]
  },
  {
   "cell_type": "markdown",
   "metadata": {},
   "source": [
    "### Question 1.4\n",
    "Before we begin our analysis we need to fix the field(s) that will be problematic. Specifically convert our boolean `sick` variable into a binary numeric target variable (values of either '0' or '1'), and then drop the original `sick` datafield from the dataframe."
   ]
  },
  {
   "cell_type": "code",
   "execution_count": 108,
   "metadata": {},
   "outputs": [
    {
     "data": {
      "text/html": [
       "<div>\n",
       "<style scoped>\n",
       "    .dataframe tbody tr th:only-of-type {\n",
       "        vertical-align: middle;\n",
       "    }\n",
       "\n",
       "    .dataframe tbody tr th {\n",
       "        vertical-align: top;\n",
       "    }\n",
       "\n",
       "    .dataframe thead th {\n",
       "        text-align: right;\n",
       "    }\n",
       "</style>\n",
       "<table border=\"1\" class=\"dataframe\">\n",
       "  <thead>\n",
       "    <tr style=\"text-align: right;\">\n",
       "      <th></th>\n",
       "      <th>age</th>\n",
       "      <th>sex</th>\n",
       "      <th>cp</th>\n",
       "      <th>trestbps</th>\n",
       "      <th>chol</th>\n",
       "      <th>fbs</th>\n",
       "      <th>restecg</th>\n",
       "      <th>thalach</th>\n",
       "      <th>exang</th>\n",
       "      <th>oldpeak</th>\n",
       "      <th>slope</th>\n",
       "      <th>ca</th>\n",
       "      <th>thal</th>\n",
       "      <th>sick</th>\n",
       "    </tr>\n",
       "  </thead>\n",
       "  <tbody>\n",
       "    <tr>\n",
       "      <td>0</td>\n",
       "      <td>63</td>\n",
       "      <td>1</td>\n",
       "      <td>3</td>\n",
       "      <td>145</td>\n",
       "      <td>233</td>\n",
       "      <td>1</td>\n",
       "      <td>0</td>\n",
       "      <td>150</td>\n",
       "      <td>0</td>\n",
       "      <td>2.3</td>\n",
       "      <td>0</td>\n",
       "      <td>0</td>\n",
       "      <td>1</td>\n",
       "      <td>0</td>\n",
       "    </tr>\n",
       "    <tr>\n",
       "      <td>1</td>\n",
       "      <td>37</td>\n",
       "      <td>1</td>\n",
       "      <td>2</td>\n",
       "      <td>130</td>\n",
       "      <td>250</td>\n",
       "      <td>0</td>\n",
       "      <td>1</td>\n",
       "      <td>187</td>\n",
       "      <td>0</td>\n",
       "      <td>3.5</td>\n",
       "      <td>0</td>\n",
       "      <td>0</td>\n",
       "      <td>2</td>\n",
       "      <td>0</td>\n",
       "    </tr>\n",
       "    <tr>\n",
       "      <td>2</td>\n",
       "      <td>41</td>\n",
       "      <td>0</td>\n",
       "      <td>1</td>\n",
       "      <td>130</td>\n",
       "      <td>204</td>\n",
       "      <td>0</td>\n",
       "      <td>0</td>\n",
       "      <td>172</td>\n",
       "      <td>0</td>\n",
       "      <td>1.4</td>\n",
       "      <td>2</td>\n",
       "      <td>0</td>\n",
       "      <td>2</td>\n",
       "      <td>0</td>\n",
       "    </tr>\n",
       "    <tr>\n",
       "      <td>3</td>\n",
       "      <td>56</td>\n",
       "      <td>1</td>\n",
       "      <td>1</td>\n",
       "      <td>120</td>\n",
       "      <td>236</td>\n",
       "      <td>0</td>\n",
       "      <td>1</td>\n",
       "      <td>178</td>\n",
       "      <td>0</td>\n",
       "      <td>0.8</td>\n",
       "      <td>2</td>\n",
       "      <td>0</td>\n",
       "      <td>2</td>\n",
       "      <td>0</td>\n",
       "    </tr>\n",
       "    <tr>\n",
       "      <td>4</td>\n",
       "      <td>57</td>\n",
       "      <td>0</td>\n",
       "      <td>0</td>\n",
       "      <td>120</td>\n",
       "      <td>354</td>\n",
       "      <td>0</td>\n",
       "      <td>1</td>\n",
       "      <td>163</td>\n",
       "      <td>1</td>\n",
       "      <td>0.6</td>\n",
       "      <td>2</td>\n",
       "      <td>0</td>\n",
       "      <td>2</td>\n",
       "      <td>0</td>\n",
       "    </tr>\n",
       "  </tbody>\n",
       "</table>\n",
       "</div>"
      ],
      "text/plain": [
       "   age  sex  cp  trestbps  chol  fbs  restecg  thalach  exang  oldpeak  slope  \\\n",
       "0   63    1   3       145   233    1        0      150      0      2.3      0   \n",
       "1   37    1   2       130   250    0        1      187      0      3.5      0   \n",
       "2   41    0   1       130   204    0        0      172      0      1.4      2   \n",
       "3   56    1   1       120   236    0        1      178      0      0.8      2   \n",
       "4   57    0   0       120   354    0        1      163      1      0.6      2   \n",
       "\n",
       "   ca  thal  sick  \n",
       "0   0     1     0  \n",
       "1   0     2     0  \n",
       "2   0     2     0  \n",
       "3   0     2     0  \n",
       "4   0     2     0  "
      ]
     },
     "execution_count": 108,
     "metadata": {},
     "output_type": "execute_result"
    }
   ],
   "source": [
    "# convert boolean sick to int sick\n",
    "heart = heart0.copy()\n",
    "heart['sick'] = list(map(int, heart['sick']))\n",
    "heart.head()"
   ]
  },
  {
   "cell_type": "code",
   "execution_count": 109,
   "metadata": {},
   "outputs": [
    {
     "name": "stdout",
     "output_type": "stream",
     "text": [
      "['age', 'sex', 'trestbps', 'chol', 'fbs', 'thalach', 'exang', 'oldpeak', 'ca', 'sick']\n",
      "['slope', 'restecg', 'thal', 'cp']\n"
     ]
    },
    {
     "data": {
      "text/html": [
       "<div>\n",
       "<style scoped>\n",
       "    .dataframe tbody tr th:only-of-type {\n",
       "        vertical-align: middle;\n",
       "    }\n",
       "\n",
       "    .dataframe tbody tr th {\n",
       "        vertical-align: top;\n",
       "    }\n",
       "\n",
       "    .dataframe thead th {\n",
       "        text-align: right;\n",
       "    }\n",
       "</style>\n",
       "<table border=\"1\" class=\"dataframe\">\n",
       "  <thead>\n",
       "    <tr style=\"text-align: right;\">\n",
       "      <th></th>\n",
       "      <th>slope_0</th>\n",
       "      <th>slope_1</th>\n",
       "      <th>slope_2</th>\n",
       "      <th>restecg_0</th>\n",
       "      <th>restecg_1</th>\n",
       "      <th>restecg_2</th>\n",
       "      <th>thal_0</th>\n",
       "      <th>thal_1</th>\n",
       "      <th>thal_2</th>\n",
       "      <th>thal_3</th>\n",
       "      <th>cp_0</th>\n",
       "      <th>cp_1</th>\n",
       "      <th>cp_2</th>\n",
       "      <th>cp_3</th>\n",
       "    </tr>\n",
       "  </thead>\n",
       "  <tbody>\n",
       "    <tr>\n",
       "      <td>0</td>\n",
       "      <td>1.0</td>\n",
       "      <td>0.0</td>\n",
       "      <td>0.0</td>\n",
       "      <td>1.0</td>\n",
       "      <td>0.0</td>\n",
       "      <td>0.0</td>\n",
       "      <td>0.0</td>\n",
       "      <td>1.0</td>\n",
       "      <td>0.0</td>\n",
       "      <td>0.0</td>\n",
       "      <td>0.0</td>\n",
       "      <td>0.0</td>\n",
       "      <td>0.0</td>\n",
       "      <td>1.0</td>\n",
       "    </tr>\n",
       "    <tr>\n",
       "      <td>1</td>\n",
       "      <td>1.0</td>\n",
       "      <td>0.0</td>\n",
       "      <td>0.0</td>\n",
       "      <td>0.0</td>\n",
       "      <td>1.0</td>\n",
       "      <td>0.0</td>\n",
       "      <td>0.0</td>\n",
       "      <td>0.0</td>\n",
       "      <td>1.0</td>\n",
       "      <td>0.0</td>\n",
       "      <td>0.0</td>\n",
       "      <td>0.0</td>\n",
       "      <td>1.0</td>\n",
       "      <td>0.0</td>\n",
       "    </tr>\n",
       "    <tr>\n",
       "      <td>2</td>\n",
       "      <td>0.0</td>\n",
       "      <td>0.0</td>\n",
       "      <td>1.0</td>\n",
       "      <td>1.0</td>\n",
       "      <td>0.0</td>\n",
       "      <td>0.0</td>\n",
       "      <td>0.0</td>\n",
       "      <td>0.0</td>\n",
       "      <td>1.0</td>\n",
       "      <td>0.0</td>\n",
       "      <td>0.0</td>\n",
       "      <td>1.0</td>\n",
       "      <td>0.0</td>\n",
       "      <td>0.0</td>\n",
       "    </tr>\n",
       "    <tr>\n",
       "      <td>3</td>\n",
       "      <td>0.0</td>\n",
       "      <td>0.0</td>\n",
       "      <td>1.0</td>\n",
       "      <td>0.0</td>\n",
       "      <td>1.0</td>\n",
       "      <td>0.0</td>\n",
       "      <td>0.0</td>\n",
       "      <td>0.0</td>\n",
       "      <td>1.0</td>\n",
       "      <td>0.0</td>\n",
       "      <td>0.0</td>\n",
       "      <td>1.0</td>\n",
       "      <td>0.0</td>\n",
       "      <td>0.0</td>\n",
       "    </tr>\n",
       "    <tr>\n",
       "      <td>4</td>\n",
       "      <td>0.0</td>\n",
       "      <td>0.0</td>\n",
       "      <td>1.0</td>\n",
       "      <td>0.0</td>\n",
       "      <td>1.0</td>\n",
       "      <td>0.0</td>\n",
       "      <td>0.0</td>\n",
       "      <td>0.0</td>\n",
       "      <td>1.0</td>\n",
       "      <td>0.0</td>\n",
       "      <td>1.0</td>\n",
       "      <td>0.0</td>\n",
       "      <td>0.0</td>\n",
       "      <td>0.0</td>\n",
       "    </tr>\n",
       "  </tbody>\n",
       "</table>\n",
       "</div>"
      ],
      "text/plain": [
       "   slope_0  slope_1  slope_2  restecg_0  restecg_1  restecg_2  thal_0  thal_1  \\\n",
       "0      1.0      0.0      0.0        1.0        0.0        0.0     0.0     1.0   \n",
       "1      1.0      0.0      0.0        0.0        1.0        0.0     0.0     0.0   \n",
       "2      0.0      0.0      1.0        1.0        0.0        0.0     0.0     0.0   \n",
       "3      0.0      0.0      1.0        0.0        1.0        0.0     0.0     0.0   \n",
       "4      0.0      0.0      1.0        0.0        1.0        0.0     0.0     0.0   \n",
       "\n",
       "   thal_2  thal_3  cp_0  cp_1  cp_2  cp_3  \n",
       "0     0.0     0.0   0.0   0.0   0.0   1.0  \n",
       "1     1.0     0.0   0.0   0.0   1.0   0.0  \n",
       "2     1.0     0.0   0.0   1.0   0.0   0.0  \n",
       "3     1.0     0.0   0.0   1.0   0.0   0.0  \n",
       "4     1.0     0.0   1.0   0.0   0.0   0.0  "
      ]
     },
     "execution_count": 109,
     "metadata": {},
     "output_type": "execute_result"
    }
   ],
   "source": [
    "# one hot encode the columns I think shouldn't be categorical\n",
    "\n",
    "# keep track of numerical and categorical features (categorical features that work as numerical ones belong in 'num')\n",
    "num = ['age', 'sex', 'trestbps', 'chol', 'fbs', 'thalach', 'exang', 'oldpeak', 'ca', 'sick']\n",
    "cat = list(set(heart.columns) - set(num))\n",
    "print(num)\n",
    "print(cat)\n",
    "\n",
    "# run the one hot encoder\n",
    "ohe = OneHotEncoder(categories = 'auto')\n",
    "cat_onehot = ohe.fit_transform(heart[cat])\n",
    "\n",
    "# get new onehot-encoded variables\n",
    "cat_onehot = pd.DataFrame(cat_onehot.toarray(), columns = ohe.get_feature_names(cat))\n",
    "cat_onehot.head()"
   ]
  },
  {
   "cell_type": "code",
   "execution_count": 110,
   "metadata": {},
   "outputs": [
    {
     "name": "stdout",
     "output_type": "stream",
     "text": [
      "<class 'pandas.core.frame.DataFrame'>\n",
      "RangeIndex: 303 entries, 0 to 302\n",
      "Data columns (total 23 columns):\n",
      "age          303 non-null int64\n",
      "sex          303 non-null int64\n",
      "trestbps     303 non-null int64\n",
      "chol         303 non-null int64\n",
      "fbs          303 non-null int64\n",
      "thalach      303 non-null int64\n",
      "exang        303 non-null int64\n",
      "oldpeak      303 non-null float64\n",
      "ca           303 non-null int64\n",
      "sick         303 non-null int64\n",
      "slope_0      303 non-null float64\n",
      "slope_1      303 non-null float64\n",
      "slope_2      303 non-null float64\n",
      "restecg_0    303 non-null float64\n",
      "restecg_1    303 non-null float64\n",
      "restecg_2    303 non-null float64\n",
      "thal_1       303 non-null float64\n",
      "thal_2       303 non-null float64\n",
      "thal_3       303 non-null float64\n",
      "cp_0         303 non-null float64\n",
      "cp_1         303 non-null float64\n",
      "cp_2         303 non-null float64\n",
      "cp_3         303 non-null float64\n",
      "dtypes: float64(14), int64(9)\n",
      "memory usage: 54.6 KB\n"
     ]
    }
   ],
   "source": [
    "# update the categorical features with OHE version in the original data\n",
    "heart = pd.concat([heart[num], cat_onehot], axis = 1)\n",
    "# remove thal_0 column, we don't know what that means\n",
    "heart = heart.drop('thal_0', axis = 1)\n",
    "heart.info()"
   ]
  },
  {
   "cell_type": "markdown",
   "metadata": {},
   "source": [
    "### Question 1.5\n",
    "Now that we have a feel for the data-types for each of the variables, plot histograms of each field and attempt to get a feel of how each variable performs (for example, is it a binary, or limited selection, or does it follow a gradient)? "
   ]
  },
  {
   "cell_type": "code",
   "execution_count": 111,
   "metadata": {},
   "outputs": [
    {
     "data": {
      "image/png": "[encoded data removed]",
      "text/plain": [
       "<Figure size 1440x1080 with 25 Axes>"
      ]
     },
     "metadata": {
      "needs_background": "light"
     },
     "output_type": "display_data"
    }
   ],
   "source": [
    "heart.hist(bins = 20, figsize=(20,15))\n",
    "plt.show()"
   ]
  },
  {
   "cell_type": "markdown",
   "metadata": {},
   "source": [
    "### Question 1.6\n",
    "We also want to make sure we are dealing with a balanced dataset. In this case, we want to confirm whether or not we have an equitable number of  sick and healthy individuals to ensure that our classifier will have a sufficiently balanced dataset to adequately classify the two. Plot a histogram specifically of the sick target, and conduct a count of the number of sick and healthy individuals and report on the results."
   ]
  },
  {
   "cell_type": "code",
   "execution_count": 112,
   "metadata": {},
   "outputs": [
    {
     "data": {
      "text/plain": [
       "<matplotlib.axes._subplots.AxesSubplot at 0x7fd1e4e46990>"
      ]
     },
     "execution_count": 112,
     "metadata": {},
     "output_type": "execute_result"
    },
    {
     "data": {
      "image/png": "[encoded data removed]",
      "text/plain": [
       "<Figure size 720x720 with 1 Axes>"
      ]
     },
     "metadata": {
      "needs_background": "light"
     },
     "output_type": "display_data"
    }
   ],
   "source": [
    "# plot distribution of sick variable\n",
    "heart['sick'].hist(bins = 10, figsize = (10,10))"
   ]
  },
  {
   "cell_type": "code",
   "execution_count": 113,
   "metadata": {},
   "outputs": [
    {
     "name": "stdout",
     "output_type": "stream",
     "text": [
      "cases: 138\n",
      "controls: 165\n",
      "Percent cases = 0.45544554455445546\n"
     ]
    }
   ],
   "source": [
    "# count number of cases and controls\n",
    "cases = sum(heart['sick'])\n",
    "controls = len(heart['sick']) - cases\n",
    "print(\"cases: \" + str(cases))\n",
    "print(\"controls: \" + str(controls))\n",
    "print(\"Percent cases = \" + str(cases/len(heart['sick'])))"
   ]
  },
  {
   "cell_type": "markdown",
   "metadata": {},
   "source": [
    "[Include description of findings here] E.g., As we can see, our sample contains xxx healthy individuals and yyy sick individuals, which reflects a [your conclusion here]."
   ]
  },
  {
   "cell_type": "markdown",
   "metadata": {},
   "source": [
    "The sample has 165 healthy and 138 sick individuals, meaning 45% of the sample is sick. This is very close to an ideally balanced sample (50/50). I don't think we will run into any issues with case/control balance in this analysis."
   ]
  },
  {
   "cell_type": "markdown",
   "metadata": {},
   "source": [
    "### Question 1.7 \n",
    "Balanced datasets are important to ensure that classifiers train adequately and don't overfit, however arbitrary balancing of a dataset might introduce its own issues. Discuss some of the problems that might arise by artificially balancing a dataset."
   ]
  },
  {
   "cell_type": "markdown",
   "metadata": {},
   "source": [
    "[You answer here] E.g., artificially inflating numbers to balance a dataset may result in xxx. Concurrently showing statistically uncommon events as likely may result in yyy."
   ]
  },
  {
   "cell_type": "markdown",
   "metadata": {},
   "source": [
    "Ways to artificially balance a dataset:\n",
    "* Downsample the majority group - the downside of this method is that your sample size will decrease, thus increasing the amount of bias your sample will contain relative to the full population and decreasing power.\n",
    "* Augment/synthesize more members of the minority group - the downside here is that whatever variance exists in the known minority samples will be inflated in the synthesized samples."
   ]
  },
  {
   "cell_type": "markdown",
   "metadata": {},
   "source": [
    "### Question 1.8\n",
    "Now that we have our dataframe prepared let's start analyzing our data. For this next question let's look at the correlations of our variables to our target value. First, map out the correlations between the values, and then discuss the relationships you observe. Do some research on the variables to understand why they may relate to the observed corellations (get some domain knowledge). Intuitively, why do you think some variables correlate more highly than others? Also discuss some pairs of variables that have very little correlation and why this might be the case for them.\n",
    "\n",
    "Hint: one possible approach you can use the `sns.heatmap()` function to map the corr() method. Note: if your heatmap is not entirely visible, [this link](https://github.com/mwaskom/seaborn/issues/1773#issuecomment-546466986) may be helpful in solving the issue."
   ]
  },
  {
   "cell_type": "code",
   "execution_count": 114,
   "metadata": {},
   "outputs": [
    {
     "data": {
      "image/png": "[encoded data removed]",
      "text/plain": [
       "<Figure size 720x576 with 2 Axes>"
      ]
     },
     "metadata": {},
     "output_type": "display_data"
    }
   ],
   "source": [
    "# compute correlations between every pair of variables\n",
    "cortable = heart.corr(method = 'pearson')\n",
    "\n",
    "# plot correlations in a heatmap\n",
    "sns.set(rc = {'figure.figsize':(10, 8)})\n",
    "sns.heatmap(cortable, vmin = -1, vmax = 1, cmap = 'coolwarm')\n",
    "\n",
    "# fix for mpl bug that cuts off top/bottom of seaborn viz\n",
    "b, t = plt.ylim() # discover the values for bottom and top\n",
    "b += 0.5 # Add 0.5 to the bottom\n",
    "t -= 0.5 # Subtract 0.5 from the top\n",
    "plt.ylim(b, t) # update the ylim(bottom, top) values\n",
    "plt.show() # ta-da!"
   ]
  },
  {
   "cell_type": "code",
   "execution_count": 115,
   "metadata": {},
   "outputs": [
    {
     "data": {
      "text/plain": [
       "thal_2      -0.527334\n",
       "thalach     -0.421741\n",
       "slope_2     -0.394066\n",
       "cp_2        -0.316742\n",
       "cp_1        -0.245879\n",
       "restecg_1   -0.175322\n",
       "cp_3        -0.086957\n",
       "fbs          0.028046\n",
       "slope_0      0.063554\n",
       "restecg_2    0.068410\n",
       "chol         0.085239\n",
       "thal_1       0.106589\n",
       "trestbps     0.144931\n",
       "restecg_0    0.159775\n",
       "age          0.225439\n",
       "sex          0.280937\n",
       "slope_1      0.362053\n",
       "ca           0.391724\n",
       "oldpeak      0.430696\n",
       "exang        0.436757\n",
       "thal_3       0.486112\n",
       "cp_0         0.516015\n",
       "sick         1.000000\n",
       "Name: sick, dtype: float64"
      ]
     },
     "execution_count": 115,
     "metadata": {},
     "output_type": "execute_result"
    }
   ],
   "source": [
    "# print sorted correlation coefficients with sick column\n",
    "cortable['sick'].sort_values()"
   ]
  },
  {
   "cell_type": "markdown",
   "metadata": {},
   "source": [
    "[Discuss correlations here] E.g., We find the the strongest direct correlation between the presence of exercise induced angina (also a binary), and depression induced by exercise relative to rest indicates a strong direct correlation. Both of these are understandable as heart failure under conditions of duress is a clear indication of heart disease. Conversely, maximum heart rate achieved is inversely correlated, likely as a healthy heart is unable to achieve a high heart rate."
   ]
  },
  {
   "cell_type": "markdown",
   "metadata": {},
   "source": [
    "The 3 strongest _positive_ correlations with 'sick' are: \n",
    "* No chest pain\n",
    "* Reversible defect found in thallium stress test\n",
    "* Exercise-induced angina \n",
    "\n",
    "    I learned that the thallium stress test uses radiolabeled thallium isotopes to image blood flow through the heart, so a problem detected in that test would be backed up by a physician's judgement. Exercise-induced angina means that the patient experiences angina (not enough blood flow to the heart, resulting in bad chest/neck/shoulder pain) when they start exercising. Both of these seem to be indicators that the patient has a heart condition, meaning the `thal_3` and `exang` correlations make sense to me here. However, it's counterintuitive to me that `cp_0` is so positively correlated... I'd expect no chest pain to indicate no heart disease. Maybe people aren't self-reporting their chest pain accurately/honestly?\n",
    "\n",
    "The 3 strongest _negative_ correlations with 'sick' are:\n",
    "* \"Fixed\" defect found in thallium stress test\n",
    "* Maximum heart rate achieved\n",
    "* Upsloping exercise ST segment\n",
    "\n",
    "    Here, it makes intuitive sense that a healthy heart would be able to achieve a higher max heart rate than a sick heart, so I understand why max heart rate would be negatively correlated with being sick. However, it's odd that these other two features show up as negatively correlated... I learned that an upsloping ST segment can indicate the presence of a blocked left anterior descending artery (AKA the cause of the \"widowmaker\" heart attack), so I would expect that to be strongly _positively_ correlated with heart disease. Similarly, I'd expect the presence of a defect in the thallium stress test to indicate heart disease, not against heart disease. This could have to do with interpretation of the word \"fixed\", maybe it means \"repaired\" rather than \"irreversible\"? Online sources seemed to indicate either could be the case."
   ]
  },
  {
   "cell_type": "code",
   "execution_count": 116,
   "metadata": {},
   "outputs": [
    {
     "data": {
      "text/html": [
       "<div>\n",
       "<style scoped>\n",
       "    .dataframe tbody tr th:only-of-type {\n",
       "        vertical-align: middle;\n",
       "    }\n",
       "\n",
       "    .dataframe tbody tr th {\n",
       "        vertical-align: top;\n",
       "    }\n",
       "\n",
       "    .dataframe thead th {\n",
       "        text-align: right;\n",
       "    }\n",
       "</style>\n",
       "<table border=\"1\" class=\"dataframe\">\n",
       "  <thead>\n",
       "    <tr style=\"text-align: right;\">\n",
       "      <th></th>\n",
       "      <th>sick</th>\n",
       "    </tr>\n",
       "    <tr>\n",
       "      <th>cp</th>\n",
       "      <th></th>\n",
       "    </tr>\n",
       "  </thead>\n",
       "  <tbody>\n",
       "    <tr>\n",
       "      <td>0</td>\n",
       "      <td>0.727273</td>\n",
       "    </tr>\n",
       "    <tr>\n",
       "      <td>1</td>\n",
       "      <td>0.180000</td>\n",
       "    </tr>\n",
       "    <tr>\n",
       "      <td>2</td>\n",
       "      <td>0.206897</td>\n",
       "    </tr>\n",
       "    <tr>\n",
       "      <td>3</td>\n",
       "      <td>0.304348</td>\n",
       "    </tr>\n",
       "  </tbody>\n",
       "</table>\n",
       "</div>"
      ],
      "text/plain": [
       "        sick\n",
       "cp          \n",
       "0   0.727273\n",
       "1   0.180000\n",
       "2   0.206897\n",
       "3   0.304348"
      ]
     },
     "execution_count": 116,
     "metadata": {},
     "output_type": "execute_result"
    }
   ],
   "source": [
    "# check proportion of sick people in each chest pain group from the raw data... this does line up with the weird correlation\n",
    "heart0[['cp', 'sick']].groupby('cp').mean()"
   ]
  },
  {
   "cell_type": "code",
   "execution_count": 117,
   "metadata": {},
   "outputs": [
    {
     "data": {
      "text/html": [
       "<div>\n",
       "<style scoped>\n",
       "    .dataframe tbody tr th:only-of-type {\n",
       "        vertical-align: middle;\n",
       "    }\n",
       "\n",
       "    .dataframe tbody tr th {\n",
       "        vertical-align: top;\n",
       "    }\n",
       "\n",
       "    .dataframe thead th {\n",
       "        text-align: right;\n",
       "    }\n",
       "</style>\n",
       "<table border=\"1\" class=\"dataframe\">\n",
       "  <thead>\n",
       "    <tr style=\"text-align: right;\">\n",
       "      <th></th>\n",
       "      <th>sick</th>\n",
       "    </tr>\n",
       "    <tr>\n",
       "      <th>slope</th>\n",
       "      <th></th>\n",
       "    </tr>\n",
       "  </thead>\n",
       "  <tbody>\n",
       "    <tr>\n",
       "      <td>0</td>\n",
       "      <td>0.571429</td>\n",
       "    </tr>\n",
       "    <tr>\n",
       "      <td>1</td>\n",
       "      <td>0.650000</td>\n",
       "    </tr>\n",
       "    <tr>\n",
       "      <td>2</td>\n",
       "      <td>0.246479</td>\n",
       "    </tr>\n",
       "  </tbody>\n",
       "</table>\n",
       "</div>"
      ],
      "text/plain": [
       "           sick\n",
       "slope          \n",
       "0      0.571429\n",
       "1      0.650000\n",
       "2      0.246479"
      ]
     },
     "execution_count": 117,
     "metadata": {},
     "output_type": "execute_result"
    }
   ],
   "source": [
    "# same with slope:\n",
    "heart0[['slope', 'sick']].groupby('slope').mean()"
   ]
  },
  {
   "cell_type": "code",
   "execution_count": 118,
   "metadata": {},
   "outputs": [
    {
     "data": {
      "text/html": [
       "<div>\n",
       "<style scoped>\n",
       "    .dataframe tbody tr th:only-of-type {\n",
       "        vertical-align: middle;\n",
       "    }\n",
       "\n",
       "    .dataframe tbody tr th {\n",
       "        vertical-align: top;\n",
       "    }\n",
       "\n",
       "    .dataframe thead th {\n",
       "        text-align: right;\n",
       "    }\n",
       "</style>\n",
       "<table border=\"1\" class=\"dataframe\">\n",
       "  <thead>\n",
       "    <tr style=\"text-align: right;\">\n",
       "      <th></th>\n",
       "      <th>sick</th>\n",
       "    </tr>\n",
       "    <tr>\n",
       "      <th>thal</th>\n",
       "      <th></th>\n",
       "    </tr>\n",
       "  </thead>\n",
       "  <tbody>\n",
       "    <tr>\n",
       "      <td>0</td>\n",
       "      <td>0.500000</td>\n",
       "    </tr>\n",
       "    <tr>\n",
       "      <td>1</td>\n",
       "      <td>0.666667</td>\n",
       "    </tr>\n",
       "    <tr>\n",
       "      <td>2</td>\n",
       "      <td>0.216867</td>\n",
       "    </tr>\n",
       "    <tr>\n",
       "      <td>3</td>\n",
       "      <td>0.760684</td>\n",
       "    </tr>\n",
       "  </tbody>\n",
       "</table>\n",
       "</div>"
      ],
      "text/plain": [
       "          sick\n",
       "thal          \n",
       "0     0.500000\n",
       "1     0.666667\n",
       "2     0.216867\n",
       "3     0.760684"
      ]
     },
     "execution_count": 118,
     "metadata": {},
     "output_type": "execute_result"
    }
   ],
   "source": [
    "# also same with thal (ignore row 0):\n",
    "heart0[['thal', 'sick']].groupby('thal').mean()"
   ]
  },
  {
   "cell_type": "markdown",
   "metadata": {},
   "source": [
    "## Part 2. Prepare the Data"
   ]
  },
  {
   "cell_type": "markdown",
   "metadata": {},
   "source": [
    "Before running our various learning methods, we need to do some additional prep to finalize our data. Specifically you'll have to cut the classification target from the data that will be used to classify, and then you'll have to divide the dataset into training and testing cohorts.\n",
    "\n",
    "We're going to ask you to prepare 2 batches of data:\n",
    "1. Raw numeric data that hasn't gone through any additional pre-processing.\n",
    "2. Data that you pipeline using your own selected methods. We will then feed both of these datasets into a classifier to showcase just how important this step can be!"
   ]
  },
  {
   "cell_type": "code",
   "execution_count": 119,
   "metadata": {},
   "outputs": [],
   "source": [
    "# function to report on how well a model did\n",
    "def modelPerformance(lab, pred):\n",
    "    print(\"Accuracy: \" + str(metrics.accuracy_score(lab, pred)))\n",
    "    print(\"Precision: \" + str(metrics.precision_score(lab, pred)))\n",
    "    print(\"Recall: \" + str(metrics.recall_score(lab, pred)))\n",
    "    print(\"F1 score: \" + str(metrics.f1_score(lab, pred)))"
   ]
  },
  {
   "cell_type": "markdown",
   "metadata": {},
   "source": [
    "### Question 2.1\n",
    "Save the target column as a separate array and then drop it from the dataframe. "
   ]
  },
  {
   "cell_type": "code",
   "execution_count": 120,
   "metadata": {},
   "outputs": [
    {
     "name": "stdout",
     "output_type": "stream",
     "text": [
      "<class 'pandas.core.frame.DataFrame'>\n",
      "RangeIndex: 303 entries, 0 to 302\n",
      "Data columns (total 13 columns):\n",
      "age         303 non-null int64\n",
      "sex         303 non-null int64\n",
      "cp          303 non-null int64\n",
      "trestbps    303 non-null int64\n",
      "chol        303 non-null int64\n",
      "fbs         303 non-null int64\n",
      "restecg     303 non-null int64\n",
      "thalach     303 non-null int64\n",
      "exang       303 non-null int64\n",
      "oldpeak     303 non-null float64\n",
      "slope       303 non-null int64\n",
      "ca          303 non-null int64\n",
      "thal        303 non-null int64\n",
      "dtypes: float64(1), int64(12)\n",
      "memory usage: 30.9 KB\n"
     ]
    }
   ],
   "source": [
    "# save response variable from original data\n",
    "heart0_y = list(map(int, heart0['sick']))\n",
    "\n",
    "# get all predictor variables from original data\n",
    "heart0_x = heart0.drop('sick', axis = 1)\n",
    "heart0_x.info()"
   ]
  },
  {
   "cell_type": "markdown",
   "metadata": {},
   "source": [
    "### Question 2.2\n",
    "Create your 'Raw' unprocessed training data by dividing your dataframe into training and testing cohorts, with your training cohort consisting of 85% of your total dataframe (hint: use the `train_test_split` method). Output the resulting shapes of your training and testing samples to confirm that your split was successful."
   ]
  },
  {
   "cell_type": "code",
   "execution_count": 121,
   "metadata": {},
   "outputs": [
    {
     "name": "stdout",
     "output_type": "stream",
     "text": [
      "(257, 13)\n",
      "257\n",
      "(46, 13)\n",
      "46\n"
     ]
    }
   ],
   "source": [
    "train_raw, test_raw, train_raw_lab, test_raw_lab = train_test_split(heart0_x, heart0_y, train_size = 0.85, random_state = 22)\n",
    "\n",
    "print(train_raw.shape)\n",
    "print(len(train_raw_lab))\n",
    "print(test_raw.shape)\n",
    "print(len(test_raw_lab))"
   ]
  },
  {
   "cell_type": "markdown",
   "metadata": {},
   "source": [
    "Looks like the split was successful. "
   ]
  },
  {
   "cell_type": "markdown",
   "metadata": {},
   "source": [
    "### Question 2.3\n",
    "In lecture we learned about K-Nearest Neighbor. One thing we noted was because KNN rlies on Euclidean distance, they are highly sensitive to the relative magnitude of different features. Let's see that in action! Implement a KNN algorithm on our data (use `scikit-learn`) and report the results. For this initial implementation simply use the default settings. Report on the accuracy of the resulting model."
   ]
  },
  {
   "cell_type": "code",
   "execution_count": 122,
   "metadata": {},
   "outputs": [
    {
     "name": "stdout",
     "output_type": "stream",
     "text": [
      "Accuracy: 0.5869565217391305\n",
      "Precision: 0.43478260869565216\n",
      "Recall: 0.625\n",
      "F1 score: 0.5128205128205128\n"
     ]
    }
   ],
   "source": [
    "# initialize a KNN model\n",
    "knc_raw = KNeighborsClassifier()\n",
    "\n",
    "# fit this model to the training data\n",
    "trainfit_raw = knc_raw.fit(train_raw, train_raw_lab)\n",
    "\n",
    "# use the fit to predict the test labels\n",
    "testpred_raw = knc_raw.predict(test_raw)\n",
    "\n",
    "# evaluate accuracy of the model\n",
    "modelPerformance(testpred_raw, test_raw_lab)"
   ]
  },
  {
   "cell_type": "markdown",
   "metadata": {},
   "source": [
    "### Question 2.4 \n",
    "Now implement a pipeline of your choice to transform the data. You can opt to handle null values and categoricals however you wish, however please scale your numeric features using standard scaler. Refer to Project 1 for a example pipeline that you can mimic."
   ]
  },
  {
   "cell_type": "code",
   "execution_count": 123,
   "metadata": {},
   "outputs": [
    {
     "name": "stdout",
     "output_type": "stream",
     "text": [
      "(303, 14)\n",
      "(301, 14)\n",
      "['age', 'sex', 'trestbps', 'chol', 'fbs', 'thalach', 'exang', 'oldpeak', 'ca']\n",
      "['slope', 'restecg', 'thal', 'cp']\n",
      "<class 'pandas.core.frame.DataFrame'>\n",
      "Int64Index: 301 entries, 0 to 302\n",
      "Data columns (total 13 columns):\n",
      "age         301 non-null int64\n",
      "sex         301 non-null int64\n",
      "cp          301 non-null int64\n",
      "trestbps    301 non-null int64\n",
      "chol        301 non-null int64\n",
      "fbs         301 non-null int64\n",
      "restecg     301 non-null int64\n",
      "thalach     301 non-null int64\n",
      "exang       301 non-null int64\n",
      "oldpeak     301 non-null float64\n",
      "slope       301 non-null int64\n",
      "ca          301 non-null int64\n",
      "thal        301 non-null int64\n",
      "dtypes: float64(1), int64(12)\n",
      "memory usage: 32.9 KB\n"
     ]
    }
   ],
   "source": [
    "# heart0 is the raw data from pd.read_csv\n",
    "\n",
    "# remove samples with thal == 0\n",
    "print(heart0.shape)\n",
    "heart_clean = heart0.loc[heart0['thal'] > 0,:]\n",
    "print(heart_clean.shape)\n",
    "\n",
    "# define numerical/categorical variables\n",
    "num = ['age', 'sex', 'trestbps', 'chol', 'fbs', 'thalach', 'exang', 'oldpeak', 'ca']\n",
    "cat = list(set(heart_clean.columns) - set(num) - set(['sick']))\n",
    "print(num)\n",
    "print(cat)\n",
    "\n",
    "# remove 'sick' and recode to int\n",
    "# save response variable from original data\n",
    "heart_clean_y = list(map(int, heart_clean['sick']))\n",
    "\n",
    "# get all predictor variables from original data\n",
    "heart_clean_x = heart_clean.drop('sick', axis = 1)\n",
    "\n",
    "heart_clean_x.info()"
   ]
  },
  {
   "cell_type": "code",
   "execution_count": 124,
   "metadata": {},
   "outputs": [],
   "source": [
    "# define full pipeline\n",
    "full_pipe = ColumnTransformer([ \n",
    "    ('num', StandardScaler(), num),\n",
    "    ('cat', OneHotEncoder(handle_unknown='ignore'), cat)\n",
    "])"
   ]
  },
  {
   "cell_type": "markdown",
   "metadata": {},
   "source": [
    "### Question 2.5\n",
    "Now split your pipelined data into an 85/15 split and run the same KNN as you did previously. Report its accuracy, and discuss the implications of the different results you are obtaining."
   ]
  },
  {
   "cell_type": "code",
   "execution_count": 125,
   "metadata": {},
   "outputs": [
    {
     "name": "stdout",
     "output_type": "stream",
     "text": [
      "(255, 13)\n",
      "255\n",
      "(46, 13)\n",
      "46\n"
     ]
    }
   ],
   "source": [
    "# split into train/test subsets\n",
    "train, test, train_lab, test_lab = train_test_split(heart_clean_x, heart_clean_y, train_size = 0.85, random_state = 22)\n",
    "\n",
    "print(train.shape)\n",
    "print(len(train_lab))\n",
    "print(test.shape)\n",
    "print(len(test_lab))"
   ]
  },
  {
   "cell_type": "code",
   "execution_count": 126,
   "metadata": {},
   "outputs": [
    {
     "name": "stdout",
     "output_type": "stream",
     "text": [
      "(255, 22)\n",
      "(46, 22)\n"
     ]
    }
   ],
   "source": [
    "# run train and test data through the pipeline\n",
    "train_pipe = full_pipe.fit_transform(train)\n",
    "test_pipe = full_pipe.transform(test)\n",
    "\n",
    "print(train_pipe.shape)\n",
    "print(test_pipe.shape)"
   ]
  },
  {
   "cell_type": "code",
   "execution_count": 127,
   "metadata": {},
   "outputs": [
    {
     "name": "stdout",
     "output_type": "stream",
     "text": [
      "Accuracy: 0.7391304347826086\n",
      "Precision: 0.7391304347826086\n",
      "Recall: 0.7391304347826086\n",
      "F1 score: 0.7391304347826085\n"
     ]
    }
   ],
   "source": [
    "# get a new kNN model\n",
    "knc = KNeighborsClassifier()\n",
    "\n",
    "# fit to training data\n",
    "trainfit = knc.fit(train_pipe, train_lab)\n",
    "\n",
    "# predict test labels\n",
    "testpred = knc.predict(test_pipe)\n",
    "\n",
    "# output accuracy\n",
    "modelPerformance(testpred, test_lab)"
   ]
  },
  {
   "cell_type": "markdown",
   "metadata": {},
   "source": [
    "Using the pipelined data as opposed to the raw data, I saw a large increase in all four \"goodness\" metrics that I used. I would attribute this improvement in the model's performance to (1) scaling the numerical data, meaning factors with large values didn't arbitrarily drive the model, and (2) one-hot encoding the categorical variables which didn't make sense as sequential progressions of severity, meaning we could more easily assume that each feature contributed either positively or negatively to the response variable. "
   ]
  },
  {
   "cell_type": "markdown",
   "metadata": {},
   "source": [
    "### Question 2.6 Hyperparameter Optimization\n",
    "As we saw in lecture, the KNN Algorithm includes an `n_neighbors` attribute that specifies how many neighbors to use when developing the cluster. (The default value is 5, which is what your previous model used.) Lets now letting `n` take on the values 1, 2, 3, 5, 7, 9, 10, 20, 50, 75, and 100. Run your model for each value and report the accuracy for each. Then, create a plot of accuracy versus `n_neighbors` and discuss how and why the accuracy changes as `n_neighbors` changes.\n",
    "\n",
    "HINT: leverage Python's ability to loop to run through the array and generate results so that you don't need to manually code each iteration."
   ]
  },
  {
   "cell_type": "code",
   "execution_count": 128,
   "metadata": {},
   "outputs": [
    {
     "data": {
      "image/png": "[encoded data removed]",
      "text/plain": [
       "<Figure size 1440x720 with 1 Axes>"
      ]
     },
     "metadata": {},
     "output_type": "display_data"
    }
   ],
   "source": [
    "# define hyperparams we want to test\n",
    "nvec = [1, 2, 3, 5, 7, 9, 10, 20, 50, 75, 100]\n",
    "\n",
    "def getModelAcc(train_x, train_y, test_x, test_y, thisN):\n",
    "    '''Return accuracy of a kNN model with train/test data and thisN nearest neighbors'''\n",
    "    # make a kNN model with the n from this iteration\n",
    "    knc_n = KNeighborsClassifier(n_neighbors=thisN)\n",
    "    # fit to training data\n",
    "    knc_n.fit(train_x, train_y)\n",
    "    # predict test labels\n",
    "    test_pred = knc_n.predict(test_x)\n",
    "    # report accuracy\n",
    "    return metrics.accuracy_score(test_y, test_pred)\n",
    "\n",
    "# compute accuracy of each model\n",
    "accvec = [getModelAcc(train_pipe, train_lab, test_pipe, test_lab, i) for i in nvec]\n",
    "\n",
    "# plot results\n",
    "from matplotlib.pyplot import figure\n",
    "\n",
    "figure(figsize = (20, 10))\n",
    "plt.plot(nvec, accvec, '-o')\n",
    "plt.xlabel(\"Number of nearest neighbors\")\n",
    "plt.xticks(nvec)\n",
    "plt.ylabel(\"Model accuracy\")\n",
    "plt.show()"
   ]
  },
  {
   "cell_type": "markdown",
   "metadata": {},
   "source": [
    "## Part 3. Additional Learning Methods\n",
    "So we have a model that seems to work well. But let's see if we can do better! To do so we'll employ multiple learning methods and compare results. Throughout this part, use the data that was produced by your pipeline earlier."
   ]
  },
  {
   "cell_type": "markdown",
   "metadata": {},
   "source": [
    "### Linear Decision Boundary Methods\n",
    "We'll spend some time exploring logistic regression and SVM methods."
   ]
  },
  {
   "cell_type": "markdown",
   "metadata": {},
   "source": [
    "### Question 3.1 Logistic Regression\n",
    "Let's now try a classifier, we introduced in lecture, one that's well known for handling linear models: logistic regression. Logistic regression is a statistical model that in its basic form uses a logistic function to model a binary dependent variable.  Implement a logistic regression classifier on your data with the default settings. Report accuracy, precision, recall, and F1 score and plot a confusion matrix."
   ]
  },
  {
   "cell_type": "code",
   "execution_count": 129,
   "metadata": {},
   "outputs": [
    {
     "name": "stdout",
     "output_type": "stream",
     "text": [
      "Accuracy: 0.7391304347826086\n",
      "Precision: 0.72\n",
      "Recall: 0.782608695652174\n",
      "F1 score: 0.7499999999999999\n"
     ]
    },
    {
     "name": "stderr",
     "output_type": "stream",
     "text": [
      "/Users/niko/opt/anaconda3/lib/python3.7/site-packages/sklearn/linear_model/logistic.py:432: FutureWarning: Default solver will be changed to 'lbfgs' in 0.22. Specify a solver to silence this warning.\n",
      "  FutureWarning)\n"
     ]
    }
   ],
   "source": [
    "# get a logistic regression object\n",
    "logreg = LogisticRegression()\n",
    "\n",
    "# fit to the training data\n",
    "logreg.fit(train_pipe, train_lab)\n",
    "\n",
    "# predict test labels\n",
    "test_pred = logreg.predict(test_pipe)\n",
    "\n",
    "# output metrics\n",
    "modelPerformance(test_lab, test_pred)"
   ]
  },
  {
   "cell_type": "code",
   "execution_count": 130,
   "metadata": {},
   "outputs": [
    {
     "data": {
      "image/png": "[encoded data removed]",
      "text/plain": [
       "<Figure size 720x576 with 2 Axes>"
      ]
     },
     "metadata": {},
     "output_type": "display_data"
    }
   ],
   "source": [
    "# plot confusion matrix\n",
    "draw_confusion_matrix(test_lab, test_pred, [0, 1])\n",
    "# draw_confusion_matrix([1, 1, 1, 0, 0, 0], [1, 1, 1, 0, 0, 1], [0, 1])"
   ]
  },
  {
   "cell_type": "markdown",
   "metadata": {},
   "source": [
    "### Question 3.2\n",
    "Discuss what each measure (accuracy, precision, recall, and F1 score) is reporting, why they are different, and why are each of these measures is significant. Explore why we might choose to evaluate the performance of differing models differently based on these factors. Try to give some specific examples of scenarios in which you might value one of these measures over the others.\n"
   ]
  },
  {
   "cell_type": "markdown",
   "metadata": {},
   "source": [
    "TP = True positive\n",
    "\n",
    "FP = False positive\n",
    "\n",
    "TN = True negative\n",
    "\n",
    "FN = False negative\n",
    "\n",
    "* __Accuracy__ [(TP+TN)/(TP+TN+FP+FN)] is the proportion of total decisions (categorizing a person as either sick or not sick) that were correct. This is important because it includes how well the model selected positives and negatives. It's different from other metrics because it has no preference for avoiding FP or FN. Accuracy is a useful metric when we already know the data is well balanced and we care equally about avoiding FP and FN. For example, accuracy would be a fine metric to use on a model that predicts whether someone is male or female. We know a random sample of the population would be balanced, and it's hard to say if FP or FN would matter more in this case. \n",
    "\n",
    "\n",
    "* __Precision__ [TP/(TP+FP)] is the proportion of \"positive\" calls (categorizing a person as sick) that were correct. This is important because it tells us specifically how much we can trust the positive calls that the model makes, which is also what sets it apart from other metrics (it focuses on FP only, not FN). Precision is a useful metric on a model where we care more about avoiding FP than avoiding FN. For example, I'd use precision to evaluate a model that was predicting whether someone committed a crime or not. In my opinion it's better to let someone who did a crime go than to incarcerate an innocent person.\n",
    "\n",
    "\n",
    "* __Recall__ [TP/(TP+FN)] is the proportion of truly sick people that were correctly called sick by the model. This is important because it tells us how likely it is that there are sick people in the sample that the model missed, which also sets it apart (it focuses on FN only, not FP). Recall is a useful metric for a model where we care more about avoiding FN than FP. For example, I'd use recall to evaluate a model that was predicting whether or not someone had a disease. I think it's better to be on the safe side and have to tell a handful of people that they're actually _not_ sick regardless of what the model said, rather than tell some sick people that they're healthy and allow their condition to get worse undiagnosed.\n",
    "\n",
    "\n",
    "* __F1 score__ [(2*Recall*Precision)/(Recall+Precision)] is a weighted average of recall and precision. It's important because, like accuracy, it gives an overall measure of how well the model classifies positives and negatives, but, unlike accuracy, it factors in how balanced the dataset is. For example, in a situation where the model had TP = 97, and FP = FN = TN = 1, accuracy would be 97% while F1 would be 50%. It's more informative to use F1 in this unbalanced dataset because it reflects how the vast majority of the accuracy of the model comes from TP, and there is almost no evidence that the model handles negatives well. This would be useful in something like predicting whether a person is right or left handed, where we know there is an imbalance in the population and we don't have a preference for avoiding FP or FN."
   ]
  },
  {
   "cell_type": "markdown",
   "metadata": {},
   "source": [
    "### Question 3.3\n",
    "Graph the ROC curve of the logistic regression model."
   ]
  },
  {
   "cell_type": "code",
   "execution_count": 131,
   "metadata": {},
   "outputs": [
    {
     "data": {
      "image/png": "[encoded data removed]",
      "text/plain": [
       "<Figure size 720x576 with 1 Axes>"
      ]
     },
     "metadata": {},
     "output_type": "display_data"
    }
   ],
   "source": [
    "# function to draw ROC curve\n",
    "\n",
    "def draw_roc_curve(model, x, y):\n",
    "    # get probabilities of each positive prediction from logistic model\n",
    "    test_pred_prob = model.predict_proba(x)[:,1]\n",
    "\n",
    "    # compute ROC curve\n",
    "    fpr, tpr, thresh = metrics.roc_curve(y, test_pred_prob, pos_label = 1)\n",
    "\n",
    "    # compute AUC\n",
    "    auc = metrics.auc(fpr, tpr)\n",
    "\n",
    "    # plot ROC curve\n",
    "    plt.plot(fpr, tpr, '-o')\n",
    "    plt.xlabel(\"FPR\")\n",
    "    plt.ylabel(\"TPR\")\n",
    "    plt.title(\"ROC curve, AUC = \" + str(auc))\n",
    "    plt.show()\n",
    "\n",
    "draw_roc_curve(logreg, test_pipe, test_lab)"
   ]
  },
  {
   "cell_type": "markdown",
   "metadata": {},
   "source": [
    "### Question 3.4\n",
    "Describe what an ROC curve is and what your ROC graph output is showing."
   ]
  },
  {
   "cell_type": "markdown",
   "metadata": {},
   "source": [
    "An ROC curve is a plot of the false positive rate (FP/(FP+TN)) against the true positive rate (AKA recall), evaluated at different probability thresholds for how confident the model needs to be of a positive call before it makes that positive call. From left to right, the probability decreases from most stringent to least stringent. In the bottom left corner, the model must be absolutely sure of a positive call before making it, so false positives are avoided completely, but true positives are also avoided since the model will never be so confident. In the top right, every sample is called a positive, so every existing positive is detected, but every existing negative is also called a positive. In between these points, the model's ability to differentiate between positives and negatives is visualized. Ideally, the curve stays up and to the left, meaning that as more and more positives are called, they tend to be TP more than they tend to be FP. The \"goodness\" of a model can be quantified by taking the area under this curve (AUC == 1 means the model performs ideally, AUC == 0.5 means the model can't really predict anything). "
   ]
  },
  {
   "cell_type": "markdown",
   "metadata": {},
   "source": [
    "### Question 3.5\n",
    "Let's tweak a few settings. Set your solver to `newton-cg`, your `max_iter=4`, and `penalty='none'`, and rerun your model. Report out the same metrics (the 4 + confusion matrix) as before. How do your results change?"
   ]
  },
  {
   "cell_type": "code",
   "execution_count": 132,
   "metadata": {},
   "outputs": [
    {
     "name": "stderr",
     "output_type": "stream",
     "text": [
      "/Users/niko/opt/anaconda3/lib/python3.7/site-packages/sklearn/utils/optimize.py:203: ConvergenceWarning: newton-cg failed to converge. Increase the number of iterations.\n",
      "  \"number of iterations.\", ConvergenceWarning)\n"
     ]
    },
    {
     "name": "stdout",
     "output_type": "stream",
     "text": [
      "Accuracy: 0.717391304347826\n",
      "Precision: 0.7083333333333334\n",
      "Recall: 0.7391304347826086\n",
      "F1 score: 0.723404255319149\n"
     ]
    },
    {
     "data": {
      "image/png": "[encoded data removed]",
      "text/plain": [
       "<Figure size 720x576 with 2 Axes>"
      ]
     },
     "metadata": {},
     "output_type": "display_data"
    }
   ],
   "source": [
    "# run the logistic regression again with tweaks\n",
    "logregplus = LogisticRegression(solver='newton-cg', max_iter=4, penalty='none')\n",
    "\n",
    "logregplus.fit(train_pipe, train_lab)\n",
    "test_pred_plus = logregplus.predict(test_pipe)\n",
    "modelPerformance(test_lab, test_pred_plus)\n",
    "\n",
    "draw_confusion_matrix(test_lab, test_pred_plus, [0,1])"
   ]
  },
  {
   "cell_type": "markdown",
   "metadata": {},
   "source": [
    "### Question 3.6\n",
    "Did you notice that when you ran the previous model you got the following warning: `ConvergenceWarning: The max_iter was reached which means the coef_ did not converge.` Check the documentation and see if you can implement a fix for this problem, and again report your results.\n",
    "\n",
    "Note: if you did not get a warning, which might happen to those running this notebook in VSCode, please try running the following code, as described [here](https://github.com/microsoft/vscode-jupyter/issues/1312):\n",
    "```\n",
    "import warnings\n",
    "warnings.simplefilter(action=\"default\")\n",
    "```"
   ]
  },
  {
   "cell_type": "code",
   "execution_count": 133,
   "metadata": {},
   "outputs": [
    {
     "name": "stdout",
     "output_type": "stream",
     "text": [
      "Accuracy: 0.717391304347826\n",
      "Precision: 0.7272727272727273\n",
      "Recall: 0.6956521739130435\n",
      "F1 score: 0.711111111111111\n"
     ]
    },
    {
     "data": {
      "image/png": "[encoded data removed]",
      "text/plain": [
       "<Figure size 720x576 with 2 Axes>"
      ]
     },
     "metadata": {},
     "output_type": "display_data"
    }
   ],
   "source": [
    "# try to avoid the warning\n",
    "logregplus2 = LogisticRegression(solver='newton-cg', max_iter=1000, penalty='none')\n",
    "\n",
    "logregplus2.fit(train_pipe, train_lab)\n",
    "test_pred_plus2 = logregplus2.predict(test_pipe)\n",
    "modelPerformance(test_lab, test_pred_plus2)\n",
    "\n",
    "draw_confusion_matrix(test_lab, test_pred_plus2, ['0', '1'])\n"
   ]
  },
  {
   "cell_type": "markdown",
   "metadata": {},
   "source": [
    "### Question 3.7\n",
    "Explain what you changed and why this fixed the `ConvergenceWarning` problem. Are there any downsides of your fix? How might you have harmed the outcome instead? What other parameters you set may be playing a factor in affecting the results?"
   ]
  },
  {
   "cell_type": "markdown",
   "metadata": {},
   "source": [
    "I increased the max number of iterations for the model to 1000 from 4. This got rid of the warning because the solver was able to converge on a solution before reaching the 1000th iteration (it must have happened between iteration 4 and 1000). However, my F1 score actually went down from the 4-iteration model. I think this is because we are setting penalty='none', which means the model is not regularized. Thus, by allowing the model to run more iterations, it might be overfitting to the training data, which would explain why it doesn't perform as well on the test data. With only 4 iterations, the model probably can't get complex enough to be overfit to the training data."
   ]
  },
  {
   "cell_type": "markdown",
   "metadata": {},
   "source": [
    "### Question 3.8\n",
    "Rerun your logistic classifier, but modify the `penalty='l1'`, `solver='liblinear'` and again report the results.\n"
   ]
  },
  {
   "cell_type": "code",
   "execution_count": 134,
   "metadata": {},
   "outputs": [
    {
     "name": "stderr",
     "output_type": "stream",
     "text": [
      "/Users/niko/opt/anaconda3/lib/python3.7/site-packages/sklearn/svm/base.py:929: ConvergenceWarning: Liblinear failed to converge, increase the number of iterations.\n",
      "  \"the number of iterations.\", ConvergenceWarning)\n"
     ]
    },
    {
     "name": "stdout",
     "output_type": "stream",
     "text": [
      "Accuracy: 0.7391304347826086\n",
      "Precision: 0.7391304347826086\n",
      "Recall: 0.7391304347826086\n",
      "F1 score: 0.7391304347826085\n"
     ]
    },
    {
     "data": {
      "image/png": "[encoded data removed]",
      "text/plain": [
       "<Figure size 720x576 with 2 Axes>"
      ]
     },
     "metadata": {},
     "output_type": "display_data"
    }
   ],
   "source": [
    "logreg_l1 = LogisticRegression(solver='liblinear', max_iter = 4, penalty='l1')\n",
    "\n",
    "logreg_l1.fit(train_pipe, train_lab)\n",
    "test_pred_l1 = logreg_l1.predict(test_pipe)\n",
    "modelPerformance(test_lab, test_pred_l1)\n",
    "\n",
    "draw_confusion_matrix(test_lab, test_pred_l1, ['0', '1'])"
   ]
  },
  {
   "cell_type": "markdown",
   "metadata": {},
   "source": [
    "### Question 3.9\n",
    "Explain what what the two solver approaches are, and why the model with `liblinear` and `l1` penalty likely produced the optimal outcome."
   ]
  },
  {
   "cell_type": "markdown",
   "metadata": {},
   "source": [
    "In order for the logistic model to 'learn' its parameters so it can classify new data, a likelihood function of multiple variables, intercept and slope, must be maximized (equivalent to minimizing a loss function). \n",
    "\n",
    "`newton-cg` uses Newton's method to solve for the optimal parameters, while `liblinear` uses gradient descent. The main difference between these is the way that they determine which direction to go towards the local/global minimum in the multi-dimensional parameter space. Newton's method uses the second partial derivatives of the parameter space (the Hessian matrix), while gradient descent uses the first partial derivatives of the parameter space (the gradient). Both of them decide which direction to travel based on their approximation of the derivative, take a step in that direction, and then update their approximation based on the udpated position.\n",
    "\n",
    "In this case, `liblinear` with the `l1` penalty did do best by the metrics we considered, probably because its main drawback (being stuck in a local minimum which is not the global minimum) was not possible due to the logistic regression being convex. `newton-cg` did almost as well, but because it considers the second derivative of the parameter space, it is more attracted to saddle points than gradient descent is. While the logistic regression loss function is convex, it might include saddle points. It's possible that Newton's method was stuck in a saddle point in this problem and missed the true global minimum of the parameter space. "
   ]
  },
  {
   "cell_type": "markdown",
   "metadata": {},
   "source": [
    "### Question 3.10\n",
    "We also played around with different penalty terms (none, L1 etc.) Describe what the purpose of a penalty term is and the difference between L1 and L2 penalties."
   ]
  },
  {
   "cell_type": "markdown",
   "metadata": {},
   "source": [
    "A penalty term is an extra term added to the loss function intended to control how complex the model becomes (this is called regularization). Non-regularized models are prone to overfitting, because they might learn a very complex set of parameters that fits the training data perfectly but doesn't generalize. It's usually better to keep the model as simple as possible to capture the underlying distribution of the data. \n",
    "\n",
    "To quantify the complexity of the model, different types of penalties are added to the loss function. An L1 penalty term includes the absolute value of each parameter. In logistic regression, this is:\n",
    "\n",
    "$$\\lambda\\sum_{j=1}^m|\\Beta_j|$$\n",
    "\n",
    "An L2 penalty term includes the square of each parameter, which shows up in logistic regression as:\n",
    "\n",
    "$$\\lambda\\sum_{j=1}^m\\Beta_j^2$$\n",
    "\n",
    "Where $m$ is the number of parameters in the model.\n",
    "\n",
    "Because the loss function is minimized as part of the solution to the regression, by adding a term that represents model complexity to the loss function we also minimize the complexity of the model.\n",
    "\n",
    "In action, L2 regularization (also called ridge regression) stops the size of each parameter from becoming ridiculous but generally doesn't erase features altogether. L1 regularization (also called LASSO) often ends up reducing betas down to 0, so it's often chosen when someone is trying to figure out which variables are the best predictors to keep in their model. "
   ]
  },
  {
   "cell_type": "markdown",
   "metadata": {},
   "source": [
    "### Question 3.11 Support Vector Machine (SVM)\n",
    "\n",
    "A support vector machine (SVM) is a discriminative classifier formally defined by a separating hyperplane. In other words, given labeled training data (supervised learning), the algorithm outputs an optimal hyperplane which categorizes new examples. In 2-D space this hyperplane is a line dividing a plane in two parts where in each class lay in either side.\n",
    "\n",
    "Implement an SVM classifier on your pipelined data (recommend using `scikit-learn`) For this implementation you can simply use the default settings, but set `probability=True`."
   ]
  },
  {
   "cell_type": "code",
   "execution_count": 135,
   "metadata": {},
   "outputs": [
    {
     "name": "stderr",
     "output_type": "stream",
     "text": [
      "/Users/niko/opt/anaconda3/lib/python3.7/site-packages/sklearn/svm/base.py:193: FutureWarning: The default value of gamma will change from 'auto' to 'scale' in version 0.22 to account better for unscaled features. Set gamma explicitly to 'auto' or 'scale' to avoid this warning.\n",
      "  \"avoid this warning.\", FutureWarning)\n"
     ]
    }
   ],
   "source": [
    "from sklearn.svm import SVC\n",
    "\n",
    "# generate an SVM object\n",
    "svmclassifier = SVC(probability=True)\n",
    "\n",
    "# fit the SVM model to training data\n",
    "svmclassifier.fit(train_pipe, train_lab)\n",
    "\n",
    "# predict test labels with SVM\n",
    "test_pred_svm = svmclassifier.predict(test_pipe)"
   ]
  },
  {
   "cell_type": "markdown",
   "metadata": {},
   "source": [
    "### Question 3.12 \n",
    "Report the accuracy, precision, recall, F1 Score, and confusion matrix of the resulting model."
   ]
  },
  {
   "cell_type": "code",
   "execution_count": 136,
   "metadata": {},
   "outputs": [
    {
     "name": "stdout",
     "output_type": "stream",
     "text": [
      "Accuracy: 0.717391304347826\n",
      "Precision: 0.7083333333333334\n",
      "Recall: 0.7391304347826086\n",
      "F1 score: 0.723404255319149\n"
     ]
    },
    {
     "data": {
      "image/png": "[encoded data removed]",
      "text/plain": [
       "<Figure size 720x576 with 2 Axes>"
      ]
     },
     "metadata": {},
     "output_type": "display_data"
    }
   ],
   "source": [
    "# evaluate how the model did\n",
    "modelPerformance(test_lab, test_pred_svm)\n",
    "\n",
    "# generate confusion matrix\n",
    "draw_confusion_matrix(test_lab, test_pred_svm, ['0', '1'])"
   ]
  },
  {
   "cell_type": "markdown",
   "metadata": {},
   "source": [
    "### Question 3.13\n",
    "Rerun your SVM, but now modify your model parameter kernel to be `linear`. Again report your accuracy, precision, recall, F1 scores, and confusion matrix and plot the new ROC curve.  "
   ]
  },
  {
   "cell_type": "code",
   "execution_count": 137,
   "metadata": {},
   "outputs": [
    {
     "name": "stdout",
     "output_type": "stream",
     "text": [
      "Accuracy: 0.717391304347826\n",
      "Precision: 0.7272727272727273\n",
      "Recall: 0.6956521739130435\n",
      "F1 score: 0.711111111111111\n"
     ]
    }
   ],
   "source": [
    "svmclassifier2 = SVC(probability=True, kernel='linear')\n",
    "\n",
    "svmclassifier2.fit(train_pipe, train_lab)\n",
    "\n",
    "test_pred_svm2 = svmclassifier2.predict(test_pipe)\n",
    "\n",
    "modelPerformance(test_lab, test_pred_svm2)"
   ]
  },
  {
   "cell_type": "code",
   "execution_count": 138,
   "metadata": {},
   "outputs": [
    {
     "data": {
      "image/png": "[encoded data removed]",
      "text/plain": [
       "<Figure size 720x576 with 2 Axes>"
      ]
     },
     "metadata": {},
     "output_type": "display_data"
    }
   ],
   "source": [
    "draw_confusion_matrix(test_lab, test_pred_svm2, ['0', '1'])"
   ]
  },
  {
   "cell_type": "code",
   "execution_count": 139,
   "metadata": {},
   "outputs": [
    {
     "data": {
      "image/png": "[encoded data removed]",
      "text/plain": [
       "<Figure size 720x576 with 1 Axes>"
      ]
     },
     "metadata": {},
     "output_type": "display_data"
    }
   ],
   "source": [
    "draw_roc_curve(svmclassifier2, test_pipe, test_lab)"
   ]
  },
  {
   "cell_type": "markdown",
   "metadata": {},
   "source": [
    "### Question 3.14\n",
    "Explain the what the new results you've achieved mean. Read the documentation to understand what you've changed about your model and explain why changing that input parameter might impact the results in the manner you've observed."
   ]
  },
  {
   "cell_type": "markdown",
   "metadata": {},
   "source": [
    "I found that while the `'linear'` and `'rbf'` kernels had similar accuracy, `'linear'` had better precision, and `'rbf'` had better recall. \n",
    "\n",
    "I learned that an SVM kernel works by generating a new augmented feature perpendicular to all other features in the feature space, and uses this new feature to generate a hyperplane that ideally separates most of the data into its correct class. The difference between the two kernels is that the `'linear'` kernel uses a *linear* function to draw this hyperplane, while the `'rbf'` kernel uses a *non-linear* function called the Radial Basis Function (RBF).\n",
    "\n",
    "Each of these has pros and cons—the linear model is simpler, meaning it's less prone to overfitting and requires less computational power. The RBF model is more complex, so it has the ability to capture nonlinear trends in the data that the linear model might miss, but is also vulnerable to learning too much of the training data's underlying structure and failing to generalize (overfitting). \n",
    "\n",
    "In my results, I'm seeing that the linear model was better at making reliable predictions (precision), while the RBF model was better at finding all the true positives in the data (recall). This makes sense given their definitions—because the linear model is simpler, it stays on the safe side and is less likely to call a false positive. On the other hand, the RBF model is more complex, allowing it to capture some positives that don't follow the most general trend of the other positives."
   ]
  },
  {
   "cell_type": "markdown",
   "metadata": {},
   "source": [
    "### Question 3.15\n",
    "Both logistic regression and linear SVM are trying to classify data points using a linear decision boundary. How do they differ in how they try to find this boundary?\n"
   ]
  },
  {
   "cell_type": "markdown",
   "metadata": {},
   "source": [
    "Logistic regression optimizes a likelihood/loss function based on all of the training data, and uses the result of this optimization to find a probability that each data point belongs to each class in the classification problem. Based on the researcher's decision of a threshold for mapping these probabilities to assignments of data points to classes, a hyperplane can be drawn in the feature space that separates data points into their respective classes. \n",
    "\n",
    "SVM does not work with a likelihood function, instead optimizing the final separating hyperplane directly. It uses a subset of the data (called the support vectors) which is closest to the class boundaries, and algorithmically generates a hyperplane that distinguises these data from each other with a maximum functional margin."
   ]
  },
  {
   "cell_type": "markdown",
   "metadata": {},
   "source": [
    "### Question 3.16\n",
    "We also learned about linear regression in class. Why is linear regression not a suitable model for this classification task?"
   ]
  },
  {
   "cell_type": "markdown",
   "metadata": {},
   "source": [
    "A linear model could be fit to the data in a classification problem, but it would not be the right tool to use for a few reasons:\n",
    "\n",
    "* The output of a linear model is not restricted to [0, 1] and thus can't be interpreted as a probability. Given a max heart rate of 110 bpm, for example, a linear model might predict that the patient's heart disease status is 1.10. What does that mean, when we've encoded sick as 1 and healthy as 0? There's no good way to interpret this prediction and use it to classify the data.\n",
    "*  Because of this probability issue, there's also no good way to decide which category to put someone in when their predicted status falls in the space between two categories. Where do we put someone who's predicted status is 0.6, or 0.35? We can't assume that being sick is exactly one unit \"greater\" than being healthy, or that there is a linear relationship between being sick and healthy. What if the predictive feature can climb to 90% of its maximum before an individual's class should change? A linear model wouldn't do a good job of making that distinction. \n",
    "\n",
    "Using a logistic regression solves these issues, because its output can be interpreted as a probability, and the probability threshold can be tuned based on the problem in question. "
   ]
  },
  {
   "cell_type": "markdown",
   "metadata": {},
   "source": [
    "### Statistical Classification Methods\n",
    "Now we'll explore a statistical classification method, the naive Bayes classifier.\n",
    "\n",
    "Naive Bayes methods are a set of supervised learning algorithms based on applying Bayes' theorem with the \"naive\" assumption of conditional independence between every pair of features given the value of the class variable. Bayes' theorem states the following relationship, given class variable $C_k$ and dependent feature vector $\\bold{x} = [x_1, x_2, ..., x_n]^T$, $$P(C_k | \\bold{x}) = \\frac{P(C_k)P(\\bold{x} | C_k)}{P(\\bold{x})}$$\n",
    "\n",
    "Note for our purposes, there are 2 possible classes (sick or not sick), so $k$ ranges from 1 to 2."
   ]
  },
  {
   "cell_type": "markdown",
   "metadata": {},
   "source": [
    "### Question 3.17\n",
    "Implement a naive Bayes Classifier on the pipelined data. Use the `GaussianNB` model. For this model, simply use the default parameters. Report out the number of mislabeled points that result (i.e., both the false positives and false negatives), along with the accuracy, precision, recall, F1 Score and confusion matrix. Also, plot an ROC curve."
   ]
  },
  {
   "cell_type": "code",
   "execution_count": 140,
   "metadata": {},
   "outputs": [
    {
     "name": "stdout",
     "output_type": "stream",
     "text": [
      "False positives: 5\n",
      "False negatives: 7\n",
      "Accuracy: 0.7391304347826086\n",
      "Precision: 0.7619047619047619\n",
      "Recall: 0.6956521739130435\n",
      "F1 score: 0.7272727272727272\n"
     ]
    }
   ],
   "source": [
    "from sklearn.naive_bayes import GaussianNB \n",
    "\n",
    "gnb = GaussianNB()\n",
    "\n",
    "gnb.fit(train_pipe, train_lab)\n",
    "\n",
    "test_pred_gnb = gnb.predict(test_pipe)\n",
    "\n",
    "conf_gnb = metrics.confusion_matrix(test_lab, test_pred_gnb)\n",
    "\n",
    "print(\"False positives: \" + str(conf_gnb[0, 1]))\n",
    "print(\"False negatives: \" + str(conf_gnb[1, 0]))\n",
    "\n",
    "modelPerformance(test_lab, test_pred_gnb)"
   ]
  },
  {
   "cell_type": "code",
   "execution_count": 141,
   "metadata": {},
   "outputs": [
    {
     "data": {
      "image/png": "[encoded data removed]",
      "text/plain": [
       "<Figure size 720x576 with 1 Axes>"
      ]
     },
     "metadata": {},
     "output_type": "display_data"
    }
   ],
   "source": [
    "draw_roc_curve(gnb, test_pipe, test_lab)"
   ]
  },
  {
   "cell_type": "markdown",
   "metadata": {},
   "source": [
    "### Question 3.18\n",
    "Discuss the observed results. What assumptions about our data are we making here and why might those be inaccurate?"
   ]
  },
  {
   "cell_type": "markdown",
   "metadata": {},
   "source": [
    "Actually, this model seems to have done the best out of all the models I've tried so far, especially in the precision category. However, it suffers on recall. I'm sure the two biggest pitfalls for this model on my data are that it assumes a Gaussain prior distribution for each of the features, and assumes the features are independent. I know from my histograms at the beginning of this notebook that not all of the features are normally distributed, and I know from the correlation heatmap that many of the features are correlated with each other. So, it's possible that the model's bad performance on recall can be attributed to the model's assumptions being violated for features that would have helped it call more of the actual positive cases as positives. "
   ]
  },
  {
   "cell_type": "markdown",
   "metadata": {},
   "source": [
    "## Part 4: Cross Validation and Model Selection\n",
    "You've sampled a number of different classification techniques, leveraging nearest neighbors, linear classifiers, and statistical classifiers. You've also tweaked with a few parameters for those models to optimize performance. Based on these experiments you should have settled on a particular model that performs most optimally on this dataset. Before our work is done though, we want to ensure that our results are not the result of the random sampling of our data we did with the train-test split. To check this, we will conduct a K-fold cross validation of our top 2 performing models, assess their cumulative performance across folds (report accuracy, precision, recall, and F1 score), and determine the best model for our particular data."
   ]
  },
  {
   "cell_type": "markdown",
   "metadata": {},
   "source": [
    "### Question 4.1\n",
    "Select your top 2 performing models and run a 10-Fold cross validation on both. Report your best performing model.\n"
   ]
  },
  {
   "cell_type": "code",
   "execution_count": 142,
   "metadata": {},
   "outputs": [
    {
     "data": {
      "text/html": [
       "<div>\n",
       "<style scoped>\n",
       "    .dataframe tbody tr th:only-of-type {\n",
       "        vertical-align: middle;\n",
       "    }\n",
       "\n",
       "    .dataframe tbody tr th {\n",
       "        vertical-align: top;\n",
       "    }\n",
       "\n",
       "    .dataframe thead th {\n",
       "        text-align: right;\n",
       "    }\n",
       "</style>\n",
       "<table border=\"1\" class=\"dataframe\">\n",
       "  <thead>\n",
       "    <tr style=\"text-align: right;\">\n",
       "      <th></th>\n",
       "      <th>model</th>\n",
       "      <th>accuracy</th>\n",
       "      <th>precision</th>\n",
       "      <th>recall</th>\n",
       "      <th>f1</th>\n",
       "    </tr>\n",
       "  </thead>\n",
       "  <tbody>\n",
       "    <tr>\n",
       "      <td>0</td>\n",
       "      <td>kNN_raw</td>\n",
       "      <td>0.586957</td>\n",
       "      <td>0.625000</td>\n",
       "      <td>0.434783</td>\n",
       "      <td>0.512821</td>\n",
       "    </tr>\n",
       "    <tr>\n",
       "      <td>1</td>\n",
       "      <td>kNN_pipe</td>\n",
       "      <td>0.739130</td>\n",
       "      <td>0.739130</td>\n",
       "      <td>0.739130</td>\n",
       "      <td>0.739130</td>\n",
       "    </tr>\n",
       "    <tr>\n",
       "      <td>2</td>\n",
       "      <td>logistic_default</td>\n",
       "      <td>0.739130</td>\n",
       "      <td>0.720000</td>\n",
       "      <td>0.782609</td>\n",
       "      <td>0.750000</td>\n",
       "    </tr>\n",
       "    <tr>\n",
       "      <td>3</td>\n",
       "      <td>logistic_newton_4</td>\n",
       "      <td>0.717391</td>\n",
       "      <td>0.708333</td>\n",
       "      <td>0.739130</td>\n",
       "      <td>0.723404</td>\n",
       "    </tr>\n",
       "    <tr>\n",
       "      <td>4</td>\n",
       "      <td>logistic_newton_1000</td>\n",
       "      <td>0.717391</td>\n",
       "      <td>0.727273</td>\n",
       "      <td>0.695652</td>\n",
       "      <td>0.711111</td>\n",
       "    </tr>\n",
       "    <tr>\n",
       "      <td>5</td>\n",
       "      <td>logistic_liblinear_l1</td>\n",
       "      <td>0.739130</td>\n",
       "      <td>0.739130</td>\n",
       "      <td>0.739130</td>\n",
       "      <td>0.739130</td>\n",
       "    </tr>\n",
       "    <tr>\n",
       "      <td>6</td>\n",
       "      <td>svm_rbf</td>\n",
       "      <td>0.717391</td>\n",
       "      <td>0.708333</td>\n",
       "      <td>0.739130</td>\n",
       "      <td>0.723404</td>\n",
       "    </tr>\n",
       "    <tr>\n",
       "      <td>7</td>\n",
       "      <td>svm_linear</td>\n",
       "      <td>0.717391</td>\n",
       "      <td>0.727273</td>\n",
       "      <td>0.695652</td>\n",
       "      <td>0.711111</td>\n",
       "    </tr>\n",
       "    <tr>\n",
       "      <td>8</td>\n",
       "      <td>gaussianNB</td>\n",
       "      <td>0.739130</td>\n",
       "      <td>0.761905</td>\n",
       "      <td>0.695652</td>\n",
       "      <td>0.727273</td>\n",
       "    </tr>\n",
       "  </tbody>\n",
       "</table>\n",
       "</div>"
      ],
      "text/plain": [
       "                   model  accuracy  precision    recall        f1\n",
       "0                kNN_raw  0.586957   0.625000  0.434783  0.512821\n",
       "1               kNN_pipe  0.739130   0.739130  0.739130  0.739130\n",
       "2       logistic_default  0.739130   0.720000  0.782609  0.750000\n",
       "3      logistic_newton_4  0.717391   0.708333  0.739130  0.723404\n",
       "4   logistic_newton_1000  0.717391   0.727273  0.695652  0.711111\n",
       "5  logistic_liblinear_l1  0.739130   0.739130  0.739130  0.739130\n",
       "6                svm_rbf  0.717391   0.708333  0.739130  0.723404\n",
       "7             svm_linear  0.717391   0.727273  0.695652  0.711111\n",
       "8             gaussianNB  0.739130   0.761905  0.695652  0.727273"
      ]
     },
     "execution_count": 142,
     "metadata": {},
     "output_type": "execute_result"
    }
   ],
   "source": [
    "# get a table of model performance across all models we've tried\n",
    "names = ['kNN_raw', 'kNN_pipe', 'logistic_default', 'logistic_newton_4', 'logistic_newton_1000', 'logistic_liblinear_l1', 'svm_rbf', 'svm_linear', 'gaussianNB']\n",
    "predictions = [testpred_raw, testpred, test_pred, test_pred_plus, test_pred_plus2, test_pred_l1, test_pred_svm, test_pred_svm2, test_pred_gnb]\n",
    "labels = [test_raw_lab] + [test_lab]*(len(names)-1)\n",
    "\n",
    "perfall = pd.DataFrame({'model': [], 'accuracy': [], 'precision': [], 'recall': [], 'f1': []})\n",
    "\n",
    "for i in range(len(names)):\n",
    "    acc = metrics.accuracy_score(labels[i], predictions[i])\n",
    "    pre = metrics.precision_score(labels[i], predictions[i])\n",
    "    rec = metrics.recall_score(labels[i], predictions[i])\n",
    "    f1 = metrics.f1_score(labels[i], predictions[i])\n",
    "    perfall.loc[len(perfall.index)] = [names[i], acc, pre, rec, f1]\n",
    "\n",
    "perfall"
   ]
  },
  {
   "cell_type": "markdown",
   "metadata": {},
   "source": [
    "Based on F1 score, my best two models are the default logistic regression (L2-penalized, lbfgs solver) and L1-penalized logistic regression solved with the liblinear solver. "
   ]
  },
  {
   "cell_type": "code",
   "execution_count": 143,
   "metadata": {},
   "outputs": [],
   "source": [
    "from sklearn import model_selection\n",
    "\n",
    "# set up the data for K-fold cross validation\n",
    "\n",
    "# define the data splitter that will divide our data\n",
    "kf = model_selection.KFold(n_splits = 10, random_state = 10000, shuffle = True)\n",
    "\n",
    "# # make sure it looks good on the raw data\n",
    "# for train_idx, test_idx in kf.split(heart0):\n",
    "#     print(\"Train: \", train_idx, \"Test: \", test_idx)"
   ]
  },
  {
   "cell_type": "code",
   "execution_count": 144,
   "metadata": {},
   "outputs": [
    {
     "name": "stderr",
     "output_type": "stream",
     "text": [
      "/Users/niko/opt/anaconda3/lib/python3.7/site-packages/sklearn/linear_model/logistic.py:432: FutureWarning: Default solver will be changed to 'lbfgs' in 0.22. Specify a solver to silence this warning.\n",
      "  FutureWarning)\n",
      "/Users/niko/opt/anaconda3/lib/python3.7/site-packages/sklearn/linear_model/logistic.py:432: FutureWarning: Default solver will be changed to 'lbfgs' in 0.22. Specify a solver to silence this warning.\n",
      "  FutureWarning)\n",
      "/Users/niko/opt/anaconda3/lib/python3.7/site-packages/sklearn/linear_model/logistic.py:432: FutureWarning: Default solver will be changed to 'lbfgs' in 0.22. Specify a solver to silence this warning.\n",
      "  FutureWarning)\n",
      "/Users/niko/opt/anaconda3/lib/python3.7/site-packages/sklearn/linear_model/logistic.py:432: FutureWarning: Default solver will be changed to 'lbfgs' in 0.22. Specify a solver to silence this warning.\n",
      "  FutureWarning)\n",
      "/Users/niko/opt/anaconda3/lib/python3.7/site-packages/sklearn/linear_model/logistic.py:432: FutureWarning: Default solver will be changed to 'lbfgs' in 0.22. Specify a solver to silence this warning.\n",
      "  FutureWarning)\n",
      "/Users/niko/opt/anaconda3/lib/python3.7/site-packages/sklearn/linear_model/logistic.py:432: FutureWarning: Default solver will be changed to 'lbfgs' in 0.22. Specify a solver to silence this warning.\n",
      "  FutureWarning)\n",
      "/Users/niko/opt/anaconda3/lib/python3.7/site-packages/sklearn/linear_model/logistic.py:432: FutureWarning: Default solver will be changed to 'lbfgs' in 0.22. Specify a solver to silence this warning.\n",
      "  FutureWarning)\n",
      "/Users/niko/opt/anaconda3/lib/python3.7/site-packages/sklearn/linear_model/logistic.py:432: FutureWarning: Default solver will be changed to 'lbfgs' in 0.22. Specify a solver to silence this warning.\n",
      "  FutureWarning)\n",
      "/Users/niko/opt/anaconda3/lib/python3.7/site-packages/sklearn/linear_model/logistic.py:432: FutureWarning: Default solver will be changed to 'lbfgs' in 0.22. Specify a solver to silence this warning.\n",
      "  FutureWarning)\n",
      "/Users/niko/opt/anaconda3/lib/python3.7/site-packages/sklearn/linear_model/logistic.py:432: FutureWarning: Default solver will be changed to 'lbfgs' in 0.22. Specify a solver to silence this warning.\n",
      "  FutureWarning)\n",
      "/Users/niko/opt/anaconda3/lib/python3.7/site-packages/sklearn/svm/base.py:929: ConvergenceWarning: Liblinear failed to converge, increase the number of iterations.\n",
      "  \"the number of iterations.\", ConvergenceWarning)\n",
      "/Users/niko/opt/anaconda3/lib/python3.7/site-packages/sklearn/svm/base.py:929: ConvergenceWarning: Liblinear failed to converge, increase the number of iterations.\n",
      "  \"the number of iterations.\", ConvergenceWarning)\n",
      "/Users/niko/opt/anaconda3/lib/python3.7/site-packages/sklearn/svm/base.py:929: ConvergenceWarning: Liblinear failed to converge, increase the number of iterations.\n",
      "  \"the number of iterations.\", ConvergenceWarning)\n",
      "/Users/niko/opt/anaconda3/lib/python3.7/site-packages/sklearn/svm/base.py:929: ConvergenceWarning: Liblinear failed to converge, increase the number of iterations.\n",
      "  \"the number of iterations.\", ConvergenceWarning)\n",
      "/Users/niko/opt/anaconda3/lib/python3.7/site-packages/sklearn/svm/base.py:929: ConvergenceWarning: Liblinear failed to converge, increase the number of iterations.\n",
      "  \"the number of iterations.\", ConvergenceWarning)\n",
      "/Users/niko/opt/anaconda3/lib/python3.7/site-packages/sklearn/svm/base.py:929: ConvergenceWarning: Liblinear failed to converge, increase the number of iterations.\n",
      "  \"the number of iterations.\", ConvergenceWarning)\n",
      "/Users/niko/opt/anaconda3/lib/python3.7/site-packages/sklearn/svm/base.py:929: ConvergenceWarning: Liblinear failed to converge, increase the number of iterations.\n",
      "  \"the number of iterations.\", ConvergenceWarning)\n",
      "/Users/niko/opt/anaconda3/lib/python3.7/site-packages/sklearn/svm/base.py:929: ConvergenceWarning: Liblinear failed to converge, increase the number of iterations.\n",
      "  \"the number of iterations.\", ConvergenceWarning)\n",
      "/Users/niko/opt/anaconda3/lib/python3.7/site-packages/sklearn/svm/base.py:929: ConvergenceWarning: Liblinear failed to converge, increase the number of iterations.\n",
      "  \"the number of iterations.\", ConvergenceWarning)\n"
     ]
    },
    {
     "name": "stdout",
     "output_type": "stream",
     "text": [
      "Mean accuracy for default logistic regression: 0.8372043010752688\n",
      "Mean accuracy for liblinear logistic regression with L1 penalty: 0.8338709677419354\n"
     ]
    },
    {
     "name": "stderr",
     "output_type": "stream",
     "text": [
      "/Users/niko/opt/anaconda3/lib/python3.7/site-packages/sklearn/svm/base.py:929: ConvergenceWarning: Liblinear failed to converge, increase the number of iterations.\n",
      "  \"the number of iterations.\", ConvergenceWarning)\n"
     ]
    }
   ],
   "source": [
    "from sklearn.pipeline import make_pipeline\n",
    "\n",
    "# define full pipelines for the data, including the classfier\n",
    "logreg_kfold_pipe = make_pipeline(full_pipe, logreg) # logistic default model\n",
    "logreg_l1_kfold_pipe = make_pipeline(full_pipe, logreg_l1) # logistic liblinear l1 model \n",
    "\n",
    "# run cross-validation on logistic_default and logistic_liblinear_l1\n",
    "logreg_result_kfold = model_selection.cross_val_score(logreg_kfold_pipe, heart_clean_x, heart_clean_y, cv = kf)\n",
    "logreg_l1_result_kfold = model_selection.cross_val_score(logreg_l1_kfold_pipe, heart_clean_x, heart_clean_y, cv = kf)\n",
    "\n",
    "print(\"Mean accuracy for default logistic regression: \" + str(logreg_result_kfold.mean()))\n",
    "print(\"Mean accuracy for liblinear logistic regression with L1 penalty: \" + str(logreg_l1_result_kfold.mean()))"
   ]
  },
  {
   "cell_type": "markdown",
   "metadata": {},
   "source": [
    "### Question 4.2\n",
    "Discuss your results and why they differ slightly from what you got for the 2 models above."
   ]
  },
  {
   "cell_type": "markdown",
   "metadata": {},
   "source": [
    "I found that both models had a very similar mean accuracy score, which was higher than the accuracy they both had above. To me this means that the train_test_split I happened to use at the beginning of this notebook ended up being a permutation of the data that was harder for each of the models to do well on than the average split of the data. With 10 different randomized train/test combinations, the model generally did better than it did on the single combination used above. "
   ]
  },
  {
   "cell_type": "markdown",
   "metadata": {},
   "source": [
    "### Question 4.3\n",
    "Out of these 2 models, based on their scores for the 4 metrics, which one would you pick for this specific case of predicting if someone has heart disease or not?"
   ]
  },
  {
   "cell_type": "markdown",
   "metadata": {},
   "source": [
    "Since we're predicting heart disease, which is a potentially life-threatening condition, I would prioritize avoiding false negatives over avoiding false positives. It's much better to tell someone they may have a disease, send them in for some more scans and clinical tests, and decide later that they're actually healthy, than to accidentally tell a sick person they're predicted to be healthy and let their disease worsen without treatment.\n",
    "\n",
    "Because of this, my main metric to compare the models on will be recall. I want to focus on finding all the truly sick people who are out there, even if I accidentally predict a few healthy people to be sick. The default logistic model has higher recall than the liblinear version, so I would select the default logistic model."
   ]
  }
 ],
 "metadata": {
  "interpreter": {
   "hash": "6e627bd2c60410300477598623bd77bd77cdda4382d2d82689b452b6deecd781"
  },
  "kernelspec": {
   "display_name": "Python 3.7.4 64-bit ('base': conda)",
   "name": "python3"
  },
  "language_info": {
   "codemirror_mode": {
    "name": "ipython",
    "version": 3
   },
   "file_extension": ".py",
   "mimetype": "text/x-python",
   "name": "python",
   "nbconvert_exporter": "python",
   "pygments_lexer": "ipython3",
   "version": "3.7.4"
  }
 },
 "nbformat": 4,
 "nbformat_minor": 2
}
