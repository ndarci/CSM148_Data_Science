{
 "cells": [
  {
   "cell_type": "markdown",
   "metadata": {},
   "source": [
    "# Analysis\n",
    "\n",
    "This notebook includes the end-to-end data analysis pipeline for predicting sales in the California cannabis market. \n",
    "\n",
    "Done for Project 3 in CS M148 at UCLA."
   ]
  },
  {
   "cell_type": "code",
   "execution_count": 1,
   "metadata": {},
   "outputs": [],
   "source": [
    "import pandas as pd\n",
    "import numpy as np\n",
    "\n",
    "from collections import Counter\n",
    "\n",
    "from sklearn.preprocessing import StandardScaler\n",
    "from sklearn.pipeline import make_pipeline\n",
    "from sklearn.model_selection import TimeSeriesSplit, cross_val_score, GridSearchCV\n",
    "from sklearn.linear_model import LinearRegression, Lasso, ElasticNet\n",
    "from sklearn.ensemble import RandomForestRegressor\n",
    "from sklearn.decomposition import PCA\n",
    "from sklearn.neural_network import MLPRegressor\n",
    "import sklearn.metrics as metrics\n",
    "\n",
    "import statsmodels.api as sm \n",
    "\n",
    "from matplotlib import pyplot as plt\n",
    "import seaborn as sns"
   ]
  },
  {
   "cell_type": "markdown",
   "metadata": {},
   "source": [
    "## Define data pipeline functions"
   ]
  },
  {
   "cell_type": "code",
   "execution_count": 2,
   "metadata": {},
   "outputs": [],
   "source": [
    "def mergeTimeData(arp, totsales, totunits):\n",
    "    '''Merges raw time-level data into a single clean dataframe'''\n",
    "    # rename columns to match\n",
    "    arp.rename(columns = {'Brands': 'Brand',\n",
    "                    'vs. Prior Period': 'ARP_vsPrior'}, inplace = True)\n",
    "    totsales.rename(columns = {'Total Sales ($)': 'totSales'}, inplace = True)\n",
    "    totunits.rename(columns = {'Brands': 'Brand',\n",
    "                            'Total Units': 'totUnits',\n",
    "                            'vs. Prior Period': 'totUnits_vsPrior'}, inplace = True)\n",
    "    # combine dataframes\n",
    "    monthlev = arp.merge(totsales, how = 'outer', on = ['Brand', 'Months']).merge(totunits, how = 'outer', on = ['Brand', 'Months'])\n",
    "    # remove rows with no information in any of the important columns\n",
    "    monthlev = monthlev.dropna(subset = ['ARP', 'totSales', 'totUnits'], how = 'all').reset_index(drop = True)\n",
    "    # cast columns to correct type\n",
    "    # clean out commas in totUnits and totSales\n",
    "    monthlev.loc[:,'totUnits'] = [x.replace(',', '') for x in monthlev.totUnits]\n",
    "    monthlev.loc[:, 'totSales'] = [x.replace(',', '') if type(x) == str else np.NaN for x in monthlev.totSales ]\n",
    "    monthlev = monthlev.astype({'Brand': 'str', 'ARP': 'float', 'ARP_vsPrior': 'float', \n",
    "                                'totSales': 'float', 'totUnits': 'float', 'totUnits_vsPrior': 'float'})\n",
    "    monthlev.Months = pd.to_datetime(monthlev.Months)\n",
    "\n",
    "    # compute a rolling average of sales for this brand (average of last WINDOWSIZE months' sales)\n",
    "    WINDOWSIZE = 3\n",
    "    monthlev_roll = pd.DataFrame()\n",
    "    timecols = ['totSales', 'totUnits', 'ARP']\n",
    "    brands = monthlev.loc[:,'Brand'].unique()\n",
    "    for b in brands:\n",
    "        mli = monthlev.loc[monthlev['Brand'] == b, :].sort_values('Months')\n",
    "        for col in timecols:\n",
    "            # compute rolling average column\n",
    "            rollcolname = 'rolling_avg_' + col\n",
    "            mli.loc[:,rollcolname] = mli.loc[:,col].rolling(WINDOWSIZE, min_periods = 1).mean()\n",
    "            # shift the column so the rolling average is only from previous WINDOWSIZE months\n",
    "            newroll = list(mli.loc[:,rollcolname])[0:-1]\n",
    "            newroll.insert(0, np.NaN)\n",
    "            mli.loc[:,rollcolname] = newroll\n",
    "            # compute previous month column\n",
    "            prevcolname = 'prev_month_' + col\n",
    "            prevcol = list(mli.loc[:,col][0:-1])\n",
    "            prevcol.insert(0, np.NaN)\n",
    "            mli.loc[:,prevcolname] = prevcol\n",
    "        monthlev_roll = pd.concat([monthlev_roll, mli], axis = 0, sort = False)\n",
    "    \n",
    "    # remove initial time point for each brand; that info is now encoded in the second time point, and they won't have a rolling average\n",
    "    monthlev_roll_clean = monthlev_roll.dropna(subset = ['rolling_avg_' + c for c in timecols] + ['prev_month_' + c for c in timecols])\n",
    "    monthlev_roll_clean = monthlev_roll_clean.drop(['ARP_vsPrior', 'totUnits_vsPrior'], axis = 1)\n",
    "    \n",
    "    return monthlev_roll_clean"
   ]
  },
  {
   "cell_type": "code",
   "execution_count": 3,
   "metadata": {},
   "outputs": [],
   "source": [
    "def topX(column, x):\n",
    "    '''helper for aggregateDetails: get the X most frequent values in each column we're doing topX on'''\n",
    "    sortedcounts = sorted(Counter(column.dropna()).items(), \n",
    "                            key = lambda item: item[1], reverse = True)\n",
    "    return([pair[0] for pair in sortedcounts[0:x]])\n",
    "\n",
    "def topXproportion(column, topXvals):\n",
    "    '''helper for aggregateDetails: get the proportions of the top X values in brand's subset of a feature'''\n",
    "    thislen = len(column.dropna()) # get proportion of non-null values that are val\n",
    "    if(thislen):\n",
    "        props = [sum(column == val) / thislen for val in topXvals]\n",
    "        props.append(1 - sum(props)) # add an other column\n",
    "    else: \n",
    "        # return NA if column has none of the most common values\n",
    "        props = [np.NaN] * (len(topXvals) + 1)\n",
    "    return(props)\n",
    "\n",
    "def aggregateDetails(details):\n",
    "    '''Condense product-level details to aggregate statistics per brand'''\n",
    "    # clean up column names\n",
    "    details.rename(columns = {'Category L1': 'cat1', 'Category L2': 'cat2', 'Category L3': 'cat3', 'Category L4': 'cat4', 'Category L5': 'cat5',\n",
    "                'Product Description': 'product', 'Total Sales ($)': 'totSales_2021', 'Total Units': 'totUnits_2021', 'ARP': 'ARP_2021', \n",
    "                'Items Per Pack': 'items_per_pack', 'Item Weight': 'item_weight', 'Total THC': 'tot_THC', 'Total CBD': 'tot_CBD', 'Contains CBD': 'cont_CBD', \n",
    "                'Pax Filter': 'pax_filter', 'Is Flavored': 'is_flavored', 'Mood Effect': 'mood_effect', 'Generic Vendor': 'generic_vendor', \n",
    "                'Generic Items': 'generic_items', '$5 Price Increment': 'price_inc_5dollar'}, inplace = True)\n",
    "    \n",
    "    # select the features decided on in develop pipeline\n",
    "    keepfeat = ['cat1', 'cat2', 'cat3', 'Brand', 'product', 'items_per_pack', \n",
    "        'tot_THC', 'tot_CBD', 'cont_CBD', 'mood_effect', 'generic_vendor', 'generic_items']\n",
    "    details_clean = details.loc[:,keepfeat]\n",
    "\n",
    "    # convert binary columns to numeric\n",
    "    binarycols = ['cont_CBD', 'mood_effect', 'generic_vendor', 'generic_items']\n",
    "    details_clean.loc[:,'cont_CBD'] = details_clean.loc[:,'cont_CBD'].map({'Contains CBD': 1, 'THC Only': 0})\n",
    "    details_clean.loc[:,'mood_effect'] = details_clean.loc[:,'mood_effect'].map({'Mood Specific': 1, 'Not Mood Specific': 0})\n",
    "    details_clean.loc[:,'generic_vendor'] = details_clean.loc[:,'generic_vendor'].map({'Generic Vendors': 1, 'Non-Generic Vendors': 0})\n",
    "    details_clean.loc[:,'generic_items'] = details_clean.loc[:,'generic_items'].map({'Generic Items': 1, 'Non-Generic Items': 0})\n",
    "    details_clean.loc[:,binarycols] = details_clean.loc[:,binarycols].apply(pd.to_numeric)\n",
    "\n",
    "    # convert remaining numeric columns to numeric\n",
    "    makenumeric = ['tot_THC', 'tot_CBD']\n",
    "    details_clean.loc[:,'tot_THC'] = [x.replace(',', '') for x in details_clean.loc[:,'tot_THC']]\n",
    "    details_clean.loc[:,'tot_CBD'] = [x.replace(',', '') for x in details_clean.loc[:,'tot_CBD']]\n",
    "    details_clean.loc[:,makenumeric] = details_clean.loc[:,makenumeric].apply(pd.to_numeric)\n",
    "\n",
    "    # group on brand and aggregate details\n",
    "    # define columns I want to do top X proportion aggregation on \n",
    "    topXcols = ['cat1', 'cat2', 'cat3']\n",
    "    # group details on brand name\n",
    "    details_grouponbrand = details_clean.groupby(['Brand'])\n",
    "    NTOP = 5\n",
    "    topX_percol_dict = {}\n",
    "    for col in topXcols:\n",
    "        topX_percol_dict[col] = topX(details_clean[col], NTOP)\n",
    "    # run aggregation specific to each column\n",
    "    details_agg = details_grouponbrand.agg({'cat1': lambda c: topXproportion(c, topX_percol_dict['cat1']),\n",
    "                                            'cat2': lambda c: topXproportion(c, topX_percol_dict['cat2']),\n",
    "                                            'cat3': lambda c: topXproportion(c, topX_percol_dict['cat3']),\n",
    "                                            'items_per_pack': 'mean',\n",
    "                                            'tot_THC': 'mean',\n",
    "                                            'tot_CBD': 'mean',\n",
    "                                            'cont_CBD': 'mean',\t\n",
    "                                            'mood_effect': 'mean', \n",
    "                                            'generic_vendor': 'mean',\n",
    "                                            'generic_items': 'mean'})\n",
    "\n",
    "    # convert columns of lists into separate columns\n",
    "    notTopXcols = list(set(details_agg.columns) - set(topXcols))\n",
    "    dta = details_agg.loc[:,notTopXcols]\n",
    "    for col in topXcols:\n",
    "        thisdf = pd.DataFrame(details_agg[col].tolist(), columns = topX_percol_dict[col] + ['other_' + col])\n",
    "        dta = pd.concat([dta.reset_index(drop = True), thisdf.reset_index(drop = True)], axis = 1)\n",
    "    dta.loc[:,'Brand'] = details_agg.index\n",
    "\n",
    "    # add some augmented features\n",
    "    dta.loc[:,'THC_cross_mood'] = dta.loc[:,'tot_THC'] * dta.loc[:,'mood_effect']\n",
    "    dta.loc[:,'generic_vendor_cross_flower'] = dta.loc[:,'generic_vendor'] * dta.loc[:,'Flower']\n",
    "\n",
    "    return(dta)\n"
   ]
  },
  {
   "cell_type": "code",
   "execution_count": 4,
   "metadata": {},
   "outputs": [],
   "source": [
    "def combineTimeAndDetails(monthlev_roll_clean, dta):\n",
    "    '''Combine merged time data and brand-aggregated details into a single clean dataframe '''\n",
    "    # merge on brand\n",
    "    cookies = monthlev_roll_clean.merge(dta, on = 'Brand', how = 'left')\n",
    "    # remove the ~3k rows with NA remaining\n",
    "    cookies = cookies.dropna()\n",
    "    return cookies"
   ]
  },
  {
   "cell_type": "markdown",
   "metadata": {},
   "source": [
    "## Import data and put it through the pipeline"
   ]
  },
  {
   "cell_type": "code",
   "execution_count": 5,
   "metadata": {},
   "outputs": [],
   "source": [
    "arp = pd.read_csv('data/BrandAverageRetailPrice.csv')\n",
    "totsales = pd.read_csv('data/BrandTotalSales.csv')\n",
    "totunits = pd.read_csv('data/BrandTotalUnits.csv')\n",
    "details = pd.read_csv('data/BrandDetails.csv')"
   ]
  },
  {
   "cell_type": "code",
   "execution_count": 6,
   "metadata": {},
   "outputs": [
    {
     "data": {
      "text/html": [
       "<div>\n",
       "<style scoped>\n",
       "    .dataframe tbody tr th:only-of-type {\n",
       "        vertical-align: middle;\n",
       "    }\n",
       "\n",
       "    .dataframe tbody tr th {\n",
       "        vertical-align: top;\n",
       "    }\n",
       "\n",
       "    .dataframe thead th {\n",
       "        text-align: right;\n",
       "    }\n",
       "</style>\n",
       "<table border=\"1\" class=\"dataframe\">\n",
       "  <thead>\n",
       "    <tr style=\"text-align: right;\">\n",
       "      <th></th>\n",
       "      <th>Brand</th>\n",
       "      <th>Months</th>\n",
       "      <th>ARP</th>\n",
       "      <th>totSales</th>\n",
       "      <th>totUnits</th>\n",
       "      <th>rolling_avg_totSales</th>\n",
       "      <th>prev_month_totSales</th>\n",
       "      <th>rolling_avg_totUnits</th>\n",
       "      <th>prev_month_totUnits</th>\n",
       "      <th>rolling_avg_ARP</th>\n",
       "      <th>...</th>\n",
       "      <th>Sublinguals</th>\n",
       "      <th>other_cat2</th>\n",
       "      <th>Vape</th>\n",
       "      <th>Dabbable Concentrates</th>\n",
       "      <th>Pre-Rolled</th>\n",
       "      <th>Hybrid</th>\n",
       "      <th>Infused Pre-Rolled</th>\n",
       "      <th>other_cat3</th>\n",
       "      <th>THC_cross_mood</th>\n",
       "      <th>generic_vendor_cross_flower</th>\n",
       "    </tr>\n",
       "  </thead>\n",
       "  <tbody>\n",
       "    <tr>\n",
       "      <td>0</td>\n",
       "      <td>#BlackSeries</td>\n",
       "      <td>2021-01-01</td>\n",
       "      <td>13.611428</td>\n",
       "      <td>9739.423400</td>\n",
       "      <td>715.532838</td>\n",
       "      <td>25352.135918</td>\n",
       "      <td>25352.135918</td>\n",
       "      <td>1616.339004</td>\n",
       "      <td>1616.339004</td>\n",
       "      <td>15.684913</td>\n",
       "      <td>...</td>\n",
       "      <td>0.0</td>\n",
       "      <td>0.0</td>\n",
       "      <td>0.0</td>\n",
       "      <td>0.000000</td>\n",
       "      <td>0.000000</td>\n",
       "      <td>0.5</td>\n",
       "      <td>0.000000</td>\n",
       "      <td>0.5</td>\n",
       "      <td>0.0</td>\n",
       "      <td>0.0</td>\n",
       "    </tr>\n",
       "    <tr>\n",
       "      <td>1</td>\n",
       "      <td>#BlackSeries</td>\n",
       "      <td>2021-02-01</td>\n",
       "      <td>11.873182</td>\n",
       "      <td>9102.802187</td>\n",
       "      <td>766.669135</td>\n",
       "      <td>17545.779659</td>\n",
       "      <td>9739.423400</td>\n",
       "      <td>1165.935921</td>\n",
       "      <td>715.532838</td>\n",
       "      <td>14.648170</td>\n",
       "      <td>...</td>\n",
       "      <td>0.0</td>\n",
       "      <td>0.0</td>\n",
       "      <td>0.0</td>\n",
       "      <td>0.000000</td>\n",
       "      <td>0.000000</td>\n",
       "      <td>0.5</td>\n",
       "      <td>0.000000</td>\n",
       "      <td>0.5</td>\n",
       "      <td>0.0</td>\n",
       "      <td>0.0</td>\n",
       "    </tr>\n",
       "    <tr>\n",
       "      <td>2</td>\n",
       "      <td>101 Cannabis Co.</td>\n",
       "      <td>2020-01-01</td>\n",
       "      <td>34.134929</td>\n",
       "      <td>11790.663567</td>\n",
       "      <td>345.413448</td>\n",
       "      <td>4465.040321</td>\n",
       "      <td>4465.040321</td>\n",
       "      <td>131.067720</td>\n",
       "      <td>131.067720</td>\n",
       "      <td>34.066667</td>\n",
       "      <td>...</td>\n",
       "      <td>0.0</td>\n",
       "      <td>0.0</td>\n",
       "      <td>0.0</td>\n",
       "      <td>0.935065</td>\n",
       "      <td>0.000000</td>\n",
       "      <td>0.0</td>\n",
       "      <td>0.064935</td>\n",
       "      <td>0.0</td>\n",
       "      <td>0.0</td>\n",
       "      <td>0.0</td>\n",
       "    </tr>\n",
       "    <tr>\n",
       "      <td>3</td>\n",
       "      <td>101 Cannabis Co.</td>\n",
       "      <td>2020-02-01</td>\n",
       "      <td>29.091388</td>\n",
       "      <td>20266.761007</td>\n",
       "      <td>696.658431</td>\n",
       "      <td>8127.851944</td>\n",
       "      <td>11790.663567</td>\n",
       "      <td>238.240584</td>\n",
       "      <td>345.413448</td>\n",
       "      <td>34.100798</td>\n",
       "      <td>...</td>\n",
       "      <td>0.0</td>\n",
       "      <td>0.0</td>\n",
       "      <td>0.0</td>\n",
       "      <td>0.935065</td>\n",
       "      <td>0.000000</td>\n",
       "      <td>0.0</td>\n",
       "      <td>0.064935</td>\n",
       "      <td>0.0</td>\n",
       "      <td>0.0</td>\n",
       "      <td>0.0</td>\n",
       "    </tr>\n",
       "    <tr>\n",
       "      <td>4</td>\n",
       "      <td>101 Cannabis Co.</td>\n",
       "      <td>2020-03-01</td>\n",
       "      <td>32.293498</td>\n",
       "      <td>30465.470533</td>\n",
       "      <td>943.393328</td>\n",
       "      <td>12174.154965</td>\n",
       "      <td>20266.761007</td>\n",
       "      <td>391.046533</td>\n",
       "      <td>696.658431</td>\n",
       "      <td>32.430995</td>\n",
       "      <td>...</td>\n",
       "      <td>0.0</td>\n",
       "      <td>0.0</td>\n",
       "      <td>0.0</td>\n",
       "      <td>0.935065</td>\n",
       "      <td>0.000000</td>\n",
       "      <td>0.0</td>\n",
       "      <td>0.064935</td>\n",
       "      <td>0.0</td>\n",
       "      <td>0.0</td>\n",
       "      <td>0.0</td>\n",
       "    </tr>\n",
       "    <tr>\n",
       "      <td>...</td>\n",
       "      <td>...</td>\n",
       "      <td>...</td>\n",
       "      <td>...</td>\n",
       "      <td>...</td>\n",
       "      <td>...</td>\n",
       "      <td>...</td>\n",
       "      <td>...</td>\n",
       "      <td>...</td>\n",
       "      <td>...</td>\n",
       "      <td>...</td>\n",
       "      <td>...</td>\n",
       "      <td>...</td>\n",
       "      <td>...</td>\n",
       "      <td>...</td>\n",
       "      <td>...</td>\n",
       "      <td>...</td>\n",
       "      <td>...</td>\n",
       "      <td>...</td>\n",
       "      <td>...</td>\n",
       "      <td>...</td>\n",
       "      <td>...</td>\n",
       "    </tr>\n",
       "    <tr>\n",
       "      <td>23633</td>\n",
       "      <td>Zkittlez</td>\n",
       "      <td>2021-03-01</td>\n",
       "      <td>39.352005</td>\n",
       "      <td>30241.899130</td>\n",
       "      <td>768.497040</td>\n",
       "      <td>6116.791592</td>\n",
       "      <td>3848.649409</td>\n",
       "      <td>111.146389</td>\n",
       "      <td>61.006881</td>\n",
       "      <td>55.554205</td>\n",
       "      <td>...</td>\n",
       "      <td>0.0</td>\n",
       "      <td>0.0</td>\n",
       "      <td>0.0</td>\n",
       "      <td>0.533333</td>\n",
       "      <td>0.466667</td>\n",
       "      <td>0.0</td>\n",
       "      <td>0.000000</td>\n",
       "      <td>0.0</td>\n",
       "      <td>0.0</td>\n",
       "      <td>0.0</td>\n",
       "    </tr>\n",
       "    <tr>\n",
       "      <td>23634</td>\n",
       "      <td>Zkittlez</td>\n",
       "      <td>2021-04-01</td>\n",
       "      <td>39.387355</td>\n",
       "      <td>35209.055568</td>\n",
       "      <td>893.917749</td>\n",
       "      <td>14584.506270</td>\n",
       "      <td>30241.899130</td>\n",
       "      <td>331.358823</td>\n",
       "      <td>768.497040</td>\n",
       "      <td>53.717689</td>\n",
       "      <td>...</td>\n",
       "      <td>0.0</td>\n",
       "      <td>0.0</td>\n",
       "      <td>0.0</td>\n",
       "      <td>0.533333</td>\n",
       "      <td>0.466667</td>\n",
       "      <td>0.0</td>\n",
       "      <td>0.000000</td>\n",
       "      <td>0.0</td>\n",
       "      <td>0.0</td>\n",
       "      <td>0.0</td>\n",
       "    </tr>\n",
       "    <tr>\n",
       "      <td>23635</td>\n",
       "      <td>Zkittlez</td>\n",
       "      <td>2021-05-01</td>\n",
       "      <td>40.463240</td>\n",
       "      <td>25006.899159</td>\n",
       "      <td>618.015240</td>\n",
       "      <td>23099.868036</td>\n",
       "      <td>35209.055568</td>\n",
       "      <td>574.473890</td>\n",
       "      <td>893.917749</td>\n",
       "      <td>47.274952</td>\n",
       "      <td>...</td>\n",
       "      <td>0.0</td>\n",
       "      <td>0.0</td>\n",
       "      <td>0.0</td>\n",
       "      <td>0.533333</td>\n",
       "      <td>0.466667</td>\n",
       "      <td>0.0</td>\n",
       "      <td>0.000000</td>\n",
       "      <td>0.0</td>\n",
       "      <td>0.0</td>\n",
       "      <td>0.0</td>\n",
       "    </tr>\n",
       "    <tr>\n",
       "      <td>23636</td>\n",
       "      <td>Zkittlez</td>\n",
       "      <td>2021-06-01</td>\n",
       "      <td>38.295832</td>\n",
       "      <td>15835.402614</td>\n",
       "      <td>413.501985</td>\n",
       "      <td>30152.617952</td>\n",
       "      <td>25006.899159</td>\n",
       "      <td>760.143343</td>\n",
       "      <td>618.015240</td>\n",
       "      <td>39.734200</td>\n",
       "      <td>...</td>\n",
       "      <td>0.0</td>\n",
       "      <td>0.0</td>\n",
       "      <td>0.0</td>\n",
       "      <td>0.533333</td>\n",
       "      <td>0.466667</td>\n",
       "      <td>0.0</td>\n",
       "      <td>0.000000</td>\n",
       "      <td>0.0</td>\n",
       "      <td>0.0</td>\n",
       "      <td>0.0</td>\n",
       "    </tr>\n",
       "    <tr>\n",
       "      <td>23637</td>\n",
       "      <td>Zkittlez</td>\n",
       "      <td>2021-07-01</td>\n",
       "      <td>51.224714</td>\n",
       "      <td>1041.125100</td>\n",
       "      <td>20.324664</td>\n",
       "      <td>25350.452447</td>\n",
       "      <td>15835.402614</td>\n",
       "      <td>641.811658</td>\n",
       "      <td>413.501985</td>\n",
       "      <td>39.382142</td>\n",
       "      <td>...</td>\n",
       "      <td>0.0</td>\n",
       "      <td>0.0</td>\n",
       "      <td>0.0</td>\n",
       "      <td>0.533333</td>\n",
       "      <td>0.466667</td>\n",
       "      <td>0.0</td>\n",
       "      <td>0.000000</td>\n",
       "      <td>0.0</td>\n",
       "      <td>0.0</td>\n",
       "      <td>0.0</td>\n",
       "    </tr>\n",
       "  </tbody>\n",
       "</table>\n",
       "<p>20313 rows × 38 columns</p>\n",
       "</div>"
      ],
      "text/plain": [
       "                  Brand     Months        ARP      totSales    totUnits  \\\n",
       "0          #BlackSeries 2021-01-01  13.611428   9739.423400  715.532838   \n",
       "1          #BlackSeries 2021-02-01  11.873182   9102.802187  766.669135   \n",
       "2      101 Cannabis Co. 2020-01-01  34.134929  11790.663567  345.413448   \n",
       "3      101 Cannabis Co. 2020-02-01  29.091388  20266.761007  696.658431   \n",
       "4      101 Cannabis Co. 2020-03-01  32.293498  30465.470533  943.393328   \n",
       "...                 ...        ...        ...           ...         ...   \n",
       "23633          Zkittlez 2021-03-01  39.352005  30241.899130  768.497040   \n",
       "23634          Zkittlez 2021-04-01  39.387355  35209.055568  893.917749   \n",
       "23635          Zkittlez 2021-05-01  40.463240  25006.899159  618.015240   \n",
       "23636          Zkittlez 2021-06-01  38.295832  15835.402614  413.501985   \n",
       "23637          Zkittlez 2021-07-01  51.224714   1041.125100   20.324664   \n",
       "\n",
       "       rolling_avg_totSales  prev_month_totSales  rolling_avg_totUnits  \\\n",
       "0              25352.135918         25352.135918           1616.339004   \n",
       "1              17545.779659          9739.423400           1165.935921   \n",
       "2               4465.040321          4465.040321            131.067720   \n",
       "3               8127.851944         11790.663567            238.240584   \n",
       "4              12174.154965         20266.761007            391.046533   \n",
       "...                     ...                  ...                   ...   \n",
       "23633           6116.791592          3848.649409            111.146389   \n",
       "23634          14584.506270         30241.899130            331.358823   \n",
       "23635          23099.868036         35209.055568            574.473890   \n",
       "23636          30152.617952         25006.899159            760.143343   \n",
       "23637          25350.452447         15835.402614            641.811658   \n",
       "\n",
       "       prev_month_totUnits  rolling_avg_ARP  ...  Sublinguals  other_cat2  \\\n",
       "0              1616.339004        15.684913  ...          0.0         0.0   \n",
       "1               715.532838        14.648170  ...          0.0         0.0   \n",
       "2               131.067720        34.066667  ...          0.0         0.0   \n",
       "3               345.413448        34.100798  ...          0.0         0.0   \n",
       "4               696.658431        32.430995  ...          0.0         0.0   \n",
       "...                    ...              ...  ...          ...         ...   \n",
       "23633            61.006881        55.554205  ...          0.0         0.0   \n",
       "23634           768.497040        53.717689  ...          0.0         0.0   \n",
       "23635           893.917749        47.274952  ...          0.0         0.0   \n",
       "23636           618.015240        39.734200  ...          0.0         0.0   \n",
       "23637           413.501985        39.382142  ...          0.0         0.0   \n",
       "\n",
       "       Vape  Dabbable Concentrates  Pre-Rolled  Hybrid  Infused Pre-Rolled  \\\n",
       "0       0.0               0.000000    0.000000     0.5            0.000000   \n",
       "1       0.0               0.000000    0.000000     0.5            0.000000   \n",
       "2       0.0               0.935065    0.000000     0.0            0.064935   \n",
       "3       0.0               0.935065    0.000000     0.0            0.064935   \n",
       "4       0.0               0.935065    0.000000     0.0            0.064935   \n",
       "...     ...                    ...         ...     ...                 ...   \n",
       "23633   0.0               0.533333    0.466667     0.0            0.000000   \n",
       "23634   0.0               0.533333    0.466667     0.0            0.000000   \n",
       "23635   0.0               0.533333    0.466667     0.0            0.000000   \n",
       "23636   0.0               0.533333    0.466667     0.0            0.000000   \n",
       "23637   0.0               0.533333    0.466667     0.0            0.000000   \n",
       "\n",
       "       other_cat3  THC_cross_mood  generic_vendor_cross_flower  \n",
       "0             0.5             0.0                          0.0  \n",
       "1             0.5             0.0                          0.0  \n",
       "2             0.0             0.0                          0.0  \n",
       "3             0.0             0.0                          0.0  \n",
       "4             0.0             0.0                          0.0  \n",
       "...           ...             ...                          ...  \n",
       "23633         0.0             0.0                          0.0  \n",
       "23634         0.0             0.0                          0.0  \n",
       "23635         0.0             0.0                          0.0  \n",
       "23636         0.0             0.0                          0.0  \n",
       "23637         0.0             0.0                          0.0  \n",
       "\n",
       "[20313 rows x 38 columns]"
      ]
     },
     "execution_count": 6,
     "metadata": {},
     "output_type": "execute_result"
    }
   ],
   "source": [
    "cookies = combineTimeAndDetails(mergeTimeData(arp, totsales, totunits), \n",
    "                                aggregateDetails(details))\n",
    "cookies"
   ]
  },
  {
   "cell_type": "markdown",
   "metadata": {},
   "source": [
    "### Split off labels and define scaling method"
   ]
  },
  {
   "cell_type": "code",
   "execution_count": 7,
   "metadata": {},
   "outputs": [],
   "source": [
    "# needs to be sorted on month to do time series CV later\n",
    "cookies = cookies.sort_values(by = 'Months')"
   ]
  },
  {
   "cell_type": "code",
   "execution_count": 8,
   "metadata": {},
   "outputs": [
    {
     "name": "stdout",
     "output_type": "stream",
     "text": [
      "(20313, 29)\n",
      "(20313,)\n"
     ]
    }
   ],
   "source": [
    "cookies_y = cookies.loc[:,'totSales']\n",
    "cookies_x = cookies.drop(['Brand', 'Months', 'totSales', 'totUnits', \n",
    "                        'prev_month_totSales', 'rolling_avg_totUnits', \n",
    "                        'prev_month_totUnits', 'ARP', 'prev_month_ARP'], axis = 1)\n",
    "\n",
    "numcols = cookies_x.columns\n",
    "\n",
    "print(cookies_x.shape)\n",
    "print(cookies_y.shape)\n",
    "\n",
    "# pipeline is just standardscaler, everything is numeric\n",
    "pipe = StandardScaler()"
   ]
  },
  {
   "cell_type": "markdown",
   "metadata": {},
   "source": [
    "## Explore the cleaned, merged dataset with some basic statistics"
   ]
  },
  {
   "cell_type": "markdown",
   "metadata": {},
   "source": [
    "#### Figure 1"
   ]
  },
  {
   "cell_type": "code",
   "execution_count": 9,
   "metadata": {},
   "outputs": [
    {
     "data": {
      "text/plain": [
       "<matplotlib.axes._subplots.AxesSubplot at 0x7fb026373d10>"
      ]
     },
     "execution_count": 9,
     "metadata": {},
     "output_type": "execute_result"
    },
    {
     "data": {
      "image/png": "[encoded data removed]",
      "text/plain": [
       "<Figure size 576x504 with 2 Axes>"
      ]
     },
     "metadata": {},
     "output_type": "display_data"
    }
   ],
   "source": [
    "# correlate all the features with each other\n",
    "cortable = cookies.corr(method = 'pearson')\n",
    "\n",
    "sns.set(rc = {'figure.figsize':(8, 7)})\n",
    "sns.heatmap(cortable, vmin = -1, vmax = 1, cmap = 'coolwarm', \n",
    "            xticklabels = True, yticklabels = True)"
   ]
  },
  {
   "cell_type": "code",
   "execution_count": 10,
   "metadata": {},
   "outputs": [
    {
     "name": "stdout",
     "output_type": "stream",
     "text": [
      "other_cat2           -0.087804\n",
      "other_cat3           -0.086252\n",
      "All Accessories      -0.065689\n",
      "Topicals             -0.051829\n",
      "Ingestibles          -0.035176\n",
      "cont_CBD             -0.033893\n",
      "tot_THC              -0.029145\n",
      "Edibles              -0.027805\n",
      "Infused Pre-Rolled   -0.026497\n",
      "Sublinguals          -0.023020\n",
      "Name: totSales, dtype: float64\n",
      "Vape                           0.153533\n",
      "other_cat1                     0.240451\n",
      "generic_vendor                 0.313528\n",
      "generic_vendor_cross_flower    0.719664\n",
      "rolling_avg_totUnits           0.865416\n",
      "prev_month_totUnits            0.867671\n",
      "totUnits                       0.874069\n",
      "rolling_avg_totSales           0.990862\n",
      "prev_month_totSales            0.993192\n",
      "totSales                       1.000000\n",
      "Name: totSales, dtype: float64\n",
      "rolling_avg_ARP   -0.080241\n",
      "ARP               -0.078492\n",
      "prev_month_ARP    -0.078354\n",
      "other_cat2        -0.057762\n",
      "other_cat3        -0.053354\n",
      "Name: totUnits, dtype: float64\n",
      "rolling_avg_totSales           0.875550\n",
      "generic_vendor_cross_flower    0.912745\n",
      "rolling_avg_totUnits           0.991780\n",
      "prev_month_totUnits            0.993070\n",
      "totUnits                       1.000000\n",
      "Name: totUnits, dtype: float64\n"
     ]
    }
   ],
   "source": [
    "# find features most highly correlated with sales/units\n",
    "print(cortable.loc[:,'totSales'].sort_values().head(10))\n",
    "print(cortable.loc[:,'totSales'].sort_values().tail(10))\n",
    "\n",
    "print(cortable.loc[:,'totUnits'].sort_values().head())\n",
    "print(cortable.loc[:,'totUnits'].sort_values().tail())"
   ]
  },
  {
   "cell_type": "markdown",
   "metadata": {},
   "source": [
    "## Run standard models"
   ]
  },
  {
   "cell_type": "code",
   "execution_count": 11,
   "metadata": {},
   "outputs": [],
   "source": [
    "def regression_results(y_true, y_pred):\n",
    "    '''function to get model performance'''\n",
    "    # Regression metrics\n",
    "    explained_variance=metrics.explained_variance_score(y_true, y_pred)\n",
    "    mean_absolute_error=metrics.mean_absolute_error(y_true, y_pred) \n",
    "    mse=metrics.mean_squared_error(y_true, y_pred) \n",
    "    median_absolute_error=metrics.median_absolute_error(y_true, y_pred)\n",
    "    r2=metrics.r2_score(y_true, y_pred)\n",
    "    return {'explained_variance': round(explained_variance, 4), \n",
    "            'r2': round(r2, 4), \n",
    "            'MAE': round(mean_absolute_error, 4), \n",
    "            'MSE': round(mse, 4), \n",
    "            'RMSE': round(np.sqrt(mse), 4)}"
   ]
  },
  {
   "cell_type": "code",
   "execution_count": 12,
   "metadata": {},
   "outputs": [
    {
     "name": "stdout",
     "output_type": "stream",
     "text": [
      "(18760, 29) (18760,)\n",
      "(1553, 29) (1553,)\n"
     ]
    }
   ],
   "source": [
    "# generate the train/test split we'll use for all of these models\n",
    "\n",
    "# since we want to predict the future, \n",
    "# use the most recent time points as the test set\n",
    "cutoffdate = '2021-08-01'\n",
    "\n",
    "train = cookies_x.loc[cookies['Months'] < cutoffdate]\n",
    "test = cookies_x.loc[cookies['Months'] >= cutoffdate]\n",
    "train_lab = cookies_y.loc[cookies['Months'] < cutoffdate]\n",
    "test_lab = cookies_y.loc[cookies['Months'] >= cutoffdate]\n",
    "\n",
    "# scale and center features\n",
    "train_pipe = pipe.fit_transform(train)\n",
    "test_pipe = pipe.transform(test)\n",
    "\n",
    "print(train_pipe.shape, train_lab.shape)\n",
    "print(test_pipe.shape, test_lab.shape)"
   ]
  },
  {
   "cell_type": "markdown",
   "metadata": {},
   "source": [
    "### Linear regression"
   ]
  },
  {
   "cell_type": "code",
   "execution_count": 13,
   "metadata": {},
   "outputs": [
    {
     "data": {
      "text/plain": [
       "{'explained_variance': 0.9881,\n",
       " 'r2': 0.9872,\n",
       " 'MAE': 75054.3482,\n",
       " 'MSE': 30399308802.5012,\n",
       " 'RMSE': 174353.9756}"
      ]
     },
     "execution_count": 13,
     "metadata": {},
     "output_type": "execute_result"
    }
   ],
   "source": [
    "# get a linear regression model\n",
    "linreg = LinearRegression()\n",
    "\n",
    "# fit to training data\n",
    "linreg.fit(train_pipe, train_lab)\n",
    "\n",
    "# predict test labels\n",
    "test_pred_linreg = linreg.predict(test_pipe)\n",
    "\n",
    "# check performance\n",
    "regression_results(test_lab, test_pred_linreg)"
   ]
  },
  {
   "cell_type": "code",
   "execution_count": 14,
   "metadata": {},
   "outputs": [
    {
     "name": "stdout",
     "output_type": "stream",
     "text": [
      "                                 OLS Regression Results                                \n",
      "=======================================================================================\n",
      "Dep. Variable:               totSales   R-squared (uncentered):                   0.910\n",
      "Model:                            OLS   Adj. R-squared (uncentered):              0.910\n",
      "Method:                 Least Squares   F-statistic:                              8202.\n",
      "Date:                Wed, 01 Dec 2021   Prob (F-statistic):                        0.00\n",
      "Time:                        15:06:53   Log-Likelihood:                     -2.7450e+05\n",
      "No. Observations:               18760   AIC:                                  5.491e+05\n",
      "Df Residuals:                   18737   BIC:                                  5.492e+05\n",
      "Df Model:                          23                                                  \n",
      "Covariance Type:            nonrobust                                                  \n",
      "==============================================================================\n",
      "                 coef    std err          t      P>|t|      [0.025      0.975]\n",
      "------------------------------------------------------------------------------\n",
      "x1          1.748e+06   6654.229    262.680      0.000    1.73e+06    1.76e+06\n",
      "x2         -4451.1403   4680.706     -0.951      0.342   -1.36e+04    4723.467\n",
      "x3         -2548.1037   4991.720     -0.510      0.610   -1.23e+04    7236.121\n",
      "x4          1181.9108   6030.935      0.196      0.845   -1.06e+04     1.3e+04\n",
      "x5          -418.9173   5089.999     -0.082      0.934   -1.04e+04    9557.942\n",
      "x6          2592.2147   4700.220      0.552      0.581   -6620.642    1.18e+04\n",
      "x7         -1482.6882   7466.943     -0.199      0.843   -1.61e+04    1.32e+04\n",
      "x8         -7340.4637   5795.184     -1.267      0.205   -1.87e+04    4018.623\n",
      "x9         -2777.1339   5484.621     -0.506      0.613   -1.35e+04    7973.220\n",
      "x10        -3069.6368   3.51e+04     -0.087      0.930   -7.19e+04    6.58e+04\n",
      "x11         2355.4764   2.41e+04      0.098      0.922   -4.48e+04    4.95e+04\n",
      "x12         2746.7412   8155.861      0.337      0.736   -1.32e+04    1.87e+04\n",
      "x13         1226.5153   1.24e+04      0.099      0.921   -2.31e+04    2.55e+04\n",
      "x14         -237.9290   1.54e+04     -0.015      0.988   -3.05e+04       3e+04\n",
      "x15         1.561e+04   4311.489      3.620      0.000    7157.963    2.41e+04\n",
      "x16        -6542.2609   1.01e+05     -0.065      0.948   -2.04e+05    1.91e+05\n",
      "x17         1636.5852   3334.017      0.491      0.624   -4898.390    8171.560\n",
      "x18         2071.7665   6.76e+04      0.031      0.976    -1.3e+05    1.35e+05\n",
      "x19         2869.4218   2.18e+04      0.132      0.895   -3.98e+04    4.55e+04\n",
      "x20         -673.2299   1.09e+04     -0.062      0.951   -2.19e+04    2.06e+04\n",
      "x21         1554.4599   2.13e+04      0.073      0.942   -4.01e+04    4.32e+04\n",
      "x22         6929.5697    7.2e+04      0.096      0.923   -1.34e+05    1.48e+05\n",
      "x23         6900.7910   8.39e+04      0.082      0.934   -1.58e+05    1.71e+05\n",
      "x24         1782.8385   3680.093      0.484      0.628   -5430.478    8996.155\n",
      "x25        -2074.2871   4.64e+04     -0.045      0.964    -9.3e+04    8.88e+04\n",
      "x26          399.0738   3762.053      0.106      0.916   -6974.891    7773.038\n",
      "x27        -8880.2305   7.76e+04     -0.114      0.909   -1.61e+05    1.43e+05\n",
      "x28         6117.2195   6155.170      0.994      0.320   -5947.471    1.82e+04\n",
      "x29        -1.913e+04   6501.841     -2.942      0.003   -3.19e+04   -6382.551\n",
      "==============================================================================\n",
      "Omnibus:                    15228.322   Durbin-Watson:                   0.371\n",
      "Prob(Omnibus):                  0.000   Jarque-Bera (JB):          9757923.229\n",
      "Skew:                           2.740   Prob(JB):                         0.00\n",
      "Kurtosis:                     114.595   Cond. No.                     1.23e+16\n",
      "==============================================================================\n",
      "\n",
      "Warnings:\n",
      "[1] Standard Errors assume that the covariance matrix of the errors is correctly specified.\n",
      "[2] The smallest eigenvalue is 7.78e-28. This might indicate that there are\n",
      "strong multicollinearity problems or that the design matrix is singular.\n"
     ]
    }
   ],
   "source": [
    "# find individual stats for each feature\n",
    "olsmod = sm.OLS(train_lab, train_pipe) # define OLS model\n",
    "olsfit = olsmod.fit() # fit model\n",
    "print(olsfit.summary()) # get statistics"
   ]
  },
  {
   "cell_type": "markdown",
   "metadata": {},
   "source": [
    "### PCA"
   ]
  },
  {
   "cell_type": "code",
   "execution_count": null,
   "metadata": {},
   "outputs": [],
   "source": [
    "# confirm that data is centered and scaled\n",
    "print(train_pipe.mean(axis = 0))\n",
    "print(train_pipe.std(axis = 0))"
   ]
  },
  {
   "cell_type": "code",
   "execution_count": 15,
   "metadata": {},
   "outputs": [],
   "source": [
    "NCOMP = 10\n",
    "\n",
    "# get PCA object\n",
    "pcaobj = PCA(n_components = NCOMP)\n",
    "\n",
    "# calculate PCs\n",
    "PCs = pcaobj.fit_transform(pipe.transform(cookies_x))"
   ]
  },
  {
   "cell_type": "markdown",
   "metadata": {},
   "source": [
    "#### Figure 2"
   ]
  },
  {
   "cell_type": "code",
   "execution_count": 16,
   "metadata": {},
   "outputs": [
    {
     "data": {
      "text/plain": [
       "Text(0, 0.5, 'Proportion of variance explained')"
      ]
     },
     "execution_count": 16,
     "metadata": {},
     "output_type": "execute_result"
    },
    {
     "data": {
      "image/png": "[encoded data removed]",
      "text/plain": [
       "<Figure size 640x480 with 1 Axes>"
      ]
     },
     "metadata": {},
     "output_type": "display_data"
    }
   ],
   "source": [
    "sns.reset_defaults()\n",
    "# plot variance explained per PC\n",
    "varplot = sns.lineplot(list(range(1, NCOMP+1)), \n",
    "            pcaobj.explained_variance_ratio_,\n",
    "            marker = 'o')\n",
    "varplot.set_xlabel(\"PC\")\n",
    "varplot.set_ylabel(\"Proportion of variance explained\")"
   ]
  },
  {
   "cell_type": "markdown",
   "metadata": {},
   "source": [
    "#### Figure 3"
   ]
  },
  {
   "cell_type": "code",
   "execution_count": 17,
   "metadata": {},
   "outputs": [
    {
     "data": {
      "text/plain": [
       "Text(0, 0.5, 'PC5')"
      ]
     },
     "execution_count": 17,
     "metadata": {},
     "output_type": "execute_result"
    },
    {
     "data": {
      "image/png": "[encoded data removed]",
      "text/plain": [
       "<Figure size 640x480 with 1 Axes>"
      ]
     },
     "metadata": {},
     "output_type": "display_data"
    }
   ],
   "source": [
    "# plot some PCs\n",
    "pcaplot = sns.scatterplot(PCs[:,4], PCs[:,5], hue = cookies_y)\n",
    "pcaplot.set_xlabel(\"PC4\")\n",
    "pcaplot.set_ylabel(\"PC5\")"
   ]
  },
  {
   "cell_type": "markdown",
   "metadata": {},
   "source": [
    "### Ensemble method"
   ]
  },
  {
   "cell_type": "code",
   "execution_count": 18,
   "metadata": {},
   "outputs": [
    {
     "data": {
      "text/plain": [
       "{'explained_variance': 0.9848,\n",
       " 'r2': 0.9839,\n",
       " 'MAE': 77521.648,\n",
       " 'MSE': 38254012226.3888,\n",
       " 'RMSE': 195586.3293}"
      ]
     },
     "execution_count": 18,
     "metadata": {},
     "output_type": "execute_result"
    }
   ],
   "source": [
    "# get a RF regressor\n",
    "rfreg = RandomForestRegressor(n_estimators = 50, max_depth = 5)\n",
    "\n",
    "# fit to train data\n",
    "rfreg.fit(train_pipe, train_lab)\n",
    "\n",
    "# predict test labels\n",
    "test_pred_rfreg = rfreg.predict(test_pipe)\n",
    "\n",
    "regression_results(test_lab, test_pred_rfreg)"
   ]
  },
  {
   "cell_type": "markdown",
   "metadata": {},
   "source": [
    "## K-fold cross validation"
   ]
  },
  {
   "cell_type": "code",
   "execution_count": 19,
   "metadata": {},
   "outputs": [
    {
     "name": "stdout",
     "output_type": "stream",
     "text": [
      "TRAIN: [   0    1    2 ... 3385 3386 3387] TEST: [3388 3389 3390 ... 6770 6771 6772]\n",
      "TRAIN: [   0    1    2 ... 6770 6771 6772] TEST: [ 6773  6774  6775 ... 10155 10156 10157]\n",
      "TRAIN: [    0     1     2 ... 10155 10156 10157] TEST: [10158 10159 10160 ... 13540 13541 13542]\n",
      "TRAIN: [    0     1     2 ... 13540 13541 13542] TEST: [13543 13544 13545 ... 16925 16926 16927]\n",
      "TRAIN: [    0     1     2 ... 16925 16926 16927] TEST: [16928 16929 16930 ... 20310 20311 20312]\n"
     ]
    }
   ],
   "source": [
    "# since this is time series data, I will use K different cutoff points\n",
    "# defining what is 'past' and what is 'future'\n",
    "K_ALL = 5\n",
    "\n",
    "tscv = TimeSeriesSplit(n_splits = K_ALL)\n",
    "\n",
    "# verify the time series split worked correctly\n",
    "for train_index, test_index in tscv.split(cookies_x):\n",
    "    print(\"TRAIN:\", train_index, \"TEST:\", test_index)\n"
   ]
  },
  {
   "cell_type": "code",
   "execution_count": 20,
   "metadata": {},
   "outputs": [
    {
     "name": "stdout",
     "output_type": "stream",
     "text": [
      "Mean negative MSE from linear regression CV: -56349722220.67122\n"
     ]
    }
   ],
   "source": [
    "# k-fold CV on the linear regression\n",
    "linreg_kfold_pipe = make_pipeline(pipe, linreg)\n",
    "linreg_result_kfold = cross_val_score(linreg_kfold_pipe, \n",
    "                                    cookies_x, cookies_y, cv = tscv, \n",
    "                                    scoring = 'neg_mean_squared_error')\n",
    "\n",
    "nmse_linreg = linreg_result_kfold.mean()\n",
    "print(\"Mean negative MSE from linear regression CV: \" + str(linreg_result_kfold.mean()))"
   ]
  },
  {
   "cell_type": "markdown",
   "metadata": {},
   "source": [
    "## Grid search"
   ]
  },
  {
   "cell_type": "code",
   "execution_count": 21,
   "metadata": {},
   "outputs": [
    {
     "data": {
      "text/plain": [
       "GridSearchCV(cv=TimeSeriesSplit(max_train_size=None, n_splits=5),\n",
       "             error_score='raise-deprecating',\n",
       "             estimator=RandomForestRegressor(bootstrap=True, criterion='mse',\n",
       "                                             max_depth=None,\n",
       "                                             max_features='auto',\n",
       "                                             max_leaf_nodes=None,\n",
       "                                             min_impurity_decrease=0.0,\n",
       "                                             min_impurity_split=None,\n",
       "                                             min_samples_leaf=1,\n",
       "                                             min_samples_split=2,\n",
       "                                             min_weight_fraction_leaf=0.0,\n",
       "                                             n_estimators='warn', n_jobs=None,\n",
       "                                             oob_score=False, random_state=None,\n",
       "                                             verbose=0, warm_start=False),\n",
       "             iid='warn', n_jobs=None,\n",
       "             param_grid={'max_depth': [1, 2, 3, 4, 5],\n",
       "                         'n_estimators': [1, 5, 10, 50, 100]},\n",
       "             pre_dispatch='2*n_jobs', refit=True, return_train_score=False,\n",
       "             scoring='neg_mean_squared_error', verbose=0)"
      ]
     },
     "execution_count": 21,
     "metadata": {},
     "output_type": "execute_result"
    }
   ],
   "source": [
    "# grid search on RF with time series cross validation\n",
    "rfgrid = {'n_estimators': [1, 5, 10, 50, 100], \n",
    "            'max_depth': [1, 2, 3, 4, 5]}\n",
    "\n",
    "gridsearch_rf = GridSearchCV(RandomForestRegressor(), rfgrid, cv = tscv, scoring = 'neg_mean_squared_error')\n",
    "\n",
    "gridsearch_rf.fit(cookies_x, cookies_y)\n"
   ]
  },
  {
   "cell_type": "code",
   "execution_count": 22,
   "metadata": {},
   "outputs": [
    {
     "name": "stdout",
     "output_type": "stream",
     "text": [
      "Best parameters from grid search: {'max_depth': 5, 'n_estimators': 100}\n",
      "Best negative MSE from grid search: -65214079738.974884\n"
     ]
    }
   ],
   "source": [
    "nmse_rf = gridsearch_rf.best_score_\n",
    "\n",
    "print(\"Best parameters from grid search: \" + str(gridsearch_rf.best_params_))\n",
    "print(\"Best negative MSE from grid search: \" + str(gridsearch_rf.best_score_))"
   ]
  },
  {
   "cell_type": "markdown",
   "metadata": {},
   "source": [
    "## Experiment with more models"
   ]
  },
  {
   "cell_type": "markdown",
   "metadata": {},
   "source": [
    "### Lasso regression"
   ]
  },
  {
   "cell_type": "code",
   "execution_count": 23,
   "metadata": {},
   "outputs": [
    {
     "name": "stderr",
     "output_type": "stream",
     "text": [
      "/Users/niko/opt/anaconda3/lib/python3.7/site-packages/sklearn/linear_model/coordinate_descent.py:475: ConvergenceWarning: Objective did not converge. You might want to increase the number of iterations. Duality gap: 334516881331220.3, tolerance: 5772225505213.152\n",
      "  positive)\n"
     ]
    },
    {
     "data": {
      "text/plain": [
       "{'explained_variance': 0.9881,\n",
       " 'r2': 0.9872,\n",
       " 'MAE': 72255.3887,\n",
       " 'MSE': 30266469971.456,\n",
       " 'RMSE': 173972.6127}"
      ]
     },
     "execution_count": 23,
     "metadata": {},
     "output_type": "execute_result"
    }
   ],
   "source": [
    "# single fit\n",
    "lassoreg = Lasso()\n",
    "lassoreg.fit(train_pipe, train_lab)\n",
    "test_pred_lasso = lassoreg.predict(test_pipe)\n",
    "regression_results(test_lab, test_pred_lasso)"
   ]
  },
  {
   "cell_type": "code",
   "execution_count": 24,
   "metadata": {},
   "outputs": [
    {
     "name": "stderr",
     "output_type": "stream",
     "text": [
      "/Users/niko/opt/anaconda3/lib/python3.7/site-packages/sklearn/linear_model/coordinate_descent.py:475: ConvergenceWarning: Objective did not converge. You might want to increase the number of iterations. Duality gap: 5687585503273.344, tolerance: 1608331007322.793\n",
      "  positive)\n",
      "/Users/niko/opt/anaconda3/lib/python3.7/site-packages/sklearn/linear_model/coordinate_descent.py:475: ConvergenceWarning: Objective did not converge. You might want to increase the number of iterations. Duality gap: 144824700210131.84, tolerance: 2486474291108.579\n",
      "  positive)\n",
      "/Users/niko/opt/anaconda3/lib/python3.7/site-packages/sklearn/linear_model/coordinate_descent.py:475: ConvergenceWarning: Objective did not converge. You might want to increase the number of iterations. Duality gap: 28146278901258.312, tolerance: 3429120602395.4688\n",
      "  positive)\n",
      "/Users/niko/opt/anaconda3/lib/python3.7/site-packages/sklearn/linear_model/coordinate_descent.py:475: ConvergenceWarning: Objective did not converge. You might want to increase the number of iterations. Duality gap: 132907821352820.75, tolerance: 4341481215237.294\n",
      "  positive)\n",
      "/Users/niko/opt/anaconda3/lib/python3.7/site-packages/sklearn/linear_model/coordinate_descent.py:475: ConvergenceWarning: Objective did not converge. You might want to increase the number of iterations. Duality gap: 329781811795067.25, tolerance: 5336511162825.121\n",
      "  positive)\n"
     ]
    },
    {
     "name": "stdout",
     "output_type": "stream",
     "text": [
      "Mean negative MSE from LASSO CV: -56349565558.83195\n"
     ]
    }
   ],
   "source": [
    "# x-val\n",
    "lasso_kfold_pipe = make_pipeline(pipe, lassoreg)\n",
    "lasso_result_kfold = cross_val_score(lasso_kfold_pipe, \n",
    "                                    cookies_x, cookies_y, cv = tscv, \n",
    "                                    scoring = 'neg_mean_squared_error')\n",
    "\n",
    "nmse_lasso = lasso_result_kfold.mean()\n",
    "print(\"Mean negative MSE from LASSO CV: \" + str(lasso_result_kfold.mean()))"
   ]
  },
  {
   "cell_type": "code",
   "execution_count": 25,
   "metadata": {},
   "outputs": [
    {
     "name": "stdout",
     "output_type": "stream",
     "text": [
      "                        feature          beta\n",
      "28  generic_vendor_cross_flower -19125.860146\n",
      "7                   mood_effect  -7331.386936\n",
      "1               rolling_avg_ARP  -4445.786807\n",
      "8                       tot_THC  -2765.043037\n",
      "2                 generic_items  -2548.024578\n",
      "                  feature          beta\n",
      "22  Dabbable Concentrates  3.635595e+03\n",
      "21                   Vape  4.129247e+03\n",
      "27         THC_cross_mood  6.114038e+03\n",
      "14             other_cat1  1.560850e+04\n",
      "0    rolling_avg_totSales  1.747930e+06\n",
      "       feature  beta\n",
      "20  other_cat2  -0.0\n"
     ]
    }
   ],
   "source": [
    "# check which features were most important, or were zeroed out\n",
    "betadf = pd.DataFrame({'feature': train.columns, \n",
    "                        'beta': lassoreg.coef_})\n",
    "betadf = betadf.sort_values(by = 'beta')\n",
    "print(betadf.head())\n",
    "print(betadf.tail())\n",
    "print(betadf[betadf['beta'] == 0])"
   ]
  },
  {
   "cell_type": "markdown",
   "metadata": {},
   "source": [
    "#### Figure 5"
   ]
  },
  {
   "cell_type": "code",
   "execution_count": 26,
   "metadata": {},
   "outputs": [
    {
     "data": {
      "text/plain": [
       "[Text(0, 0, 'generic_vendor_cross_flower'),\n",
       " Text(0, 0, 'mood_effect'),\n",
       " Text(0, 0, 'rolling_avg_ARP'),\n",
       " Text(0, 0, 'tot_THC'),\n",
       " Text(0, 0, 'generic_items'),\n",
       " Text(0, 0, 'Flower'),\n",
       " Text(0, 0, 'other_cat3'),\n",
       " Text(0, 0, 'Inhaleables'),\n",
       " Text(0, 0, 'All Accessories'),\n",
       " Text(0, 0, 'Concentrates'),\n",
       " Text(0, 0, 'Sublinguals'),\n",
       " Text(0, 0, 'cont_CBD'),\n",
       " Text(0, 0, 'generic_vendor'),\n",
       " Text(0, 0, 'other_cat2'),\n",
       " Text(0, 0, 'Topicals'),\n",
       " Text(0, 0, 'Ingestibles'),\n",
       " Text(0, 0, 'Infused Pre-Rolled'),\n",
       " Text(0, 0, 'Edibles'),\n",
       " Text(0, 0, 'tot_CBD'),\n",
       " Text(0, 0, 'Pre-Rolled'),\n",
       " Text(0, 0, 'Hybrid'),\n",
       " Text(0, 0, 'Other Cannabis'),\n",
       " Text(0, 0, 'items_per_pack'),\n",
       " Text(0, 0, 'Dabbable Concentrates'),\n",
       " Text(0, 0, 'Vape'),\n",
       " Text(0, 0, 'THC_cross_mood'),\n",
       " Text(0, 0, 'other_cat1'),\n",
       " Text(0, 0, 'rolling_avg_totSales')]"
      ]
     },
     "execution_count": 26,
     "metadata": {},
     "output_type": "execute_result"
    },
    {
     "data": {
      "image/png": "[encoded data removed]",
      "text/plain": [
       "<Figure size 640x480 with 1 Axes>"
      ]
     },
     "metadata": {},
     "output_type": "display_data"
    }
   ],
   "source": [
    "betaplot = sns.barplot('feature', 'beta', data = betadf)\n",
    "betaplot.set_xticklabels(betaplot.get_xticklabels(),rotation = 90)"
   ]
  },
  {
   "cell_type": "markdown",
   "metadata": {},
   "source": [
    "### Regression on PCs"
   ]
  },
  {
   "cell_type": "code",
   "execution_count": 27,
   "metadata": {},
   "outputs": [
    {
     "data": {
      "text/html": [
       "<div>\n",
       "<style scoped>\n",
       "    .dataframe tbody tr th:only-of-type {\n",
       "        vertical-align: middle;\n",
       "    }\n",
       "\n",
       "    .dataframe tbody tr th {\n",
       "        vertical-align: top;\n",
       "    }\n",
       "\n",
       "    .dataframe thead th {\n",
       "        text-align: right;\n",
       "    }\n",
       "</style>\n",
       "<table border=\"1\" class=\"dataframe\">\n",
       "  <thead>\n",
       "    <tr style=\"text-align: right;\">\n",
       "      <th></th>\n",
       "      <th>Months</th>\n",
       "      <th>Brand</th>\n",
       "      <th>totSales</th>\n",
       "      <th>0</th>\n",
       "      <th>1</th>\n",
       "      <th>2</th>\n",
       "      <th>3</th>\n",
       "      <th>4</th>\n",
       "      <th>5</th>\n",
       "      <th>6</th>\n",
       "      <th>7</th>\n",
       "      <th>8</th>\n",
       "      <th>9</th>\n",
       "    </tr>\n",
       "  </thead>\n",
       "  <tbody>\n",
       "    <tr>\n",
       "      <td>0</td>\n",
       "      <td>2018-10-01</td>\n",
       "      <td>Vet CBD</td>\n",
       "      <td>329857.741054</td>\n",
       "      <td>2.797215</td>\n",
       "      <td>0.331513</td>\n",
       "      <td>3.749931</td>\n",
       "      <td>1.057091</td>\n",
       "      <td>0.112494</td>\n",
       "      <td>-1.116979</td>\n",
       "      <td>-0.663338</td>\n",
       "      <td>4.353606</td>\n",
       "      <td>3.119711</td>\n",
       "      <td>2.756632</td>\n",
       "    </tr>\n",
       "    <tr>\n",
       "      <td>198</td>\n",
       "      <td>2018-10-01</td>\n",
       "      <td>ProCana (CA)</td>\n",
       "      <td>219261.440893</td>\n",
       "      <td>4.174209</td>\n",
       "      <td>-0.358779</td>\n",
       "      <td>-1.821920</td>\n",
       "      <td>-1.552975</td>\n",
       "      <td>-0.554267</td>\n",
       "      <td>1.235184</td>\n",
       "      <td>-0.674077</td>\n",
       "      <td>1.067862</td>\n",
       "      <td>-0.358339</td>\n",
       "      <td>-0.591005</td>\n",
       "    </tr>\n",
       "    <tr>\n",
       "      <td>197</td>\n",
       "      <td>2018-10-01</td>\n",
       "      <td>Nasha Extracts</td>\n",
       "      <td>615978.497305</td>\n",
       "      <td>-1.815186</td>\n",
       "      <td>2.673122</td>\n",
       "      <td>0.007791</td>\n",
       "      <td>-0.629707</td>\n",
       "      <td>-0.235753</td>\n",
       "      <td>-0.105993</td>\n",
       "      <td>-1.433847</td>\n",
       "      <td>-0.649676</td>\n",
       "      <td>0.863546</td>\n",
       "      <td>-0.430336</td>\n",
       "    </tr>\n",
       "    <tr>\n",
       "      <td>196</td>\n",
       "      <td>2018-10-01</td>\n",
       "      <td>Jade Nectar</td>\n",
       "      <td>399811.383476</td>\n",
       "      <td>5.035759</td>\n",
       "      <td>0.379636</td>\n",
       "      <td>-1.421118</td>\n",
       "      <td>0.804212</td>\n",
       "      <td>0.874121</td>\n",
       "      <td>-1.203935</td>\n",
       "      <td>-0.815573</td>\n",
       "      <td>-0.311491</td>\n",
       "      <td>-0.294936</td>\n",
       "      <td>0.897722</td>\n",
       "    </tr>\n",
       "    <tr>\n",
       "      <td>195</td>\n",
       "      <td>2018-10-01</td>\n",
       "      <td>Dr. Kerklaan Therapeutics</td>\n",
       "      <td>255384.457981</td>\n",
       "      <td>4.255862</td>\n",
       "      <td>0.705546</td>\n",
       "      <td>2.449942</td>\n",
       "      <td>2.661091</td>\n",
       "      <td>0.961465</td>\n",
       "      <td>-2.963885</td>\n",
       "      <td>-0.371805</td>\n",
       "      <td>1.919132</td>\n",
       "      <td>-0.349626</td>\n",
       "      <td>-2.411505</td>\n",
       "    </tr>\n",
       "    <tr>\n",
       "      <td>...</td>\n",
       "      <td>...</td>\n",
       "      <td>...</td>\n",
       "      <td>...</td>\n",
       "      <td>...</td>\n",
       "      <td>...</td>\n",
       "      <td>...</td>\n",
       "      <td>...</td>\n",
       "      <td>...</td>\n",
       "      <td>...</td>\n",
       "      <td>...</td>\n",
       "      <td>...</td>\n",
       "      <td>...</td>\n",
       "      <td>...</td>\n",
       "    </tr>\n",
       "    <tr>\n",
       "      <td>19809</td>\n",
       "      <td>2021-09-01</td>\n",
       "      <td>Clique Farming Co.</td>\n",
       "      <td>1624.752028</td>\n",
       "      <td>-1.991850</td>\n",
       "      <td>0.920543</td>\n",
       "      <td>-0.183531</td>\n",
       "      <td>-0.763589</td>\n",
       "      <td>0.011750</td>\n",
       "      <td>-0.542507</td>\n",
       "      <td>-0.996908</td>\n",
       "      <td>-0.598170</td>\n",
       "      <td>0.429390</td>\n",
       "      <td>-0.249615</td>\n",
       "    </tr>\n",
       "    <tr>\n",
       "      <td>19810</td>\n",
       "      <td>2021-09-01</td>\n",
       "      <td>Fruit Slabs</td>\n",
       "      <td>11671.601292</td>\n",
       "      <td>2.795208</td>\n",
       "      <td>-0.621223</td>\n",
       "      <td>-1.148614</td>\n",
       "      <td>-2.128314</td>\n",
       "      <td>-1.029215</td>\n",
       "      <td>1.755913</td>\n",
       "      <td>-0.110186</td>\n",
       "      <td>0.548376</td>\n",
       "      <td>-0.011884</td>\n",
       "      <td>-0.188776</td>\n",
       "    </tr>\n",
       "    <tr>\n",
       "      <td>19811</td>\n",
       "      <td>2021-09-01</td>\n",
       "      <td>Clix</td>\n",
       "      <td>6680.242886</td>\n",
       "      <td>-0.240090</td>\n",
       "      <td>-1.163514</td>\n",
       "      <td>-1.667158</td>\n",
       "      <td>2.605210</td>\n",
       "      <td>-1.436077</td>\n",
       "      <td>1.036598</td>\n",
       "      <td>1.060732</td>\n",
       "      <td>-0.585578</td>\n",
       "      <td>1.224595</td>\n",
       "      <td>-0.639434</td>\n",
       "    </tr>\n",
       "    <tr>\n",
       "      <td>19802</td>\n",
       "      <td>2021-09-01</td>\n",
       "      <td>Coastal Sun Cannabis</td>\n",
       "      <td>976385.483142</td>\n",
       "      <td>-1.950858</td>\n",
       "      <td>-2.153775</td>\n",
       "      <td>-0.452866</td>\n",
       "      <td>-0.944758</td>\n",
       "      <td>1.205169</td>\n",
       "      <td>-1.449520</td>\n",
       "      <td>0.150098</td>\n",
       "      <td>-0.105346</td>\n",
       "      <td>-0.198297</td>\n",
       "      <td>0.354683</td>\n",
       "    </tr>\n",
       "    <tr>\n",
       "      <td>20312</td>\n",
       "      <td>2021-09-01</td>\n",
       "      <td>Santa Cruz Roots</td>\n",
       "      <td>156660.034841</td>\n",
       "      <td>-1.935964</td>\n",
       "      <td>0.459095</td>\n",
       "      <td>-0.169441</td>\n",
       "      <td>-0.990166</td>\n",
       "      <td>0.479013</td>\n",
       "      <td>-0.753419</td>\n",
       "      <td>-0.172063</td>\n",
       "      <td>-0.276452</td>\n",
       "      <td>-0.204660</td>\n",
       "      <td>0.116501</td>\n",
       "    </tr>\n",
       "  </tbody>\n",
       "</table>\n",
       "<p>20313 rows × 13 columns</p>\n",
       "</div>"
      ],
      "text/plain": [
       "          Months                      Brand       totSales         0  \\\n",
       "0     2018-10-01                    Vet CBD  329857.741054  2.797215   \n",
       "198   2018-10-01               ProCana (CA)  219261.440893  4.174209   \n",
       "197   2018-10-01             Nasha Extracts  615978.497305 -1.815186   \n",
       "196   2018-10-01                Jade Nectar  399811.383476  5.035759   \n",
       "195   2018-10-01  Dr. Kerklaan Therapeutics  255384.457981  4.255862   \n",
       "...          ...                        ...            ...       ...   \n",
       "19809 2021-09-01         Clique Farming Co.    1624.752028 -1.991850   \n",
       "19810 2021-09-01                Fruit Slabs   11671.601292  2.795208   \n",
       "19811 2021-09-01                       Clix    6680.242886 -0.240090   \n",
       "19802 2021-09-01       Coastal Sun Cannabis  976385.483142 -1.950858   \n",
       "20312 2021-09-01          Santa Cruz Roots   156660.034841 -1.935964   \n",
       "\n",
       "              1         2         3         4         5         6         7  \\\n",
       "0      0.331513  3.749931  1.057091  0.112494 -1.116979 -0.663338  4.353606   \n",
       "198   -0.358779 -1.821920 -1.552975 -0.554267  1.235184 -0.674077  1.067862   \n",
       "197    2.673122  0.007791 -0.629707 -0.235753 -0.105993 -1.433847 -0.649676   \n",
       "196    0.379636 -1.421118  0.804212  0.874121 -1.203935 -0.815573 -0.311491   \n",
       "195    0.705546  2.449942  2.661091  0.961465 -2.963885 -0.371805  1.919132   \n",
       "...         ...       ...       ...       ...       ...       ...       ...   \n",
       "19809  0.920543 -0.183531 -0.763589  0.011750 -0.542507 -0.996908 -0.598170   \n",
       "19810 -0.621223 -1.148614 -2.128314 -1.029215  1.755913 -0.110186  0.548376   \n",
       "19811 -1.163514 -1.667158  2.605210 -1.436077  1.036598  1.060732 -0.585578   \n",
       "19802 -2.153775 -0.452866 -0.944758  1.205169 -1.449520  0.150098 -0.105346   \n",
       "20312  0.459095 -0.169441 -0.990166  0.479013 -0.753419 -0.172063 -0.276452   \n",
       "\n",
       "              8         9  \n",
       "0      3.119711  2.756632  \n",
       "198   -0.358339 -0.591005  \n",
       "197    0.863546 -0.430336  \n",
       "196   -0.294936  0.897722  \n",
       "195   -0.349626 -2.411505  \n",
       "...         ...       ...  \n",
       "19809  0.429390 -0.249615  \n",
       "19810 -0.011884 -0.188776  \n",
       "19811  1.224595 -0.639434  \n",
       "19802 -0.198297  0.354683  \n",
       "20312 -0.204660  0.116501  \n",
       "\n",
       "[20313 rows x 13 columns]"
      ]
     },
     "execution_count": 27,
     "metadata": {},
     "output_type": "execute_result"
    }
   ],
   "source": [
    "# get a dataframe together with the PCs and target variable\n",
    "# make sure it's sorted by month for train/test split\n",
    "pcdf = pd.concat([cookies[['Months', 'Brand', 'totSales']].reset_index(drop = True), pd.DataFrame(PCs).reset_index(drop = True)], axis = 1).sort_values(by = 'Months')\n",
    "pcdf # columns 0-9 are PC1-PC10"
   ]
  },
  {
   "cell_type": "code",
   "execution_count": 28,
   "metadata": {},
   "outputs": [
    {
     "name": "stdout",
     "output_type": "stream",
     "text": [
      "(18760, 10) (18760,)\n",
      "(1553, 10) (1553,)\n"
     ]
    }
   ],
   "source": [
    "# split PCs into one train and test set\n",
    "pcdf_y = pcdf.loc[:,'totSales']\n",
    "pcdf_x = pcdf.drop(['Months', 'Brand', 'totSales'], axis = 1)\n",
    "\n",
    "train_pc = pcdf_x.loc[pcdf['Months'] < cutoffdate]\n",
    "test_pc = pcdf_x.loc[pcdf['Months'] >= cutoffdate]\n",
    "train_lab_pc = pcdf_y.loc[pcdf['Months'] < cutoffdate]\n",
    "test_lab_pc = pcdf_y.loc[pcdf['Months'] >= cutoffdate]\n",
    "\n",
    "print(train_pc.shape, train_lab_pc.shape)\n",
    "print(test_pc.shape, test_lab_pc.shape)"
   ]
  },
  {
   "cell_type": "code",
   "execution_count": 29,
   "metadata": {},
   "outputs": [
    {
     "data": {
      "text/plain": [
       "{'explained_variance': 0.7558,\n",
       " 'r2': 0.7536,\n",
       " 'MAE': 339804.184,\n",
       " 'MSE': 584640196734.8615,\n",
       " 'RMSE': 764617.6801}"
      ]
     },
     "execution_count": 29,
     "metadata": {},
     "output_type": "execute_result"
    }
   ],
   "source": [
    "# fit an elasticnet model on the PCs\n",
    "pcreg = ElasticNet()\n",
    "pcreg.fit(train_pc, train_lab_pc)\n",
    "test_pred_pcreg = pcreg.predict(test_pc)\n",
    "regression_results(test_lab_pc, test_pred_pcreg)"
   ]
  },
  {
   "cell_type": "code",
   "execution_count": 30,
   "metadata": {},
   "outputs": [
    {
     "name": "stderr",
     "output_type": "stream",
     "text": [
      "/Users/niko/opt/anaconda3/lib/python3.7/site-packages/sklearn/linear_model/coordinate_descent.py:475: ConvergenceWarning: Objective did not converge. You might want to increase the number of iterations. Duality gap: 2401357849054968.0, tolerance: 1473487348148.05\n",
      "  positive)\n",
      "/Users/niko/opt/anaconda3/lib/python3.7/site-packages/sklearn/linear_model/coordinate_descent.py:475: ConvergenceWarning: Objective did not converge. You might want to increase the number of iterations. Duality gap: 4576568464310678.0, tolerance: 2572749070017.8306\n",
      "  positive)\n",
      "/Users/niko/opt/anaconda3/lib/python3.7/site-packages/sklearn/linear_model/coordinate_descent.py:475: ConvergenceWarning: Objective did not converge. You might want to increase the number of iterations. Duality gap: 6980641668985342.0, tolerance: 3596978872552.5327\n",
      "  positive)\n",
      "/Users/niko/opt/anaconda3/lib/python3.7/site-packages/sklearn/linear_model/coordinate_descent.py:475: ConvergenceWarning: Objective did not converge. You might want to increase the number of iterations. Duality gap: 9086496051255886.0, tolerance: 4466191010199.623\n",
      "  positive)\n",
      "/Users/niko/opt/anaconda3/lib/python3.7/site-packages/sklearn/linear_model/coordinate_descent.py:475: ConvergenceWarning: Objective did not converge. You might want to increase the number of iterations. Duality gap: 1.1377295757439928e+16, tolerance: 5230947835465.862\n",
      "  positive)\n",
      "/Users/niko/opt/anaconda3/lib/python3.7/site-packages/sklearn/linear_model/coordinate_descent.py:475: ConvergenceWarning: Objective did not converge. You might want to increase the number of iterations. Duality gap: 4872998540530142.0, tolerance: 1473487348148.05\n",
      "  positive)\n",
      "/Users/niko/opt/anaconda3/lib/python3.7/site-packages/sklearn/linear_model/coordinate_descent.py:475: ConvergenceWarning: Objective did not converge. You might want to increase the number of iterations. Duality gap: 8860503226783745.0, tolerance: 2572749070017.8306\n",
      "  positive)\n",
      "/Users/niko/opt/anaconda3/lib/python3.7/site-packages/sklearn/linear_model/coordinate_descent.py:475: ConvergenceWarning: Objective did not converge. You might want to increase the number of iterations. Duality gap: 1.2902663023205916e+16, tolerance: 3596978872552.5327\n",
      "  positive)\n",
      "/Users/niko/opt/anaconda3/lib/python3.7/site-packages/sklearn/linear_model/coordinate_descent.py:475: ConvergenceWarning: Objective did not converge. You might want to increase the number of iterations. Duality gap: 1.6398803044557832e+16, tolerance: 4466191010199.623\n",
      "  positive)\n",
      "/Users/niko/opt/anaconda3/lib/python3.7/site-packages/sklearn/linear_model/coordinate_descent.py:475: ConvergenceWarning: Objective did not converge. You might want to increase the number of iterations. Duality gap: 1.9802579998111812e+16, tolerance: 5230947835465.862\n",
      "  positive)\n",
      "/Users/niko/opt/anaconda3/lib/python3.7/site-packages/sklearn/linear_model/coordinate_descent.py:475: ConvergenceWarning: Objective did not converge. You might want to increase the number of iterations. Duality gap: 5824759163773190.0, tolerance: 1473487348148.05\n",
      "  positive)\n",
      "/Users/niko/opt/anaconda3/lib/python3.7/site-packages/sklearn/linear_model/coordinate_descent.py:475: ConvergenceWarning: Objective did not converge. You might want to increase the number of iterations. Duality gap: 1.0423948495850464e+16, tolerance: 2572749070017.8306\n",
      "  positive)\n",
      "/Users/niko/opt/anaconda3/lib/python3.7/site-packages/sklearn/linear_model/coordinate_descent.py:475: ConvergenceWarning: Objective did not converge. You might want to increase the number of iterations. Duality gap: 1.4936856249625772e+16, tolerance: 3596978872552.5327\n",
      "  positive)\n",
      "/Users/niko/opt/anaconda3/lib/python3.7/site-packages/sklearn/linear_model/coordinate_descent.py:475: ConvergenceWarning: Objective did not converge. You might want to increase the number of iterations. Duality gap: 1.881040625542226e+16, tolerance: 4466191010199.623\n",
      "  positive)\n",
      "/Users/niko/opt/anaconda3/lib/python3.7/site-packages/sklearn/linear_model/coordinate_descent.py:475: ConvergenceWarning: Objective did not converge. You might want to increase the number of iterations. Duality gap: 2.243507639263738e+16, tolerance: 5230947835465.862\n",
      "  positive)\n",
      "/Users/niko/opt/anaconda3/lib/python3.7/site-packages/sklearn/linear_model/coordinate_descent.py:475: ConvergenceWarning: Objective did not converge. You might want to increase the number of iterations. Duality gap: 7170770017467288.0, tolerance: 1473487348148.05\n",
      "  positive)\n",
      "/Users/niko/opt/anaconda3/lib/python3.7/site-packages/sklearn/linear_model/coordinate_descent.py:475: ConvergenceWarning: Objective did not converge. You might want to increase the number of iterations. Duality gap: 1.255894706209894e+16, tolerance: 2572749070017.8306\n",
      "  positive)\n",
      "/Users/niko/opt/anaconda3/lib/python3.7/site-packages/sklearn/linear_model/coordinate_descent.py:475: ConvergenceWarning: Objective did not converge. You might want to increase the number of iterations. Duality gap: 1.7612214466077064e+16, tolerance: 3596978872552.5327\n",
      "  positive)\n",
      "/Users/niko/opt/anaconda3/lib/python3.7/site-packages/sklearn/linear_model/coordinate_descent.py:475: ConvergenceWarning: Objective did not converge. You might want to increase the number of iterations. Duality gap: 2.1906379068864776e+16, tolerance: 4466191010199.623\n",
      "  positive)\n",
      "/Users/niko/opt/anaconda3/lib/python3.7/site-packages/sklearn/linear_model/coordinate_descent.py:475: ConvergenceWarning: Objective did not converge. You might want to increase the number of iterations. Duality gap: 2.5713744073867056e+16, tolerance: 5230947835465.862\n",
      "  positive)\n"
     ]
    },
    {
     "data": {
      "text/plain": [
       "GridSearchCV(cv=TimeSeriesSplit(max_train_size=None, n_splits=5),\n",
       "             error_score='raise-deprecating',\n",
       "             estimator=ElasticNet(alpha=1.0, copy_X=True, fit_intercept=True,\n",
       "                                  l1_ratio=0.5, max_iter=1000, normalize=False,\n",
       "                                  positive=False, precompute=False,\n",
       "                                  random_state=None, selection='cyclic',\n",
       "                                  tol=0.0001, warm_start=False),\n",
       "             iid='warn', n_jobs=None,\n",
       "             param_grid={'alpha': [1, 5, 10, 100],\n",
       "                         'l1_ratio': array([0. , 0.1, 0.2, 0.3, 0.4, 0.5, 0.6, 0.7, 0.8, 0.9])},\n",
       "             pre_dispatch='2*n_jobs', refit=True, return_train_score=False,\n",
       "             scoring='neg_mean_squared_error', verbose=0)"
      ]
     },
     "execution_count": 30,
     "metadata": {},
     "output_type": "execute_result"
    }
   ],
   "source": [
    "# do a cross-validation and grid search on lasso/ridge balance\n",
    "grid_pc = {'l1_ratio': np.arange(0., 1., 0.1),\n",
    "            'alpha': [1, 5, 10, 100]}\n",
    "\n",
    "gridsearch_pc = GridSearchCV(ElasticNet(), grid_pc, cv = tscv, scoring = 'neg_mean_squared_error')\n",
    "\n",
    "gridsearch_pc.fit(pcdf_x, pcdf_y)"
   ]
  },
  {
   "cell_type": "code",
   "execution_count": 31,
   "metadata": {},
   "outputs": [
    {
     "name": "stdout",
     "output_type": "stream",
     "text": [
      "-467910236015.063\n",
      "{'alpha': 1, 'l1_ratio': 0.9}\n"
     ]
    }
   ],
   "source": [
    "nmse_pc = gridsearch_pc.best_score_\n",
    "\n",
    "print(gridsearch_pc.best_score_)\n",
    "print(gridsearch_pc.best_params_)"
   ]
  },
  {
   "cell_type": "markdown",
   "metadata": {},
   "source": [
    "### Neural net"
   ]
  },
  {
   "cell_type": "code",
   "execution_count": 32,
   "metadata": {},
   "outputs": [
    {
     "name": "stderr",
     "output_type": "stream",
     "text": [
      "/Users/niko/opt/anaconda3/lib/python3.7/site-packages/sklearn/neural_network/multilayer_perceptron.py:566: ConvergenceWarning: Stochastic Optimizer: Maximum iterations (200) reached and the optimization hasn't converged yet.\n",
      "  % self.max_iter, ConvergenceWarning)\n"
     ]
    },
    {
     "data": {
      "text/plain": [
       "{'explained_variance': 0.0448,\n",
       " 'r2': 0.0179,\n",
       " 'MAE': 386245.895,\n",
       " 'MSE': 2330715775076.726,\n",
       " 'RMSE': 1526668.1942}"
      ]
     },
     "execution_count": 32,
     "metadata": {},
     "output_type": "execute_result"
    }
   ],
   "source": [
    "# single fit\n",
    "nn = MLPRegressor()\n",
    "nn.fit(train_pipe, train_lab)\n",
    "test_pred_nn = nn.predict(test_pipe)\n",
    "regression_results(test_lab, test_pred_nn)"
   ]
  },
  {
   "cell_type": "code",
   "execution_count": 33,
   "metadata": {},
   "outputs": [
    {
     "name": "stderr",
     "output_type": "stream",
     "text": [
      "/Users/niko/opt/anaconda3/lib/python3.7/site-packages/sklearn/neural_network/multilayer_perceptron.py:566: ConvergenceWarning: Stochastic Optimizer: Maximum iterations (5) reached and the optimization hasn't converged yet.\n",
      "  % self.max_iter, ConvergenceWarning)\n",
      "/Users/niko/opt/anaconda3/lib/python3.7/site-packages/sklearn/neural_network/multilayer_perceptron.py:566: ConvergenceWarning: Stochastic Optimizer: Maximum iterations (5) reached and the optimization hasn't converged yet.\n",
      "  % self.max_iter, ConvergenceWarning)\n",
      "/Users/niko/opt/anaconda3/lib/python3.7/site-packages/sklearn/neural_network/multilayer_perceptron.py:566: ConvergenceWarning: Stochastic Optimizer: Maximum iterations (5) reached and the optimization hasn't converged yet.\n",
      "  % self.max_iter, ConvergenceWarning)\n",
      "/Users/niko/opt/anaconda3/lib/python3.7/site-packages/sklearn/neural_network/multilayer_perceptron.py:566: ConvergenceWarning: Stochastic Optimizer: Maximum iterations (5) reached and the optimization hasn't converged yet.\n",
      "  % self.max_iter, ConvergenceWarning)\n",
      "/Users/niko/opt/anaconda3/lib/python3.7/site-packages/sklearn/neural_network/multilayer_perceptron.py:566: ConvergenceWarning: Stochastic Optimizer: Maximum iterations (5) reached and the optimization hasn't converged yet.\n",
      "  % self.max_iter, ConvergenceWarning)\n",
      "/Users/niko/opt/anaconda3/lib/python3.7/site-packages/sklearn/neural_network/multilayer_perceptron.py:566: ConvergenceWarning: Stochastic Optimizer: Maximum iterations (10) reached and the optimization hasn't converged yet.\n",
      "  % self.max_iter, ConvergenceWarning)\n",
      "/Users/niko/opt/anaconda3/lib/python3.7/site-packages/sklearn/neural_network/multilayer_perceptron.py:566: ConvergenceWarning: Stochastic Optimizer: Maximum iterations (10) reached and the optimization hasn't converged yet.\n",
      "  % self.max_iter, ConvergenceWarning)\n",
      "/Users/niko/opt/anaconda3/lib/python3.7/site-packages/sklearn/neural_network/multilayer_perceptron.py:566: ConvergenceWarning: Stochastic Optimizer: Maximum iterations (10) reached and the optimization hasn't converged yet.\n",
      "  % self.max_iter, ConvergenceWarning)\n",
      "/Users/niko/opt/anaconda3/lib/python3.7/site-packages/sklearn/neural_network/multilayer_perceptron.py:566: ConvergenceWarning: Stochastic Optimizer: Maximum iterations (10) reached and the optimization hasn't converged yet.\n",
      "  % self.max_iter, ConvergenceWarning)\n",
      "/Users/niko/opt/anaconda3/lib/python3.7/site-packages/sklearn/neural_network/multilayer_perceptron.py:566: ConvergenceWarning: Stochastic Optimizer: Maximum iterations (10) reached and the optimization hasn't converged yet.\n",
      "  % self.max_iter, ConvergenceWarning)\n",
      "/Users/niko/opt/anaconda3/lib/python3.7/site-packages/sklearn/neural_network/multilayer_perceptron.py:566: ConvergenceWarning: Stochastic Optimizer: Maximum iterations (50) reached and the optimization hasn't converged yet.\n",
      "  % self.max_iter, ConvergenceWarning)\n",
      "/Users/niko/opt/anaconda3/lib/python3.7/site-packages/sklearn/neural_network/multilayer_perceptron.py:566: ConvergenceWarning: Stochastic Optimizer: Maximum iterations (5) reached and the optimization hasn't converged yet.\n",
      "  % self.max_iter, ConvergenceWarning)\n",
      "/Users/niko/opt/anaconda3/lib/python3.7/site-packages/sklearn/neural_network/multilayer_perceptron.py:566: ConvergenceWarning: Stochastic Optimizer: Maximum iterations (5) reached and the optimization hasn't converged yet.\n",
      "  % self.max_iter, ConvergenceWarning)\n",
      "/Users/niko/opt/anaconda3/lib/python3.7/site-packages/sklearn/neural_network/multilayer_perceptron.py:566: ConvergenceWarning: Stochastic Optimizer: Maximum iterations (5) reached and the optimization hasn't converged yet.\n",
      "  % self.max_iter, ConvergenceWarning)\n",
      "/Users/niko/opt/anaconda3/lib/python3.7/site-packages/sklearn/neural_network/multilayer_perceptron.py:566: ConvergenceWarning: Stochastic Optimizer: Maximum iterations (5) reached and the optimization hasn't converged yet.\n",
      "  % self.max_iter, ConvergenceWarning)\n",
      "/Users/niko/opt/anaconda3/lib/python3.7/site-packages/sklearn/neural_network/multilayer_perceptron.py:566: ConvergenceWarning: Stochastic Optimizer: Maximum iterations (5) reached and the optimization hasn't converged yet.\n",
      "  % self.max_iter, ConvergenceWarning)\n",
      "/Users/niko/opt/anaconda3/lib/python3.7/site-packages/sklearn/neural_network/multilayer_perceptron.py:566: ConvergenceWarning: Stochastic Optimizer: Maximum iterations (10) reached and the optimization hasn't converged yet.\n",
      "  % self.max_iter, ConvergenceWarning)\n",
      "/Users/niko/opt/anaconda3/lib/python3.7/site-packages/sklearn/neural_network/multilayer_perceptron.py:566: ConvergenceWarning: Stochastic Optimizer: Maximum iterations (10) reached and the optimization hasn't converged yet.\n",
      "  % self.max_iter, ConvergenceWarning)\n",
      "/Users/niko/opt/anaconda3/lib/python3.7/site-packages/sklearn/neural_network/multilayer_perceptron.py:566: ConvergenceWarning: Stochastic Optimizer: Maximum iterations (10) reached and the optimization hasn't converged yet.\n",
      "  % self.max_iter, ConvergenceWarning)\n",
      "/Users/niko/opt/anaconda3/lib/python3.7/site-packages/sklearn/neural_network/multilayer_perceptron.py:566: ConvergenceWarning: Stochastic Optimizer: Maximum iterations (10) reached and the optimization hasn't converged yet.\n",
      "  % self.max_iter, ConvergenceWarning)\n",
      "/Users/niko/opt/anaconda3/lib/python3.7/site-packages/sklearn/neural_network/multilayer_perceptron.py:566: ConvergenceWarning: Stochastic Optimizer: Maximum iterations (10) reached and the optimization hasn't converged yet.\n",
      "  % self.max_iter, ConvergenceWarning)\n",
      "/Users/niko/opt/anaconda3/lib/python3.7/site-packages/sklearn/neural_network/multilayer_perceptron.py:566: ConvergenceWarning: Stochastic Optimizer: Maximum iterations (5) reached and the optimization hasn't converged yet.\n",
      "  % self.max_iter, ConvergenceWarning)\n",
      "/Users/niko/opt/anaconda3/lib/python3.7/site-packages/sklearn/neural_network/multilayer_perceptron.py:566: ConvergenceWarning: Stochastic Optimizer: Maximum iterations (5) reached and the optimization hasn't converged yet.\n",
      "  % self.max_iter, ConvergenceWarning)\n",
      "/Users/niko/opt/anaconda3/lib/python3.7/site-packages/sklearn/neural_network/multilayer_perceptron.py:566: ConvergenceWarning: Stochastic Optimizer: Maximum iterations (5) reached and the optimization hasn't converged yet.\n",
      "  % self.max_iter, ConvergenceWarning)\n",
      "/Users/niko/opt/anaconda3/lib/python3.7/site-packages/sklearn/neural_network/multilayer_perceptron.py:566: ConvergenceWarning: Stochastic Optimizer: Maximum iterations (5) reached and the optimization hasn't converged yet.\n",
      "  % self.max_iter, ConvergenceWarning)\n",
      "/Users/niko/opt/anaconda3/lib/python3.7/site-packages/sklearn/neural_network/multilayer_perceptron.py:566: ConvergenceWarning: Stochastic Optimizer: Maximum iterations (5) reached and the optimization hasn't converged yet.\n",
      "  % self.max_iter, ConvergenceWarning)\n",
      "/Users/niko/opt/anaconda3/lib/python3.7/site-packages/sklearn/neural_network/multilayer_perceptron.py:566: ConvergenceWarning: Stochastic Optimizer: Maximum iterations (10) reached and the optimization hasn't converged yet.\n",
      "  % self.max_iter, ConvergenceWarning)\n",
      "/Users/niko/opt/anaconda3/lib/python3.7/site-packages/sklearn/neural_network/multilayer_perceptron.py:566: ConvergenceWarning: Stochastic Optimizer: Maximum iterations (10) reached and the optimization hasn't converged yet.\n",
      "  % self.max_iter, ConvergenceWarning)\n",
      "/Users/niko/opt/anaconda3/lib/python3.7/site-packages/sklearn/neural_network/multilayer_perceptron.py:566: ConvergenceWarning: Stochastic Optimizer: Maximum iterations (10) reached and the optimization hasn't converged yet.\n",
      "  % self.max_iter, ConvergenceWarning)\n",
      "/Users/niko/opt/anaconda3/lib/python3.7/site-packages/sklearn/neural_network/multilayer_perceptron.py:566: ConvergenceWarning: Stochastic Optimizer: Maximum iterations (10) reached and the optimization hasn't converged yet.\n",
      "  % self.max_iter, ConvergenceWarning)\n",
      "/Users/niko/opt/anaconda3/lib/python3.7/site-packages/sklearn/neural_network/multilayer_perceptron.py:566: ConvergenceWarning: Stochastic Optimizer: Maximum iterations (10) reached and the optimization hasn't converged yet.\n",
      "  % self.max_iter, ConvergenceWarning)\n",
      "/Users/niko/opt/anaconda3/lib/python3.7/site-packages/sklearn/neural_network/multilayer_perceptron.py:566: ConvergenceWarning: Stochastic Optimizer: Maximum iterations (5) reached and the optimization hasn't converged yet.\n",
      "  % self.max_iter, ConvergenceWarning)\n",
      "/Users/niko/opt/anaconda3/lib/python3.7/site-packages/sklearn/neural_network/multilayer_perceptron.py:566: ConvergenceWarning: Stochastic Optimizer: Maximum iterations (5) reached and the optimization hasn't converged yet.\n",
      "  % self.max_iter, ConvergenceWarning)\n",
      "/Users/niko/opt/anaconda3/lib/python3.7/site-packages/sklearn/neural_network/multilayer_perceptron.py:566: ConvergenceWarning: Stochastic Optimizer: Maximum iterations (5) reached and the optimization hasn't converged yet.\n",
      "  % self.max_iter, ConvergenceWarning)\n",
      "/Users/niko/opt/anaconda3/lib/python3.7/site-packages/sklearn/neural_network/multilayer_perceptron.py:566: ConvergenceWarning: Stochastic Optimizer: Maximum iterations (5) reached and the optimization hasn't converged yet.\n",
      "  % self.max_iter, ConvergenceWarning)\n",
      "/Users/niko/opt/anaconda3/lib/python3.7/site-packages/sklearn/neural_network/multilayer_perceptron.py:566: ConvergenceWarning: Stochastic Optimizer: Maximum iterations (5) reached and the optimization hasn't converged yet.\n",
      "  % self.max_iter, ConvergenceWarning)\n",
      "/Users/niko/opt/anaconda3/lib/python3.7/site-packages/sklearn/neural_network/multilayer_perceptron.py:566: ConvergenceWarning: Stochastic Optimizer: Maximum iterations (10) reached and the optimization hasn't converged yet.\n",
      "  % self.max_iter, ConvergenceWarning)\n",
      "/Users/niko/opt/anaconda3/lib/python3.7/site-packages/sklearn/neural_network/multilayer_perceptron.py:566: ConvergenceWarning: Stochastic Optimizer: Maximum iterations (10) reached and the optimization hasn't converged yet.\n",
      "  % self.max_iter, ConvergenceWarning)\n",
      "/Users/niko/opt/anaconda3/lib/python3.7/site-packages/sklearn/neural_network/multilayer_perceptron.py:566: ConvergenceWarning: Stochastic Optimizer: Maximum iterations (10) reached and the optimization hasn't converged yet.\n",
      "  % self.max_iter, ConvergenceWarning)\n",
      "/Users/niko/opt/anaconda3/lib/python3.7/site-packages/sklearn/neural_network/multilayer_perceptron.py:566: ConvergenceWarning: Stochastic Optimizer: Maximum iterations (10) reached and the optimization hasn't converged yet.\n",
      "  % self.max_iter, ConvergenceWarning)\n",
      "/Users/niko/opt/anaconda3/lib/python3.7/site-packages/sklearn/neural_network/multilayer_perceptron.py:566: ConvergenceWarning: Stochastic Optimizer: Maximum iterations (10) reached and the optimization hasn't converged yet.\n",
      "  % self.max_iter, ConvergenceWarning)\n"
     ]
    },
    {
     "name": "stdout",
     "output_type": "stream",
     "text": [
      "-53849868167.59598\n",
      "{'hidden_layer_sizes': 100, 'max_iter': 100}\n"
     ]
    }
   ],
   "source": [
    "# x-val grid search\n",
    "grid_nn = {'hidden_layer_sizes': [10, 50, 100, 200], \n",
    "            'max_iter': [5, 10, 50, 100, 200]}\n",
    "\n",
    "gridsearch_nn = GridSearchCV(MLPRegressor(), grid_nn, cv = tscv, scoring = 'neg_mean_squared_error')\n",
    "gridsearch_nn.fit(cookies_x, cookies_y)\n",
    "\n",
    "nmse_nn = gridsearch_nn.best_score_\n",
    "\n",
    "print(gridsearch_nn.best_score_)\n",
    "print(gridsearch_nn.best_params_)"
   ]
  },
  {
   "cell_type": "markdown",
   "metadata": {},
   "source": [
    "## Compare all the models"
   ]
  },
  {
   "cell_type": "markdown",
   "metadata": {},
   "source": [
    "#### Table 1"
   ]
  },
  {
   "cell_type": "code",
   "execution_count": 34,
   "metadata": {},
   "outputs": [
    {
     "data": {
      "text/html": [
       "<div>\n",
       "<style scoped>\n",
       "    .dataframe tbody tr th:only-of-type {\n",
       "        vertical-align: middle;\n",
       "    }\n",
       "\n",
       "    .dataframe tbody tr th {\n",
       "        vertical-align: top;\n",
       "    }\n",
       "\n",
       "    .dataframe thead th {\n",
       "        text-align: right;\n",
       "    }\n",
       "</style>\n",
       "<table border=\"1\" class=\"dataframe\">\n",
       "  <thead>\n",
       "    <tr style=\"text-align: right;\">\n",
       "      <th></th>\n",
       "      <th>model</th>\n",
       "      <th>NMSE</th>\n",
       "    </tr>\n",
       "  </thead>\n",
       "  <tbody>\n",
       "    <tr>\n",
       "      <td>0</td>\n",
       "      <td>PC lasso</td>\n",
       "      <td>-4.679102e+11</td>\n",
       "    </tr>\n",
       "    <tr>\n",
       "      <td>1</td>\n",
       "      <td>random forest</td>\n",
       "      <td>-6.521408e+10</td>\n",
       "    </tr>\n",
       "    <tr>\n",
       "      <td>2</td>\n",
       "      <td>linear regression</td>\n",
       "      <td>-5.634972e+10</td>\n",
       "    </tr>\n",
       "    <tr>\n",
       "      <td>3</td>\n",
       "      <td>lasso</td>\n",
       "      <td>-5.634957e+10</td>\n",
       "    </tr>\n",
       "    <tr>\n",
       "      <td>4</td>\n",
       "      <td>neural net</td>\n",
       "      <td>-5.384987e+10</td>\n",
       "    </tr>\n",
       "  </tbody>\n",
       "</table>\n",
       "</div>"
      ],
      "text/plain": [
       "               model          NMSE\n",
       "0           PC lasso -4.679102e+11\n",
       "1      random forest -6.521408e+10\n",
       "2  linear regression -5.634972e+10\n",
       "3              lasso -5.634957e+10\n",
       "4         neural net -5.384987e+10"
      ]
     },
     "execution_count": 34,
     "metadata": {},
     "output_type": "execute_result"
    }
   ],
   "source": [
    "modelnames = ['linear regression', 'random forest', 'lasso', 'PC lasso', 'neural net']\n",
    "allnmse = [nmse_linreg, nmse_rf, nmse_lasso, nmse_pc, nmse_nn]\n",
    "\n",
    "modelcomp = pd.DataFrame({'model': modelnames, 'NMSE': allnmse}).sort_values(by = 'NMSE').reset_index(drop = True)\n",
    "modelcomp"
   ]
  },
  {
   "cell_type": "markdown",
   "metadata": {},
   "source": [
    "#### Figure 4"
   ]
  },
  {
   "cell_type": "code",
   "execution_count": 35,
   "metadata": {},
   "outputs": [
    {
     "data": {
      "text/plain": [
       "[Text(0, 0, 'PC lasso'),\n",
       " Text(0, 0, 'random forest'),\n",
       " Text(0, 0, 'linear regression'),\n",
       " Text(0, 0, 'lasso'),\n",
       " Text(0, 0, 'neural net')]"
      ]
     },
     "execution_count": 35,
     "metadata": {},
     "output_type": "execute_result"
    },
    {
     "data": {
      "image/png": "[encoded data removed]",
      "text/plain": [
       "<Figure size 640x480 with 1 Axes>"
      ]
     },
     "metadata": {},
     "output_type": "display_data"
    }
   ],
   "source": [
    "compplot = sns.barplot('model', 'NMSE', data = modelcomp)\n",
    "compplot.set_xticklabels(compplot.get_xticklabels(),rotation = 90)"
   ]
  }
 ],
 "metadata": {
  "interpreter": {
   "hash": "6e627bd2c60410300477598623bd77bd77cdda4382d2d82689b452b6deecd781"
  },
  "kernelspec": {
   "display_name": "Python 3.7.4 64-bit ('base': conda)",
   "name": "python3"
  },
  "language_info": {
   "codemirror_mode": {
    "name": "ipython",
    "version": 3
   },
   "file_extension": ".py",
   "mimetype": "text/x-python",
   "name": "python",
   "nbconvert_exporter": "python",
   "pygments_lexer": "ipython3",
   "version": "3.7.4"
  },
  "orig_nbformat": 4
 },
 "nbformat": 4,
 "nbformat_minor": 2
}
